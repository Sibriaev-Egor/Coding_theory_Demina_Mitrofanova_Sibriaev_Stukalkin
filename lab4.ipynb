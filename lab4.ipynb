{
  "nbformat": 4,
  "nbformat_minor": 0,
  "metadata": {
    "colab": {
      "provenance": []
    },
    "kernelspec": {
      "name": "python3",
      "display_name": "Python 3"
    },
    "language_info": {
      "name": "python"
    }
  },
  "cells": [
    {
      "cell_type": "markdown",
      "source": [
        "**Часть 1**"
      ],
      "metadata": {
        "id": "L-NC0QO60tGV"
      }
    },
    {
      "cell_type": "code",
      "source": [
        "import numpy as np\n",
        "n, k, d = 24, 12, 8"
      ],
      "metadata": {
        "id": "d9voEs616lOh"
      },
      "execution_count": 2,
      "outputs": []
    },
    {
      "cell_type": "markdown",
      "source": [
        "**4.1 Написать функцию формирования порождающей и проверочной матриц расширенного кода Голея (24,12,8).**"
      ],
      "metadata": {
        "id": "Av1Or7fe6tly"
      }
    },
    {
      "cell_type": "code",
      "source": [
        "#необходимые для работы функции\n",
        "def create_H(b_matr):\n",
        "    H = np.zeros((n, k), dtype=int)\n",
        "    for i in range(k):\n",
        "        H[i][i] = 1\n",
        "    H[k:, :] = b_matr\n",
        "    return H\n",
        "\n",
        "\n",
        "def create_G(H):\n",
        "    G = np.zeros((k, n), dtype=int)\n",
        "    for i in range(k):\n",
        "        G[i][i] = 1\n",
        "    G[:, k:] = H[k:, :]\n",
        "    return G\n",
        "\n",
        "\n",
        "def create_B() -> np.ndarray:\n",
        "    rolled_mas = np.array([1, 1, 0, 1, 1, 1, 0, 0, 0, 1, 0])\n",
        "    result = np.zeros((11, 11), dtype=int)\n",
        "    result[0] = rolled_mas\n",
        "    for i in range(1, k-1):\n",
        "        rolled_mas = np.roll(rolled_mas, -1)\n",
        "        result[i] = rolled_mas\n",
        "\n",
        "    last_row_col = np.array([1, 1, 1, 1, 1, 1, 1, 1, 1, 1, 1])\n",
        "\n",
        "    result = np.r_[result, [last_row_col]]\n",
        "    last_row_col = np.append(last_row_col, 0)\n",
        "    result = np.column_stack((result, last_row_col))\n",
        "    return result"
      ],
      "metadata": {
        "id": "KfpqnRZb7JJZ"
      },
      "execution_count": 3,
      "outputs": []
    },
    {
      "cell_type": "code",
      "source": [
        "def hemming_weight(word):\n",
        "  return np.sum(word)\n",
        "    # return np.count_nonzero(word == 1)\n",
        "\n",
        "\n",
        "def golay_approach(H, B, err_code):\n",
        "    syndrome = np.dot(err_code, H) % 2\n",
        "    print(f'Синдром ошибки: {syndrome}')\n",
        "    if hemming_weight(syndrome) <= 3:\n",
        "        print(\"Вес Хэмминга синдрома меньше или равен 3\")\n",
        "        caught_error = np.zeros(24, dtype=int)\n",
        "        caught_error[:12] = syndrome\n",
        "        print(f'Ошибка: {caught_error}')\n",
        "        correct_word = caught_error ^ err_code\n",
        "        return correct_word[:12]\n",
        "    else:\n",
        "        print(\"Вес Хэмминга синдрома больше 3\")\n",
        "        for i in range(12):\n",
        "            if hemming_weight(syndrome ^ B[i][:]) <= 2:\n",
        "                print(f'Существует строка {i} матрицы B, такая, что wt(s+b[i]) <=2')\n",
        "                caught_error = np.zeros(24, dtype=int)\n",
        "                caught_error[12+i] = 1\n",
        "                caught_error[:12] = syndrome ^ B[i][:]\n",
        "                print(f'Ошибка: {caught_error}')\n",
        "                correct_word = caught_error ^ err_code\n",
        "                return correct_word[:12]\n",
        "\n",
        "        print('Не существует строк матрицы B, таких, что wt(s+b[i]) <=2')\n",
        "        second_syndrome = np.dot(syndrome, B) % 2\n",
        "        if hemming_weight(second_syndrome) <= 3:\n",
        "            print(\"Вес Хэмминга второго синдрома(s*B) меньше или равен 3\")\n",
        "            caught_error = np.zeros(24, dtype=int)\n",
        "            caught_error[12:] = second_syndrome\n",
        "            print(f'Ошибка: {caught_error}')\n",
        "            correct_word = caught_error ^ err_code\n",
        "            return correct_word[:12]\n",
        "        else:\n",
        "            print(\"Вес Хэмминга второго синдрома(s*B) больше 3\")\n",
        "            for i in range(12):\n",
        "                if hemming_weight(second_syndrome ^ B[i][:]) <= 2:\n",
        "                    print(f'Существует строка {i} матрицы B, такая, что wt(s*B+b[i]) <=2')\n",
        "                    caught_error = np.zeros(24, dtype=int)\n",
        "                    caught_error[i] = 1\n",
        "                    caught_error[12:] = second_syndrome ^ B[i][:]\n",
        "                    print(f'Ошибка: {caught_error}')\n",
        "                    correct_word = caught_error ^ err_code\n",
        "                    return correct_word[:12]\n",
        "            print('Не существует строк матрицы B, таких, что wt(s*B+b[i]) <=2')\n",
        "    print(\"В коде от 4 до 7 ошибок.\")\n",
        "    return None\n"
      ],
      "metadata": {
        "id": "dJJTRo2hA4cK"
      },
      "execution_count": 4,
      "outputs": []
    },
    {
      "cell_type": "markdown",
      "source": [
        "**4.2. Провести исследование расширенного кода Голея для одно-, двух-, трёх- и четырёхкратных ошибок.**"
      ],
      "metadata": {
        "id": "hljCEqMB7a76"
      }
    },
    {
      "cell_type": "code",
      "source": [
        "print(f'n = {n}, k = {k}, d = {d}', end='\\n\\n')\n",
        "B = create_B()\n",
        "H = create_H(B)\n",
        "print(f' H = \\n{H}')\n",
        "G = create_G(H)\n",
        "print(f' G = \\n{G}\\n')"
      ],
      "metadata": {
        "colab": {
          "base_uri": "https://localhost:8080/"
        },
        "id": "3YGW0vcc7qA8",
        "outputId": "e3128ada-1867-41ef-9e86-5591c9132ed6"
      },
      "execution_count": 5,
      "outputs": [
        {
          "output_type": "stream",
          "name": "stdout",
          "text": [
            "n = 24, k = 12, d = 8\n",
            "\n",
            " H = \n",
            "[[1 0 0 0 0 0 0 0 0 0 0 0]\n",
            " [0 1 0 0 0 0 0 0 0 0 0 0]\n",
            " [0 0 1 0 0 0 0 0 0 0 0 0]\n",
            " [0 0 0 1 0 0 0 0 0 0 0 0]\n",
            " [0 0 0 0 1 0 0 0 0 0 0 0]\n",
            " [0 0 0 0 0 1 0 0 0 0 0 0]\n",
            " [0 0 0 0 0 0 1 0 0 0 0 0]\n",
            " [0 0 0 0 0 0 0 1 0 0 0 0]\n",
            " [0 0 0 0 0 0 0 0 1 0 0 0]\n",
            " [0 0 0 0 0 0 0 0 0 1 0 0]\n",
            " [0 0 0 0 0 0 0 0 0 0 1 0]\n",
            " [0 0 0 0 0 0 0 0 0 0 0 1]\n",
            " [1 1 0 1 1 1 0 0 0 1 0 1]\n",
            " [1 0 1 1 1 0 0 0 1 0 1 1]\n",
            " [0 1 1 1 0 0 0 1 0 1 1 1]\n",
            " [1 1 1 0 0 0 1 0 1 1 0 1]\n",
            " [1 1 0 0 0 1 0 1 1 0 1 1]\n",
            " [1 0 0 0 1 0 1 1 0 1 1 1]\n",
            " [0 0 0 1 0 1 1 0 1 1 1 1]\n",
            " [0 0 1 0 1 1 0 1 1 1 0 1]\n",
            " [0 1 0 1 1 0 1 1 1 0 0 1]\n",
            " [1 0 1 1 0 1 1 1 0 0 0 1]\n",
            " [0 1 1 0 1 1 1 0 0 0 1 1]\n",
            " [1 1 1 1 1 1 1 1 1 1 1 0]]\n",
            " G = \n",
            "[[1 0 0 0 0 0 0 0 0 0 0 0 1 1 0 1 1 1 0 0 0 1 0 1]\n",
            " [0 1 0 0 0 0 0 0 0 0 0 0 1 0 1 1 1 0 0 0 1 0 1 1]\n",
            " [0 0 1 0 0 0 0 0 0 0 0 0 0 1 1 1 0 0 0 1 0 1 1 1]\n",
            " [0 0 0 1 0 0 0 0 0 0 0 0 1 1 1 0 0 0 1 0 1 1 0 1]\n",
            " [0 0 0 0 1 0 0 0 0 0 0 0 1 1 0 0 0 1 0 1 1 0 1 1]\n",
            " [0 0 0 0 0 1 0 0 0 0 0 0 1 0 0 0 1 0 1 1 0 1 1 1]\n",
            " [0 0 0 0 0 0 1 0 0 0 0 0 0 0 0 1 0 1 1 0 1 1 1 1]\n",
            " [0 0 0 0 0 0 0 1 0 0 0 0 0 0 1 0 1 1 0 1 1 1 0 1]\n",
            " [0 0 0 0 0 0 0 0 1 0 0 0 0 1 0 1 1 0 1 1 1 0 0 1]\n",
            " [0 0 0 0 0 0 0 0 0 1 0 0 1 0 1 1 0 1 1 1 0 0 0 1]\n",
            " [0 0 0 0 0 0 0 0 0 0 1 0 0 1 1 0 1 1 1 0 0 0 1 1]\n",
            " [0 0 0 0 0 0 0 0 0 0 0 1 1 1 1 1 1 1 1 1 1 1 1 0]]\n",
            "\n"
          ]
        }
      ]
    },
    {
      "cell_type": "code",
      "source": [
        "message = np.array([1, 0, 0, 0, 0, 0, 0, 0, 0, 0, 0, 0])\n",
        "code_word = np.dot(message, G) % 2\n",
        "print(f'кодовое слово: {code_word}')"
      ],
      "metadata": {
        "colab": {
          "base_uri": "https://localhost:8080/"
        },
        "id": "azZt-CMR79kf",
        "outputId": "ec53f2d9-c309-484e-dfb8-799125012b63"
      },
      "execution_count": 6,
      "outputs": [
        {
          "output_type": "stream",
          "name": "stdout",
          "text": [
            "кодовое слово: [1 0 0 0 0 0 0 0 0 0 0 0 1 1 0 1 1 1 0 0 0 1 0 1]\n"
          ]
        }
      ]
    },
    {
      "cell_type": "markdown",
      "source": [
        "Однократная ошибка"
      ],
      "metadata": {
        "id": "_AXDTR4-8BqJ"
      }
    },
    {
      "cell_type": "code",
      "source": [
        "error_one = np.array([0, 1, 0, 0, 0, 0, 0, 0, 0, 0, 0, 0, 0, 0, 0, 0, 0, 0, 0, 0, 0, 0, 0, 0])\n",
        "err_code = code_word ^ error_one\n",
        "\n",
        "decoded_word = golay_approach(H, B, err_code)\n",
        "if decoded_word is None:\n",
        "    print(\"Отправьте сообщение повторно\")\n",
        "else:\n",
        "    print(f'Исправленное сообщение: {decoded_word}')"
      ],
      "metadata": {
        "colab": {
          "base_uri": "https://localhost:8080/"
        },
        "id": "cBfbR0Zb8EHs",
        "outputId": "7d8cd194-65ce-4ca8-8486-e63af31162ad"
      },
      "execution_count": 7,
      "outputs": [
        {
          "output_type": "stream",
          "name": "stdout",
          "text": [
            "Синдром ошибки: [0 1 0 0 0 0 0 0 0 0 0 0]\n",
            "Вес Хэмминга синдрома меньше или равен 3\n",
            "Ошибка: [0 1 0 0 0 0 0 0 0 0 0 0 0 0 0 0 0 0 0 0 0 0 0 0]\n",
            "Исправленное сообщение: [1 0 0 0 0 0 0 0 0 0 0 0]\n"
          ]
        }
      ]
    },
    {
      "cell_type": "markdown",
      "source": [
        "Двукратная ошибка"
      ],
      "metadata": {
        "id": "FeFxZQUa8kCk"
      }
    },
    {
      "cell_type": "code",
      "source": [
        "error_two = np.array([0, 1, 0, 0, 0, 0, 0, 0, 0, 0, 0, 0, 0, 0, 0, 0, 0, 0, 1, 0, 0, 0, 0, 0])\n",
        "err_code = code_word ^ error_two\n",
        "\n",
        "decoded_word = golay_approach(H, B, err_code)\n",
        "if decoded_word is None:\n",
        "    print(\"Отправьте сообщение повторно\")\n",
        "else:\n",
        "    print(f'Исправленное сообщение: {decoded_word}')"
      ],
      "metadata": {
        "colab": {
          "base_uri": "https://localhost:8080/"
        },
        "id": "KOQusMog8n5f",
        "outputId": "539e08a7-12e1-45ee-b225-459764e74a2c"
      },
      "execution_count": 8,
      "outputs": [
        {
          "output_type": "stream",
          "name": "stdout",
          "text": [
            "Синдром ошибки: [0 1 0 1 0 1 1 0 1 1 1 1]\n",
            "Вес Хэмминга синдрома больше 3\n",
            "Существует строка 6 матрицы B, такая, что wt(s+b[i]) <=2\n",
            "Ошибка: [0 1 0 0 0 0 0 0 0 0 0 0 0 0 0 0 0 0 1 0 0 0 0 0]\n",
            "Исправленное сообщение: [1 0 0 0 0 0 0 0 0 0 0 0]\n"
          ]
        }
      ]
    },
    {
      "cell_type": "markdown",
      "source": [
        "Трёхкратная ошибка"
      ],
      "metadata": {
        "id": "WPZes-OL8-0s"
      }
    },
    {
      "cell_type": "code",
      "source": [
        "error_three = np.array([0, 1, 0, 0, 0, 0, 0, 0, 0, 0, 0, 0, 0, 0, 0, 0, 0, 0, 1, 1, 0, 0, 0, 0])\n",
        "err_code = code_word ^ error_three\n",
        "\n",
        "decoded_word = golay_approach(H, B, err_code)\n",
        "if decoded_word is None:\n",
        "    print(\"Отправьте сообщение повторно\")\n",
        "else:\n",
        "    print(f'Исправленное сообщение: {decoded_word}')"
      ],
      "metadata": {
        "colab": {
          "base_uri": "https://localhost:8080/"
        },
        "id": "Gn9olZua89y1",
        "outputId": "44542ec8-06bb-4059-ddf6-cdc2a8a75e41"
      },
      "execution_count": 9,
      "outputs": [
        {
          "output_type": "stream",
          "name": "stdout",
          "text": [
            "Синдром ошибки: [0 1 1 1 1 0 1 1 0 0 1 0]\n",
            "Вес Хэмминга синдрома больше 3\n",
            "Не существует строк матрицы B, таких, что wt(s+b[i]) <=2\n",
            "Вес Хэмминга второго синдрома(s*B) больше 3\n",
            "Существует строка 1 матрицы B, такая, что wt(s*B+b[i]) <=2\n",
            "Ошибка: [0 1 0 0 0 0 0 0 0 0 0 0 0 0 0 0 0 0 1 1 0 0 0 0]\n",
            "Исправленное сообщение: [1 0 0 0 0 0 0 0 0 0 0 0]\n"
          ]
        }
      ]
    },
    {
      "cell_type": "markdown",
      "source": [
        "Четырёхкратная ошибка"
      ],
      "metadata": {
        "id": "bFFSGE3L9NYY"
      }
    },
    {
      "cell_type": "code",
      "source": [
        "error_four = np.array([0, 1, 1, 0, 0, 0, 0, 0, 0, 0, 0, 0, 0, 0, 0, 0, 0, 0, 1, 1, 0, 0, 0, 0])\n",
        "err_code = code_word ^ error_four\n",
        "\n",
        "decoded_word = golay_approach(H, B, err_code)\n",
        "if decoded_word is None:\n",
        "    print(\"Отправьте сообщение повторно\")\n",
        "else:\n",
        "    print(f'Исправленное сообщение: {decoded_word}')"
      ],
      "metadata": {
        "colab": {
          "base_uri": "https://localhost:8080/"
        },
        "id": "m1qFNSwp9QGe",
        "outputId": "b7e3723b-44ca-45d8-c077-cde7d534e38c"
      },
      "execution_count": 10,
      "outputs": [
        {
          "output_type": "stream",
          "name": "stdout",
          "text": [
            "Синдром ошибки: [0 1 0 1 1 0 1 1 0 0 1 0]\n",
            "Вес Хэмминга синдрома больше 3\n",
            "Не существует строк матрицы B, таких, что wt(s+b[i]) <=2\n",
            "Вес Хэмминга второго синдрома(s*B) больше 3\n",
            "Не существует строк матрицы B, таких, что wt(s*B+b[i]) <=2\n",
            "В коде от 4 до 7 ошибок.\n",
            "Отправьте сообщение повторно\n"
          ]
        }
      ]
    },
    {
      "cell_type": "markdown",
      "source": [
        "**Все возможные случаи расширенного кода Голея**"
      ],
      "metadata": {
        "id": "TOIXWFbG9i3N"
      }
    },
    {
      "cell_type": "code",
      "source": [
        "error1 = np.array([0, 1, 1, 1, 0, 0, 0, 0, 0, 0, 0, 0, 0, 0, 0, 0, 0, 0, 0, 0, 0, 0, 0, 0])\n",
        "error2 = np.array([1, 1, 0, 0, 0, 0, 0, 0, 0, 0, 0, 0, 0, 0, 0, 0, 0, 0, 0, 1, 0, 0, 0, 0])\n",
        "error3 = np.array([0, 0, 0, 0, 0, 0, 0, 0, 0, 0, 0, 0, 0, 0, 0, 0, 0, 0, 0, 1, 0, 1, 0, 1])\n",
        "error4 = np.array([0, 0, 1, 0, 0, 0, 0, 0, 0, 0, 0, 0, 0, 0, 0, 0, 0, 0, 0, 0, 1, 0, 0, 1])\n",
        "error5 = np.array([1, 1, 1, 1, 0, 0, 0, 0, 0, 0, 0, 0, 0, 0, 0, 0, 0, 0, 0, 0, 0, 0, 0, 0])\n",
        "\n",
        "errors = [error1, error2, error3, error4, error5]\n",
        "for er in errors:\n",
        "\n",
        "  err_code = code_word ^ er\n",
        "  decoded_word = golay_approach(H, B, err_code)\n",
        "  if decoded_word is None:\n",
        "      print(\"Отправьте сообщение повторно\")\n",
        "  else:\n",
        "      print(f'Исправленное сообщение: {decoded_word}')\n",
        "  print(\"\\n\\n\")"
      ],
      "metadata": {
        "colab": {
          "base_uri": "https://localhost:8080/"
        },
        "id": "0qOrIXZA7bgq",
        "outputId": "35b99116-4474-4c77-c7dd-f81efdfeff9b"
      },
      "execution_count": 11,
      "outputs": [
        {
          "output_type": "stream",
          "name": "stdout",
          "text": [
            "Синдром ошибки: [0 1 1 1 0 0 0 0 0 0 0 0]\n",
            "Вес Хэмминга синдрома меньше или равен 3\n",
            "Ошибка: [0 1 1 1 0 0 0 0 0 0 0 0 0 0 0 0 0 0 0 0 0 0 0 0]\n",
            "Исправленное сообщение: [1 0 0 0 0 0 0 0 0 0 0 0]\n",
            "\n",
            "\n",
            "\n",
            "Синдром ошибки: [1 1 1 0 1 1 0 1 1 1 0 1]\n",
            "Вес Хэмминга синдрома больше 3\n",
            "Существует строка 7 матрицы B, такая, что wt(s+b[i]) <=2\n",
            "Ошибка: [1 1 0 0 0 0 0 0 0 0 0 0 0 0 0 0 0 0 0 1 0 0 0 0]\n",
            "Исправленное сообщение: [1 0 0 0 0 0 0 0 0 0 0 0]\n",
            "\n",
            "\n",
            "\n",
            "Синдром ошибки: [0 1 1 0 0 1 0 1 0 0 1 0]\n",
            "Вес Хэмминга синдрома больше 3\n",
            "Не существует строк матрицы B, таких, что wt(s+b[i]) <=2\n",
            "Вес Хэмминга второго синдрома(s*B) меньше или равен 3\n",
            "Ошибка: [0 0 0 0 0 0 0 0 0 0 0 0 0 0 0 0 0 0 0 1 0 1 0 1]\n",
            "Исправленное сообщение: [1 0 0 0 0 0 0 0 0 0 0 0]\n",
            "\n",
            "\n",
            "\n",
            "Синдром ошибки: [1 0 0 0 0 1 0 0 0 1 1 1]\n",
            "Вес Хэмминга синдрома больше 3\n",
            "Не существует строк матрицы B, таких, что wt(s+b[i]) <=2\n",
            "Вес Хэмминга второго синдрома(s*B) больше 3\n",
            "Существует строка 2 матрицы B, такая, что wt(s*B+b[i]) <=2\n",
            "Ошибка: [0 0 1 0 0 0 0 0 0 0 0 0 0 0 0 0 0 0 0 0 1 0 0 1]\n",
            "Исправленное сообщение: [1 0 0 0 0 0 0 0 0 0 0 0]\n",
            "\n",
            "\n",
            "\n",
            "Синдром ошибки: [1 1 1 1 0 0 0 0 0 0 0 0]\n",
            "Вес Хэмминга синдрома больше 3\n",
            "Не существует строк матрицы B, таких, что wt(s+b[i]) <=2\n",
            "Вес Хэмминга второго синдрома(s*B) больше 3\n",
            "Не существует строк матрицы B, таких, что wt(s*B+b[i]) <=2\n",
            "В коде от 4 до 7 ошибок.\n",
            "Отправьте сообщение повторно\n",
            "\n",
            "\n",
            "\n"
          ]
        }
      ]
    },
    {
      "cell_type": "markdown",
      "source": [
        "**Часть 2**"
      ],
      "metadata": {
        "id": "Hu7cC-s7tNVY"
      }
    },
    {
      "cell_type": "code",
      "source": [
        "def kronecker_H_i(i:int, m: int) -> np.ndarray[np.ndarray[int]]:\n",
        "  k = 2**(i-1)\n",
        "  part = np.eye(2**i, dtype=int)\n",
        "  part[k:, k:] *= -1\n",
        "  for j in range(k):\n",
        "    part[k+j, j] = part[j, k+j] = 1\n",
        "  if m == i:\n",
        "    return part\n",
        "  k *= 2\n",
        "  H = np.zeros((2**m, 2**m), dtype=int)\n",
        "  for j in range(2**(m-i)):\n",
        "    H[j*k:(j+1)*k, j*k:(j+1)*k] = part\n",
        "  return H"
      ],
      "metadata": {
        "id": "oVC6XkwYtQdK"
      },
      "execution_count": 12,
      "outputs": []
    },
    {
      "cell_type": "code",
      "source": [
        "def G_RM(r:int, m: int) -> np.ndarray[np.ndarray[int]]:\n",
        "    if r == 0:\n",
        "        return np.ones((1, 2**m), dtype=int)\n",
        "    if r == m:\n",
        "        x = np.zeros((1, 2**m), dtype=int)\n",
        "        x[0, -1] = 1\n",
        "        return np.vstack((G_RM(m-1,m), x))\n",
        "    G_up = G_RM(r, m-1)\n",
        "    G_down = G_RM(r-1, m-1)\n",
        "    length_G_up = len(G_up)\n",
        "    G = np.zeros((len(G_down) + length_G_up, 2**m), dtype=int)\n",
        "    G[:length_G_up, :2 ** (m-1)] = G_up\n",
        "    G[:length_G_up, 2 ** (m - 1):] = G_up\n",
        "    G[length_G_up:, 2 ** (m-1):] = G_down\n",
        "    return G"
      ],
      "metadata": {
        "id": "SB37F7h_orFu"
      },
      "execution_count": 13,
      "outputs": []
    },
    {
      "cell_type": "markdown",
      "source": [
        "**𝑅𝑀(1,3)**"
      ],
      "metadata": {
        "id": "EzET06SQzWkV"
      }
    },
    {
      "cell_type": "code",
      "source": [
        "m = 3\n",
        "G = G_RM(1, m)\n",
        "G"
      ],
      "metadata": {
        "colab": {
          "base_uri": "https://localhost:8080/"
        },
        "id": "BjRdDOx5yRTo",
        "outputId": "f07f6487-2fb6-4ea0-efc1-28993c0b8c65"
      },
      "execution_count": 14,
      "outputs": [
        {
          "output_type": "execute_result",
          "data": {
            "text/plain": [
              "array([[1, 1, 1, 1, 1, 1, 1, 1],\n",
              "       [0, 1, 0, 1, 0, 1, 0, 1],\n",
              "       [0, 0, 1, 1, 0, 0, 1, 1],\n",
              "       [0, 0, 0, 0, 1, 1, 1, 1]])"
            ]
          },
          "metadata": {},
          "execution_count": 14
        }
      ]
    },
    {
      "cell_type": "code",
      "source": [
        "H = np.array([kronecker_H_i(i, m) for i in range(1, m+1)])\n",
        "H"
      ],
      "metadata": {
        "colab": {
          "base_uri": "https://localhost:8080/"
        },
        "id": "wAPEdEDe2W1g",
        "outputId": "30b2c61e-2680-4c4d-c1b5-df5e2bee8040"
      },
      "execution_count": 15,
      "outputs": [
        {
          "output_type": "execute_result",
          "data": {
            "text/plain": [
              "array([[[ 1,  1,  0,  0,  0,  0,  0,  0],\n",
              "        [ 1, -1,  0,  0,  0,  0,  0,  0],\n",
              "        [ 0,  0,  1,  1,  0,  0,  0,  0],\n",
              "        [ 0,  0,  1, -1,  0,  0,  0,  0],\n",
              "        [ 0,  0,  0,  0,  1,  1,  0,  0],\n",
              "        [ 0,  0,  0,  0,  1, -1,  0,  0],\n",
              "        [ 0,  0,  0,  0,  0,  0,  1,  1],\n",
              "        [ 0,  0,  0,  0,  0,  0,  1, -1]],\n",
              "\n",
              "       [[ 1,  0,  1,  0,  0,  0,  0,  0],\n",
              "        [ 0,  1,  0,  1,  0,  0,  0,  0],\n",
              "        [ 1,  0, -1,  0,  0,  0,  0,  0],\n",
              "        [ 0,  1,  0, -1,  0,  0,  0,  0],\n",
              "        [ 0,  0,  0,  0,  1,  0,  1,  0],\n",
              "        [ 0,  0,  0,  0,  0,  1,  0,  1],\n",
              "        [ 0,  0,  0,  0,  1,  0, -1,  0],\n",
              "        [ 0,  0,  0,  0,  0,  1,  0, -1]],\n",
              "\n",
              "       [[ 1,  0,  0,  0,  1,  0,  0,  0],\n",
              "        [ 0,  1,  0,  0,  0,  1,  0,  0],\n",
              "        [ 0,  0,  1,  0,  0,  0,  1,  0],\n",
              "        [ 0,  0,  0,  1,  0,  0,  0,  1],\n",
              "        [ 1,  0,  0,  0, -1,  0,  0,  0],\n",
              "        [ 0,  1,  0,  0,  0, -1,  0,  0],\n",
              "        [ 0,  0,  1,  0,  0,  0, -1,  0],\n",
              "        [ 0,  0,  0,  1,  0,  0,  0, -1]]])"
            ]
          },
          "metadata": {},
          "execution_count": 15
        }
      ]
    },
    {
      "cell_type": "code",
      "source": [
        "word = np.array([1, 0, 1, 0])\n",
        "w = np.dot(word, G)%2\n",
        "w"
      ],
      "metadata": {
        "colab": {
          "base_uri": "https://localhost:8080/"
        },
        "id": "yhTMwTLpzhTG",
        "outputId": "f920874e-94f9-4ced-a748-f156430b52d8"
      },
      "execution_count": 16,
      "outputs": [
        {
          "output_type": "execute_result",
          "data": {
            "text/plain": [
              "array([1, 1, 0, 0, 1, 1, 0, 0])"
            ]
          },
          "metadata": {},
          "execution_count": 16
        }
      ]
    },
    {
      "cell_type": "code",
      "source": [
        "e1 = np.zeros_like(w)\n",
        "e2 = e1.copy()\n",
        "e1[0] = e2[0] = e2[2] = 1\n",
        "w1 = w^e1\n",
        "w2 = w^e2\n",
        "w1, w2"
      ],
      "metadata": {
        "colab": {
          "base_uri": "https://localhost:8080/"
        },
        "id": "-S4VDh0rz0gq",
        "outputId": "2b9235ec-1187-4832-bbaa-f92435c19dd1"
      },
      "execution_count": 17,
      "outputs": [
        {
          "output_type": "execute_result",
          "data": {
            "text/plain": [
              "(array([0, 1, 0, 0, 1, 1, 0, 0]), array([0, 1, 1, 0, 1, 1, 0, 0]))"
            ]
          },
          "metadata": {},
          "execution_count": 17
        }
      ]
    },
    {
      "cell_type": "code",
      "source": [
        "def find_word(H: np.ndarray[np.ndarray[np.ndarray[int]]], G: np.ndarray[np.ndarray[int]], w_: np.ndarray[int], m: int):\n",
        "    w_ = np.copy(w_)\n",
        "    w_ -= w_ ^ 1\n",
        "    for i in range(m):\n",
        "        w_ = np.dot(w_, H[i])\n",
        "    position = 0\n",
        "    x = abs(w_[0])\n",
        "    for i in range(1, w_.size):\n",
        "        if abs(w_[i]) >= x:\n",
        "            if x == abs(w_[i]):\n",
        "                position = -1\n",
        "                continue\n",
        "            position = i\n",
        "            x = abs(w_[i])\n",
        "    if position == -1:\n",
        "        print(\"ошибку нельзя исправить!\")\n",
        "        return None\n",
        "    orig = np.copy(G[:, position]).reshape(-1)\n",
        "    if w_[position] < 0:\n",
        "        orig[0] = 0\n",
        "    return orig"
      ],
      "metadata": {
        "id": "DEJKfz8j0bbd"
      },
      "execution_count": 18,
      "outputs": []
    },
    {
      "cell_type": "code",
      "source": [
        "decoded_word = find_word(H, G, w1, m)\n",
        "if decoded_word is not None:\n",
        "  print(decoded_word)\n",
        "  print(np.array_equal(decoded_word, word))"
      ],
      "metadata": {
        "colab": {
          "base_uri": "https://localhost:8080/"
        },
        "id": "F5HrnmIO63lb",
        "outputId": "fcda4431-f54a-41ec-b9ca-76211fd450b5"
      },
      "execution_count": 19,
      "outputs": [
        {
          "output_type": "stream",
          "name": "stdout",
          "text": [
            "[1 0 1 0]\n",
            "True\n"
          ]
        }
      ]
    },
    {
      "cell_type": "code",
      "source": [
        "decoded_word = find_word(H, G, w2, m)\n",
        "if decoded_word is not None:\n",
        "  print(decoded_word)\n",
        "  print(np.array_equal(decoded_word, word))"
      ],
      "metadata": {
        "colab": {
          "base_uri": "https://localhost:8080/"
        },
        "id": "TMRzwV_GN3N6",
        "outputId": "d43a7241-669f-430a-debc-c4301985a7fb"
      },
      "execution_count": 20,
      "outputs": [
        {
          "output_type": "stream",
          "name": "stdout",
          "text": [
            "ошибку нельзя исправить!\n"
          ]
        }
      ]
    },
    {
      "cell_type": "markdown",
      "source": [
        "**𝑅𝑀(1,4)**"
      ],
      "metadata": {
        "id": "d0FAScnqOk5P"
      }
    },
    {
      "cell_type": "code",
      "source": [
        "m = 4\n",
        "G = G_RM(1, m)\n",
        "G"
      ],
      "metadata": {
        "colab": {
          "base_uri": "https://localhost:8080/"
        },
        "id": "Xeo1FuIEOm3R",
        "outputId": "3de3738a-2a0e-4d73-b5c8-4c5cc66b605e"
      },
      "execution_count": 21,
      "outputs": [
        {
          "output_type": "execute_result",
          "data": {
            "text/plain": [
              "array([[1, 1, 1, 1, 1, 1, 1, 1, 1, 1, 1, 1, 1, 1, 1, 1],\n",
              "       [0, 1, 0, 1, 0, 1, 0, 1, 0, 1, 0, 1, 0, 1, 0, 1],\n",
              "       [0, 0, 1, 1, 0, 0, 1, 1, 0, 0, 1, 1, 0, 0, 1, 1],\n",
              "       [0, 0, 0, 0, 1, 1, 1, 1, 0, 0, 0, 0, 1, 1, 1, 1],\n",
              "       [0, 0, 0, 0, 0, 0, 0, 0, 1, 1, 1, 1, 1, 1, 1, 1]])"
            ]
          },
          "metadata": {},
          "execution_count": 21
        }
      ]
    },
    {
      "cell_type": "code",
      "source": [
        "H = np.array([kronecker_H_i(i, m) for i in range(1, m+1)])\n",
        "H"
      ],
      "metadata": {
        "colab": {
          "base_uri": "https://localhost:8080/"
        },
        "id": "6rgM_CUCQcsp",
        "outputId": "e5d3c068-f03d-45aa-9ace-769978a6ef7f"
      },
      "execution_count": 22,
      "outputs": [
        {
          "output_type": "execute_result",
          "data": {
            "text/plain": [
              "array([[[ 1,  1,  0, ...,  0,  0,  0],\n",
              "        [ 1, -1,  0, ...,  0,  0,  0],\n",
              "        [ 0,  0,  1, ...,  0,  0,  0],\n",
              "        ...,\n",
              "        [ 0,  0,  0, ..., -1,  0,  0],\n",
              "        [ 0,  0,  0, ...,  0,  1,  1],\n",
              "        [ 0,  0,  0, ...,  0,  1, -1]],\n",
              "\n",
              "       [[ 1,  0,  1, ...,  0,  0,  0],\n",
              "        [ 0,  1,  0, ...,  0,  0,  0],\n",
              "        [ 1,  0, -1, ...,  0,  0,  0],\n",
              "        ...,\n",
              "        [ 0,  0,  0, ...,  1,  0,  1],\n",
              "        [ 0,  0,  0, ...,  0, -1,  0],\n",
              "        [ 0,  0,  0, ...,  1,  0, -1]],\n",
              "\n",
              "       [[ 1,  0,  0, ...,  0,  0,  0],\n",
              "        [ 0,  1,  0, ...,  0,  0,  0],\n",
              "        [ 0,  0,  1, ...,  0,  0,  0],\n",
              "        ...,\n",
              "        [ 0,  0,  0, ..., -1,  0,  0],\n",
              "        [ 0,  0,  0, ...,  0, -1,  0],\n",
              "        [ 0,  0,  0, ...,  0,  0, -1]],\n",
              "\n",
              "       [[ 1,  0,  0, ...,  0,  0,  0],\n",
              "        [ 0,  1,  0, ...,  0,  0,  0],\n",
              "        [ 0,  0,  1, ...,  0,  0,  0],\n",
              "        ...,\n",
              "        [ 0,  0,  0, ..., -1,  0,  0],\n",
              "        [ 0,  0,  0, ...,  0, -1,  0],\n",
              "        [ 0,  0,  0, ...,  0,  0, -1]]])"
            ]
          },
          "metadata": {},
          "execution_count": 22
        }
      ]
    },
    {
      "cell_type": "code",
      "source": [
        "word = np.array([1, 1, 0, 0, 1])\n",
        "w = np.dot(word, G)%2\n",
        "w"
      ],
      "metadata": {
        "colab": {
          "base_uri": "https://localhost:8080/"
        },
        "id": "N3g8oTDeQjNt",
        "outputId": "36538da2-24f2-46f7-8995-160f5c8d94f0"
      },
      "execution_count": 23,
      "outputs": [
        {
          "output_type": "execute_result",
          "data": {
            "text/plain": [
              "array([1, 0, 1, 0, 1, 0, 1, 0, 0, 1, 0, 1, 0, 1, 0, 1])"
            ]
          },
          "metadata": {},
          "execution_count": 23
        }
      ]
    },
    {
      "cell_type": "code",
      "source": [
        "e1 = np.array([0, 1, 0, 0, 0, 0, 0, 0, 0, 0, 0, 0, 0, 0, 0, 0])\n",
        "e2 = np.array([0, 0, 1, 1, 0, 0, 0, 0, 0, 0, 0, 0, 0, 0, 0, 0])\n",
        "e3 = np.array([0, 0, 0, 0, 1, 1, 1, 0, 0, 0, 0, 0, 0, 0, 0, 0])\n",
        "e4 = np.array([0, 0, 0, 0, 0, 0, 0, 1, 1, 1, 1, 0, 0, 0, 0, 0])\n",
        "err = [e1, e2, e3, e4]\n",
        "w_arr = [w ^ e for e in err]\n",
        "w_arr"
      ],
      "metadata": {
        "colab": {
          "base_uri": "https://localhost:8080/"
        },
        "id": "4fNC9XvsQrQV",
        "outputId": "1c7c8f6b-a389-4478-cb8d-41628d426678"
      },
      "execution_count": 24,
      "outputs": [
        {
          "output_type": "execute_result",
          "data": {
            "text/plain": [
              "[array([1, 1, 1, 0, 1, 0, 1, 0, 0, 1, 0, 1, 0, 1, 0, 1]),\n",
              " array([1, 0, 0, 1, 1, 0, 1, 0, 0, 1, 0, 1, 0, 1, 0, 1]),\n",
              " array([1, 0, 1, 0, 0, 1, 0, 0, 0, 1, 0, 1, 0, 1, 0, 1]),\n",
              " array([1, 0, 1, 0, 1, 0, 1, 1, 1, 0, 1, 1, 0, 1, 0, 1])]"
            ]
          },
          "metadata": {},
          "execution_count": 24
        }
      ]
    },
    {
      "cell_type": "code",
      "source": [
        "for i in range(len(w_arr)):\n",
        "  print(f'\\n{i+1}-кратная ошибка:')\n",
        "  decoded_word = find_word(H, G, w_arr[i], m)\n",
        "  if decoded_word is not None:\n",
        "    print(np.array_equal(decoded_word, word))"
      ],
      "metadata": {
        "colab": {
          "base_uri": "https://localhost:8080/"
        },
        "id": "kdjDwNlxSZUd",
        "outputId": "e0232ec2-f8d6-403d-ddde-3becc144c28f"
      },
      "execution_count": 26,
      "outputs": [
        {
          "output_type": "stream",
          "name": "stdout",
          "text": [
            "\n",
            "1-кратная ошибка:\n",
            "True\n",
            "\n",
            "2-кратная ошибка:\n",
            "True\n",
            "\n",
            "3-кратная ошибка:\n",
            "True\n",
            "\n",
            "4-кратная ошибка:\n",
            "ошибку нельзя исправить!\n"
          ]
        }
      ]
    }
  ]
}