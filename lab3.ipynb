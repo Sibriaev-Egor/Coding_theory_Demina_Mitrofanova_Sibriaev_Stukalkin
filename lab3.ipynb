{
  "nbformat": 4,
  "nbformat_minor": 0,
  "metadata": {
    "colab": {
      "provenance": []
    },
    "kernelspec": {
      "name": "python3",
      "display_name": "Python 3"
    },
    "language_info": {
      "name": "python"
    }
  },
  "cells": [
    {
      "cell_type": "code",
      "source": [
        "import numpy as np\n",
        "import math\n",
        "import itertools as iter"
      ],
      "metadata": {
        "id": "EjcVuflg4nZY"
      },
      "execution_count": 120,
      "outputs": []
    },
    {
      "cell_type": "code",
      "source": [
        "# функция вычисления n и k на основе r\n",
        "def calculate_n_k(r):\n",
        "    n = int(math.pow(2, r) - 1)\n",
        "    k = n - r\n",
        "    return n, k"
      ],
      "metadata": {
        "id": "eRZakG-I41pC"
      },
      "execution_count": 121,
      "outputs": []
    },
    {
      "cell_type": "code",
      "source": [
        "# функция создания таблицы синдромов\n",
        "def create_syndrome_table(H, err_count):\n",
        "    n = len(H)\n",
        "    one_err = np.eye(n, dtype=int)\n",
        "    syndrome_table = {H[i].__str__(): one_err[i] for i in range(n)}\n",
        "\n",
        "    for num in range(2, err_count + 1):\n",
        "        syndrome_arr = [sum(arr) % 2 for arr in np.array(list(iter.combinations(H, num)))]\n",
        "        err_arr = [sum(arr) for arr in np.array(list(iter.combinations(one_err, num)))]\n",
        "        for i in range(len(syndrome_arr)):\n",
        "            syndrome_table[syndrome_arr[i].__str__()] = err_arr[i]\n",
        "\n",
        "    return syndrome_table"
      ],
      "metadata": {
        "id": "DbfZUzCW9nsv"
      },
      "execution_count": 122,
      "outputs": []
    },
    {
      "cell_type": "markdown",
      "source": [
        "**3.1 Написать функцию формирования порождающей и проверочной\n",
        "матриц кода Хэмминга (𝟐\n",
        "𝒓 − 𝟏, 𝟐\n",
        "𝒓 − 𝒓 − 𝟏, 𝟑) на основе параметра 𝒓,\n",
        "а также таблицы синдромов для всех однократных ошибок.**"
      ],
      "metadata": {
        "id": "QZ6o62KV-W9X"
      }
    },
    {
      "cell_type": "code",
      "source": [
        "# функция создания проверочной матрицы Хемминга\n",
        "def create_hamming(n, r):\n",
        "    E = np.eye(r,dtype=int)\n",
        "    H = []\n",
        "    for i in range(r, 0, -1):\n",
        "        for synd in [sum(arr) for arr in np.array(list(iter.combinations(E, i)))]:\n",
        "            H.append(synd)\n",
        "    return np.array(H)"
      ],
      "metadata": {
        "id": "iGv8fic8_loY"
      },
      "execution_count": 123,
      "outputs": []
    },
    {
      "cell_type": "code",
      "source": [
        "# функция создания порождающей матрицы\n",
        "def create_G(H, n, k):\n",
        "    G = np.zeros((k, n), dtype=int)\n",
        "    for i in range(k):\n",
        "        G[i][i] = 1\n",
        "    G[:, k:] = H[:k, :]\n",
        "    return G"
      ],
      "metadata": {
        "id": "57Our7Wz_mhJ"
      },
      "execution_count": 124,
      "outputs": []
    },
    {
      "cell_type": "markdown",
      "source": [
        "**3.2. Провести исследование кода Хэмминга для одно-, двух- и\n",
        "трёхкратных ошибок для 𝒓 = 𝟐, 𝟑, 𝟒.**"
      ],
      "metadata": {
        "id": "s1IO-Vk5_O42"
      }
    },
    {
      "cell_type": "markdown",
      "source": [
        "для r = 2"
      ],
      "metadata": {
        "id": "TADg7CBJARlt"
      }
    },
    {
      "cell_type": "code",
      "source": [
        "r = 2\n",
        "n, k = calculate_n_k(r)\n",
        "d = 3\n",
        "print(f'n = {n}, k = {k}, d = {d}', end='\\n\\n')\n",
        "\n",
        "# создадим проверочную матрицу Хэмминга по заданным параметрам\n",
        "H = create_hamming(n, r)\n",
        "print('H =', H, sep='\\n', end='\\n\\n')\n",
        "\n",
        "# создадим пораждающую матрицу\n",
        "G = create_G(H, n, k)\n",
        "print('G =', G, sep='\\n', end='\\n\\n')\n",
        "syndrome_table = create_syndrome_table(H, 1)"
      ],
      "metadata": {
        "id": "CjK-SlgnhBF8",
        "outputId": "3ebe1bd9-568d-4f16-be05-89a6510f0003",
        "colab": {
          "base_uri": "https://localhost:8080/"
        }
      },
      "execution_count": 125,
      "outputs": [
        {
          "output_type": "stream",
          "name": "stdout",
          "text": [
            "n = 3, k = 1, d = 3\n",
            "\n",
            "H =\n",
            "[[1 1]\n",
            " [1 0]\n",
            " [0 1]]\n",
            "\n",
            "G =\n",
            "[[1 1 1]]\n",
            "\n"
          ]
        }
      ]
    },
    {
      "cell_type": "code",
      "source": [
        "word = np.array([1])\n",
        "code = np.dot(word, G)\n",
        "print(f'кодовое слово = {code}', end='\\n\\n')\n",
        "\n",
        "error1 = np.array([1, 0, 0])\n",
        "error2 = np.array([1, 0, 1])\n",
        "error3 = np.array([1, 1, 1])\n",
        "\n",
        "err_code1 = code ^ error1\n",
        "err_code2 = code ^ error2\n",
        "err_code3 = code ^ error3\n",
        "\n",
        "syndrome1 = np.dot(err_code1, H) % 2\n",
        "syndrome2 = np.dot(err_code2, H) % 2\n",
        "syndrome3 = np.dot(err_code3, H) % 2\n",
        "print(f'синдром 1 = {syndrome1}, синдром 2 = {syndrome2}, синдром 3 = {syndrome3}', end='\\n\\n')"
      ],
      "metadata": {
        "colab": {
          "base_uri": "https://localhost:8080/"
        },
        "id": "CjMwEP_G80bz",
        "outputId": "ae49137c-4034-47b1-f430-1c88ddaf823e"
      },
      "execution_count": 126,
      "outputs": [
        {
          "output_type": "stream",
          "name": "stdout",
          "text": [
            "кодовое слово = [1 1 1]\n",
            "\n",
            "синдром 1 = [1 1], синдром 2 = [1 0], синдром 3 = [0 0]\n",
            "\n"
          ]
        }
      ]
    },
    {
      "cell_type": "code",
      "source": [
        "print('для однократной ошибки можем обнаружить, но не исправить:')\n",
        "if not np.array_equal(syndrome1, np.zeros(r, dtype=int)):\n",
        "    print(f'ошибка в разряде: {syndrome_table[syndrome1.__str__()]}', end='\\n\\n')\n",
        "else:\n",
        "  print('ошибки нет', end='\\n\\n')\n",
        "\n",
        "print('для двукратной ошибки можем только обнаружить:')\n",
        "if not np.array_equal(syndrome2, np.zeros(r, dtype=int)):\n",
        "    print(f'ошибка в разряде: {syndrome_table[syndrome2.__str__()]}', end='\\n\\n')\n",
        "else:\n",
        "  print('ошибки нет', end='\\n\\n')\n",
        "\n",
        "print('с трёхкратной ошибкой ничего сделать нельзя:')\n",
        "if not np.array_equal(syndrome3, np.zeros(r, dtype=int)):\n",
        "    print(f'ошибка в разряде: {syndrome_table[syndrome3.__str__()]}', end='\\n\\n')\n",
        "else:\n",
        "  print('ошибки нет', end='\\n\\n')"
      ],
      "metadata": {
        "colab": {
          "base_uri": "https://localhost:8080/"
        },
        "id": "wj0IlQRaFo29",
        "outputId": "b589fb25-6439-45b6-8a72-668fde8a3ee2"
      },
      "execution_count": 127,
      "outputs": [
        {
          "output_type": "stream",
          "name": "stdout",
          "text": [
            "для однократной ошибки можем обнаружить, но не исправить:\n",
            "ошибка в разряде: [1 0 0]\n",
            "\n",
            "для двукратной ошибки можем только обнаружить:\n",
            "ошибка в разряде: [0 1 0]\n",
            "\n",
            "с трёхкратной ошибкой ничего сделать нельзя:\n",
            "ошибки нет\n",
            "\n"
          ]
        }
      ]
    },
    {
      "cell_type": "markdown",
      "source": [
        "для r = 3"
      ],
      "metadata": {
        "id": "eQfXzD9LIN3k"
      }
    },
    {
      "cell_type": "code",
      "source": [
        "r = 3\n",
        "n, k = calculate_n_k(r)\n",
        "d = 3\n",
        "print(f'n = {n}, k = {k}, d = {d}', end='\\n\\n')\n",
        "\n",
        "# создадим проверочную матрицу Хэмминга по заданным параметрам\n",
        "H = create_hamming(n, r)\n",
        "print('H =', H, sep='\\n', end='\\n\\n')\n",
        "\n",
        "# создадим пораждающую матрицу\n",
        "G = create_G(H, n, k)\n",
        "print('G =', G, sep='\\n', end='\\n\\n')\n",
        "syndrome_table = create_syndrome_table(H, 1)"
      ],
      "metadata": {
        "colab": {
          "base_uri": "https://localhost:8080/"
        },
        "id": "oxjlpUEDIQNg",
        "outputId": "99416d7d-4b52-41dc-8534-32439290ad01"
      },
      "execution_count": 128,
      "outputs": [
        {
          "output_type": "stream",
          "name": "stdout",
          "text": [
            "n = 7, k = 4, d = 3\n",
            "\n",
            "H =\n",
            "[[1 1 1]\n",
            " [1 1 0]\n",
            " [1 0 1]\n",
            " [0 1 1]\n",
            " [1 0 0]\n",
            " [0 1 0]\n",
            " [0 0 1]]\n",
            "\n",
            "G =\n",
            "[[1 0 0 0 1 1 1]\n",
            " [0 1 0 0 1 1 0]\n",
            " [0 0 1 0 1 0 1]\n",
            " [0 0 0 1 0 1 1]]\n",
            "\n"
          ]
        }
      ]
    },
    {
      "cell_type": "code",
      "source": [
        "word = np.array([1, 0, 0, 0])\n",
        "code = np.dot(word, G)\n",
        "print(f'кодовое слово = {code}', end='\\n\\n')\n",
        "\n",
        "error1 = np.array([1, 0, 0, 0, 0, 0, 0])\n",
        "error2 = np.array([1, 1, 0, 0, 0, 0, 0])\n",
        "error3 = np.array([1, 1, 0, 0, 0, 0, 1])\n",
        "\n",
        "err_code1 = code ^ error1\n",
        "err_code2 = code ^ error2\n",
        "err_code3 = code ^ error3\n",
        "\n",
        "syndrome1 = np.dot(err_code1, H) % 2\n",
        "syndrome2 = np.dot(err_code2, H) % 2\n",
        "syndrome3 = np.dot(err_code3, H) % 2\n",
        "print(f'синдром 1 = {syndrome1}, синдром 2 = {syndrome2}, синдром 3 = {syndrome3}', end='\\n\\n')"
      ],
      "metadata": {
        "colab": {
          "base_uri": "https://localhost:8080/"
        },
        "id": "4IUQng-UIS6R",
        "outputId": "212d5413-c013-4beb-b995-e96a0d05f15a"
      },
      "execution_count": 129,
      "outputs": [
        {
          "output_type": "stream",
          "name": "stdout",
          "text": [
            "кодовое слово = [1 0 0 0 1 1 1]\n",
            "\n",
            "синдром 1 = [1 1 1], синдром 2 = [0 0 1], синдром 3 = [0 0 0]\n",
            "\n"
          ]
        }
      ]
    },
    {
      "cell_type": "code",
      "source": [
        "print('для однократной ошибки можем обнаружить, но не исправить:')\n",
        "if not np.array_equal(syndrome1, np.zeros(r, dtype=int)):\n",
        "    print(f'ошибка в разряде: {syndrome_table[syndrome1.__str__()]}', end='\\n\\n')\n",
        "else:\n",
        "  print('ошибки нет', end='\\n\\n')\n",
        "\n",
        "print('для двукратной ошибки можем только обнаружить:')\n",
        "if not np.array_equal(syndrome2, np.zeros(r, dtype=int)):\n",
        "    print(f'ошибка в разряде: {syndrome_table[syndrome2.__str__()]}', end='\\n\\n')\n",
        "else:\n",
        "  print('ошибки нет', end='\\n\\n')\n",
        "\n",
        "print('с трёхкратной ошибкой ничего сделать нельзя:')\n",
        "if not np.array_equal(syndrome3, np.zeros(r, dtype=int)):\n",
        "    print(f'ошибка в разряде: {syndrome_table[syndrome3.__str__()]}', end='\\n\\n')\n",
        "else:\n",
        "  print('ошибки нет', end='\\n\\n')"
      ],
      "metadata": {
        "colab": {
          "base_uri": "https://localhost:8080/"
        },
        "id": "cgVDiHtwIVq0",
        "outputId": "1b83cf14-03c2-440f-b113-0bc747f71cb5"
      },
      "execution_count": 130,
      "outputs": [
        {
          "output_type": "stream",
          "name": "stdout",
          "text": [
            "для однократной ошибки можем обнаружить, но не исправить:\n",
            "ошибка в разряде: [1 0 0 0 0 0 0]\n",
            "\n",
            "для двукратной ошибки можем только обнаружить:\n",
            "ошибка в разряде: [0 0 0 0 0 0 1]\n",
            "\n",
            "с трёхкратной ошибкой ничего сделать нельзя:\n",
            "ошибки нет\n",
            "\n"
          ]
        }
      ]
    },
    {
      "cell_type": "markdown",
      "source": [
        "для r = 4"
      ],
      "metadata": {
        "id": "3ZpPNoF3I6zh"
      }
    },
    {
      "cell_type": "code",
      "source": [
        "r = 4\n",
        "n, k = calculate_n_k(r)\n",
        "d = 3\n",
        "print(f'n = {n}, k = {k}, d = {d}', end='\\n\\n')\n",
        "\n",
        "# создадим проверочную матрицу Хэмминга по заданным параметрам\n",
        "H = create_hamming(n, r)\n",
        "print('H =', H, sep='\\n', end='\\n\\n')\n",
        "\n",
        "# создадим пораждающую матрицу\n",
        "G = create_G(H, n, k)\n",
        "print('G =', G, sep='\\n', end='\\n\\n')\n",
        "syndrome_table = create_syndrome_table(H, 1)"
      ],
      "metadata": {
        "colab": {
          "base_uri": "https://localhost:8080/"
        },
        "id": "mQzMNmx6I4bB",
        "outputId": "1bed76fa-212b-480b-e5f4-f56954dfd3d2"
      },
      "execution_count": 131,
      "outputs": [
        {
          "output_type": "stream",
          "name": "stdout",
          "text": [
            "n = 15, k = 11, d = 3\n",
            "\n",
            "H =\n",
            "[[1 1 1 1]\n",
            " [1 1 1 0]\n",
            " [1 1 0 1]\n",
            " [1 0 1 1]\n",
            " [0 1 1 1]\n",
            " [1 1 0 0]\n",
            " [1 0 1 0]\n",
            " [1 0 0 1]\n",
            " [0 1 1 0]\n",
            " [0 1 0 1]\n",
            " [0 0 1 1]\n",
            " [1 0 0 0]\n",
            " [0 1 0 0]\n",
            " [0 0 1 0]\n",
            " [0 0 0 1]]\n",
            "\n",
            "G =\n",
            "[[1 0 0 0 0 0 0 0 0 0 0 1 1 1 1]\n",
            " [0 1 0 0 0 0 0 0 0 0 0 1 1 1 0]\n",
            " [0 0 1 0 0 0 0 0 0 0 0 1 1 0 1]\n",
            " [0 0 0 1 0 0 0 0 0 0 0 1 0 1 1]\n",
            " [0 0 0 0 1 0 0 0 0 0 0 0 1 1 1]\n",
            " [0 0 0 0 0 1 0 0 0 0 0 1 1 0 0]\n",
            " [0 0 0 0 0 0 1 0 0 0 0 1 0 1 0]\n",
            " [0 0 0 0 0 0 0 1 0 0 0 1 0 0 1]\n",
            " [0 0 0 0 0 0 0 0 1 0 0 0 1 1 0]\n",
            " [0 0 0 0 0 0 0 0 0 1 0 0 1 0 1]\n",
            " [0 0 0 0 0 0 0 0 0 0 1 0 0 1 1]]\n",
            "\n"
          ]
        }
      ]
    },
    {
      "cell_type": "code",
      "source": [
        "word = np.array([1, 0, 0, 0, 0, 0, 0, 0, 0, 0, 0])\n",
        "code = np.dot(word, G)\n",
        "print(f'кодовое слово = {code}', end='\\n\\n')\n",
        "\n",
        "error1 = np.array([1, 0, 0, 0, 0, 0, 0, 0, 0, 0, 0, 0, 0, 0, 0])\n",
        "error2 = np.array([1, 1, 0, 0, 0, 0, 0, 0, 0, 0, 0, 0, 0, 0, 0])\n",
        "error3 = np.array([1, 1, 0, 0, 0, 0, 0, 0, 0, 0, 0, 0, 0, 0, 1])\n",
        "\n",
        "err_code1 = code ^ error1\n",
        "err_code2 = code ^ error2\n",
        "err_code3 = code ^ error3\n",
        "\n",
        "syndrome1 = np.dot(err_code1, H) % 2\n",
        "syndrome2 = np.dot(err_code2, H) % 2\n",
        "syndrome3 = np.dot(err_code3, H) % 2\n",
        "print(f'синдром 1 = {syndrome1}, синдром 2 = {syndrome2}, синдром 3 = {syndrome3}', end='\\n\\n')"
      ],
      "metadata": {
        "colab": {
          "base_uri": "https://localhost:8080/"
        },
        "id": "NqxVBmZrJGTj",
        "outputId": "d4243307-0672-4572-9f27-dd69de5be19e"
      },
      "execution_count": 132,
      "outputs": [
        {
          "output_type": "stream",
          "name": "stdout",
          "text": [
            "кодовое слово = [1 0 0 0 0 0 0 0 0 0 0 1 1 1 1]\n",
            "\n",
            "синдром 1 = [1 1 1 1], синдром 2 = [0 0 0 1], синдром 3 = [0 0 0 0]\n",
            "\n"
          ]
        }
      ]
    },
    {
      "cell_type": "code",
      "source": [
        "print('для однократной ошибки можем обнаружить, но не исправить:')\n",
        "if not np.array_equal(syndrome1, np.zeros(r, dtype=int)):\n",
        "    print(f'ошибка в разряде: {syndrome_table[syndrome1.__str__()]}', end='\\n\\n')\n",
        "else:\n",
        "  print('ошибки нет', end='\\n\\n')\n",
        "\n",
        "print('для двукратной ошибки можем только обнаружить:')\n",
        "if not np.array_equal(syndrome2, np.zeros(r, dtype=int)):\n",
        "    print(f'ошибка в разряде: {syndrome_table[syndrome2.__str__()]}', end='\\n\\n')\n",
        "else:\n",
        "  print('ошибки нет', end='\\n\\n')\n",
        "\n",
        "print('с трёхкратной ошибкой ничего сделать нельзя:')\n",
        "if not np.array_equal(syndrome3, np.zeros(r, dtype=int)):\n",
        "    print(f'ошибка в разряде: {syndrome_table[syndrome3.__str__()]}', end='\\n\\n')\n",
        "else:\n",
        "  print('ошибки нет', end='\\n\\n')"
      ],
      "metadata": {
        "colab": {
          "base_uri": "https://localhost:8080/"
        },
        "id": "sIS6XVhyJk2i",
        "outputId": "041107bb-5825-4004-c024-40da5817397c"
      },
      "execution_count": 133,
      "outputs": [
        {
          "output_type": "stream",
          "name": "stdout",
          "text": [
            "для однократной ошибки можем обнаружить, но не исправить:\n",
            "ошибка в разряде: [1 0 0 0 0 0 0 0 0 0 0 0 0 0 0]\n",
            "\n",
            "для двукратной ошибки можем только обнаружить:\n",
            "ошибка в разряде: [0 0 0 0 0 0 0 0 0 0 0 0 0 0 1]\n",
            "\n",
            "с трёхкратной ошибкой ничего сделать нельзя:\n",
            "ошибки нет\n",
            "\n"
          ]
        }
      ]
    },
    {
      "cell_type": "markdown",
      "source": [
        "**3.3 Написать функцию формирования порождающей и проверочной\n",
        "матриц расширенного кода Хэмминга (𝟐\n",
        "𝒓\n",
        ", 𝟐\n",
        "𝒓 − 𝒓 − 𝟏, 𝟑) на основе\n",
        "параметра 𝒓, а также таблицы синдромов для всех однократных\n",
        "ошибок.**"
      ],
      "metadata": {
        "id": "UkySr-z0KPJH"
      }
    },
    {
      "cell_type": "code",
      "source": [
        "# функция создания проверочной расширенной матрицы Хемминга\n",
        "def create_advanced_hamming(n, r):\n",
        "    H_ = np.zeros((n+1, r+1), dtype=int)\n",
        "    H_[:n,:r] = create_hamming(n, r)\n",
        "    H_[:,r] += 1\n",
        "    return H_"
      ],
      "metadata": {
        "id": "3LYfd180KreD"
      },
      "execution_count": 134,
      "outputs": []
    },
    {
      "cell_type": "code",
      "source": [
        "# функция создания расширенной порождающей матрицы\n",
        "def create_advanced_G(H_, n, k):\n",
        "    G_ = np.zeros((k, n+1), dtype=int)\n",
        "    G_[:, :n] = create_G(H_[:n, :n-k], n, k)\n",
        "    for i in range(k):\n",
        "        G_[i][n] = sum(G_[i]) % 2\n",
        "    return G_"
      ],
      "metadata": {
        "id": "4Av8TpVyNCJm"
      },
      "execution_count": 135,
      "outputs": []
    },
    {
      "cell_type": "markdown",
      "source": [
        "**3.4. Провести исследование расширенного кода Хэмминга для одно-,\n",
        "двух-, трёх- и четырёхкратных ошибок для 𝒓 = 𝟐, 𝟑, 𝟒.**"
      ],
      "metadata": {
        "id": "nA6IGhslQGwZ"
      }
    },
    {
      "cell_type": "markdown",
      "source": [
        "для r = 2"
      ],
      "metadata": {
        "id": "NeHl7Vt_QXHl"
      }
    },
    {
      "cell_type": "code",
      "source": [
        "r = 2\n",
        "n, k = calculate_n_k(r)\n",
        "d = 3\n",
        "print(f'n = {n}, k = {k}, d = {d}', end='\\n\\n')\n",
        "\n",
        "# создадим проверочную матрицу Хэмминга по заданным параметрам\n",
        "H_ = create_advanced_hamming(n, r)\n",
        "print('H_ =', H_, sep='\\n', end='\\n\\n')\n",
        "\n",
        "# создадим пораждающую матрицу\n",
        "G_ = create_advanced_G(H_, n, k)\n",
        "print('G_ =', G_, sep='\\n', end='\\n\\n')\n",
        "syndrome_table = create_syndrome_table(H_, 1)"
      ],
      "metadata": {
        "colab": {
          "base_uri": "https://localhost:8080/"
        },
        "id": "uWQ3-_3wQM2r",
        "outputId": "9baad18b-c6f4-4512-9fee-5074947ceda6"
      },
      "execution_count": 136,
      "outputs": [
        {
          "output_type": "stream",
          "name": "stdout",
          "text": [
            "n = 3, k = 1, d = 3\n",
            "\n",
            "H_ =\n",
            "[[1 1 1]\n",
            " [1 0 1]\n",
            " [0 1 1]\n",
            " [0 0 1]]\n",
            "\n",
            "G_ =\n",
            "[[1 1 1 1]]\n",
            "\n"
          ]
        }
      ]
    },
    {
      "cell_type": "code",
      "source": [
        "word = np.array([1])\n",
        "code = np.dot(word, G_)\n",
        "print(f'кодовое слово = {code}', end='\\n\\n')\n",
        "\n",
        "error1 = np.array([1, 0, 0, 0])\n",
        "error2 = np.array([1, 0, 1, 0])\n",
        "error3 = np.array([1, 1, 0, 1])\n",
        "error4 = np.array([1, 1, 1, 1])\n",
        "\n",
        "err_code1 = code ^ error1\n",
        "err_code2 = code ^ error2\n",
        "err_code3 = code ^ error3\n",
        "err_code4 = code ^ error4\n",
        "\n",
        "syndrome1 = np.dot(err_code1, H_) % 2\n",
        "syndrome2 = np.dot(err_code2, H_) % 2\n",
        "syndrome3 = np.dot(err_code3, H_) % 2\n",
        "syndrome4 = np.dot(err_code4, H_) % 2\n",
        "print(f'синдром 1 = {syndrome1}, синдром 2 = {syndrome2}, синдром 3 = {syndrome3}, синдром 4 = {syndrome4}')"
      ],
      "metadata": {
        "colab": {
          "base_uri": "https://localhost:8080/"
        },
        "id": "TOhsLSQHTA_C",
        "outputId": "bbdd8c48-fa2b-4473-f0d3-c3d207652e06"
      },
      "execution_count": 137,
      "outputs": [
        {
          "output_type": "stream",
          "name": "stdout",
          "text": [
            "кодовое слово = [1 1 1 1]\n",
            "\n",
            "синдром 1 = [1 1 1], синдром 2 = [1 0 0], синдром 3 = [0 1 1], синдром 4 = [0 0 0]\n"
          ]
        }
      ]
    },
    {
      "cell_type": "code",
      "source": [
        "def find_error(syndrome, r):\n",
        "    if not np.array_equal(syndrome, np.zeros(r+1, dtype=int)):\n",
        "        if syndrome[r] == 0:\n",
        "            print('двукратная ошибка', end='\\n\\n')\n",
        "        else:\n",
        "          print(f'ошибка в разряде: {syndrome_table[syndrome.__str__()]}', end='\\n\\n')\n",
        "    else:\n",
        "        print('ошибок нет', end='\\n\\n')"
      ],
      "metadata": {
        "id": "IaaP1lEYUsuq"
      },
      "execution_count": 138,
      "outputs": []
    },
    {
      "cell_type": "code",
      "source": [
        "print('для однократной ошибки можем обнаружить, но не исправить:')\n",
        "find_error(syndrome1, r)\n",
        "print('для двукратной ошибки можем обнаружить и распознать:')\n",
        "find_error(syndrome2, r)\n",
        "print('трёхкратную ошибку можем только обнаружить:')\n",
        "find_error(syndrome3, r)\n",
        "print('с четырёхкратной ошибкой ничего сделать нельзя:')\n",
        "find_error(syndrome4, r)"
      ],
      "metadata": {
        "colab": {
          "base_uri": "https://localhost:8080/"
        },
        "id": "7yOMdzVRUN-P",
        "outputId": "4c7c8474-62f9-4317-e6e0-12370105da58"
      },
      "execution_count": 139,
      "outputs": [
        {
          "output_type": "stream",
          "name": "stdout",
          "text": [
            "для однократной ошибки можем обнаружить, но не исправить:\n",
            "ошибка в разряде: [1 0 0 0]\n",
            "\n",
            "для двукратной ошибки можем обнаружить и распознать:\n",
            "двукратная ошибка\n",
            "\n",
            "трёхкратную ошибку можем только обнаружить:\n",
            "ошибка в разряде: [0 0 1 0]\n",
            "\n",
            "с четырёхкратной ошибкой ничего сделать нельзя:\n",
            "ошибок нет\n",
            "\n"
          ]
        }
      ]
    },
    {
      "cell_type": "markdown",
      "source": [
        "для r = 3"
      ],
      "metadata": {
        "id": "BrCmmk-JXEE_"
      }
    },
    {
      "cell_type": "code",
      "source": [
        "r = 3\n",
        "n, k = calculate_n_k(r)\n",
        "d = 3\n",
        "print(f'n = {n}, k = {k}, d = {d}', end='\\n\\n')\n",
        "\n",
        "# создадим проверочную матрицу Хэмминга по заданным параметрам\n",
        "H_ = create_advanced_hamming(n, r)\n",
        "print('H_ =', H_, sep='\\n', end='\\n\\n')\n",
        "\n",
        "# создадим пораждающую матрицу\n",
        "G_ = create_advanced_G(H_, n, k)\n",
        "print('G_ =', G_, sep='\\n', end='\\n\\n')\n",
        "syndrome_table = create_syndrome_table(H_, 1)"
      ],
      "metadata": {
        "colab": {
          "base_uri": "https://localhost:8080/"
        },
        "id": "bEQHDB0JXHGI",
        "outputId": "2d4e96ca-9334-4a91-e371-b22314357d7e"
      },
      "execution_count": 140,
      "outputs": [
        {
          "output_type": "stream",
          "name": "stdout",
          "text": [
            "n = 7, k = 4, d = 3\n",
            "\n",
            "H_ =\n",
            "[[1 1 1 1]\n",
            " [1 1 0 1]\n",
            " [1 0 1 1]\n",
            " [0 1 1 1]\n",
            " [1 0 0 1]\n",
            " [0 1 0 1]\n",
            " [0 0 1 1]\n",
            " [0 0 0 1]]\n",
            "\n",
            "G_ =\n",
            "[[1 0 0 0 1 1 1 0]\n",
            " [0 1 0 0 1 1 0 1]\n",
            " [0 0 1 0 1 0 1 1]\n",
            " [0 0 0 1 0 1 1 1]]\n",
            "\n"
          ]
        }
      ]
    },
    {
      "cell_type": "code",
      "source": [
        "word = np.array([1, 0, 0, 1])\n",
        "code = np.dot(word, G_)\n",
        "print(f'кодовое слово = {code}', end='\\n\\n')\n",
        "\n",
        "error1 = np.array([1, 0, 0, 0, 0, 0, 0, 0])\n",
        "error2 = np.array([1, 1, 0, 0, 0, 0, 0, 0])\n",
        "error3 = np.array([1, 1, 0, 0, 0, 0, 1, 0])\n",
        "error4 = np.array([1, 1, 0, 0, 0, 0, 1, 1])\n",
        "\n",
        "err_code1 = code ^ error1\n",
        "err_code2 = code ^ error2\n",
        "err_code3 = code ^ error3\n",
        "err_code4 = code ^ error4\n",
        "\n",
        "syndrome1 = np.dot(err_code1, H_) % 2\n",
        "syndrome2 = np.dot(err_code2, H_) % 2\n",
        "syndrome3 = np.dot(err_code3, H_) % 2\n",
        "syndrome4 = np.dot(err_code4, H_) % 2\n",
        "print(f'синдром 1 = {syndrome1}, синдром 2 = {syndrome2}, синдром 3 = {syndrome3}, синдром 4 = {syndrome4}')"
      ],
      "metadata": {
        "colab": {
          "base_uri": "https://localhost:8080/"
        },
        "id": "UWD6FWwgXLlc",
        "outputId": "b59f449a-67c6-4c1d-f4cf-3de799a429f7"
      },
      "execution_count": 141,
      "outputs": [
        {
          "output_type": "stream",
          "name": "stdout",
          "text": [
            "кодовое слово = [1 0 0 1 1 2 2 1]\n",
            "\n",
            "синдром 1 = [1 1 1 1], синдром 2 = [0 0 1 0], синдром 3 = [0 0 0 1], синдром 4 = [0 0 0 0]\n"
          ]
        }
      ]
    },
    {
      "cell_type": "code",
      "source": [
        "print('для однократной ошибки можем обнаружить, но не исправить:')\n",
        "find_error(syndrome1, r)\n",
        "print('для двукратной ошибки можем обнаружить и распознать:')\n",
        "find_error(syndrome2, r)\n",
        "print('трёхкратную ошибку можем только обнаружить:')\n",
        "find_error(syndrome3, r)\n",
        "print('с четырёхкратной ошибкой ничего сделать нельзя:')\n",
        "find_error(syndrome4, r)"
      ],
      "metadata": {
        "colab": {
          "base_uri": "https://localhost:8080/"
        },
        "id": "9ou9M4ULXOxP",
        "outputId": "ec325087-c8e5-4a9a-dd95-793996710364"
      },
      "execution_count": 142,
      "outputs": [
        {
          "output_type": "stream",
          "name": "stdout",
          "text": [
            "для однократной ошибки можем обнаружить, но не исправить:\n",
            "ошибка в разряде: [1 0 0 0 0 0 0 0]\n",
            "\n",
            "для двукратной ошибки можем обнаружить и распознать:\n",
            "двукратная ошибка\n",
            "\n",
            "трёхкратную ошибку можем только обнаружить:\n",
            "ошибка в разряде: [0 0 0 0 0 0 0 1]\n",
            "\n",
            "с четырёхкратной ошибкой ничего сделать нельзя:\n",
            "ошибок нет\n",
            "\n"
          ]
        }
      ]
    },
    {
      "cell_type": "markdown",
      "source": [
        "для r = 4"
      ],
      "metadata": {
        "id": "10G4FeT6XRgO"
      }
    },
    {
      "cell_type": "code",
      "source": [
        "r = 4\n",
        "n, k = calculate_n_k(r)\n",
        "d = 3\n",
        "print(f'n = {n}, k = {k}, d = {d}', end='\\n\\n')\n",
        "\n",
        "# создадим проверочную матрицу Хэмминга по заданным параметрам\n",
        "H_ = create_advanced_hamming(n, r)\n",
        "print('H_ =', H_, sep='\\n', end='\\n\\n')\n",
        "\n",
        "# создадим пораждающую матрицу\n",
        "G_ = create_advanced_G(H_, n, k)\n",
        "print('G_ =', G_, sep='\\n', end='\\n\\n')\n",
        "syndrome_table = create_syndrome_table(H_, 1)"
      ],
      "metadata": {
        "colab": {
          "base_uri": "https://localhost:8080/"
        },
        "id": "nHdKl_k-XT3V",
        "outputId": "fd457666-707b-4168-9f4f-28deedc0c459"
      },
      "execution_count": 143,
      "outputs": [
        {
          "output_type": "stream",
          "name": "stdout",
          "text": [
            "n = 15, k = 11, d = 3\n",
            "\n",
            "H_ =\n",
            "[[1 1 1 1 1]\n",
            " [1 1 1 0 1]\n",
            " [1 1 0 1 1]\n",
            " [1 0 1 1 1]\n",
            " [0 1 1 1 1]\n",
            " [1 1 0 0 1]\n",
            " [1 0 1 0 1]\n",
            " [1 0 0 1 1]\n",
            " [0 1 1 0 1]\n",
            " [0 1 0 1 1]\n",
            " [0 0 1 1 1]\n",
            " [1 0 0 0 1]\n",
            " [0 1 0 0 1]\n",
            " [0 0 1 0 1]\n",
            " [0 0 0 1 1]\n",
            " [0 0 0 0 1]]\n",
            "\n",
            "G_ =\n",
            "[[1 0 0 0 0 0 0 0 0 0 0 1 1 1 1 1]\n",
            " [0 1 0 0 0 0 0 0 0 0 0 1 1 1 0 0]\n",
            " [0 0 1 0 0 0 0 0 0 0 0 1 1 0 1 0]\n",
            " [0 0 0 1 0 0 0 0 0 0 0 1 0 1 1 0]\n",
            " [0 0 0 0 1 0 0 0 0 0 0 0 1 1 1 0]\n",
            " [0 0 0 0 0 1 0 0 0 0 0 1 1 0 0 1]\n",
            " [0 0 0 0 0 0 1 0 0 0 0 1 0 1 0 1]\n",
            " [0 0 0 0 0 0 0 1 0 0 0 1 0 0 1 1]\n",
            " [0 0 0 0 0 0 0 0 1 0 0 0 1 1 0 1]\n",
            " [0 0 0 0 0 0 0 0 0 1 0 0 1 0 1 1]\n",
            " [0 0 0 0 0 0 0 0 0 0 1 0 0 1 1 1]]\n",
            "\n"
          ]
        }
      ]
    },
    {
      "cell_type": "code",
      "source": [
        "word = np.array([1, 0, 0, 1, 0, 1, 0, 0, 1, 0, 0])\n",
        "code = np.dot(word, G_)\n",
        "print(f'кодовое слово = {code}', end='\\n\\n')\n",
        "\n",
        "error1 = np.array([1, 0, 0, 0, 0, 0, 0, 0, 0, 0, 0, 0, 0, 0, 0, 0])\n",
        "error2 = np.array([1, 0, 0, 0, 1, 0, 0, 0, 0, 0, 0, 0, 0, 0, 0, 0])\n",
        "error3 = np.array([1, 0, 0, 0, 0, 0, 0, 1, 0, 0, 0, 0, 1, 0, 0, 0])\n",
        "error4 = np.array([1, 0, 0, 0, 0, 1, 0, 0, 0, 0, 0, 0, 0, 1, 1, 0])\n",
        "\n",
        "err_code1 = code ^ error1\n",
        "err_code2 = code ^ error2\n",
        "err_code3 = code ^ error3\n",
        "err_code4 = code ^ error4\n",
        "\n",
        "syndrome1 = np.dot(err_code1, H_) % 2\n",
        "syndrome2 = np.dot(err_code2, H_) % 2\n",
        "syndrome3 = np.dot(err_code3, H_) % 2\n",
        "syndrome4 = np.dot(err_code4, H_) % 2\n",
        "print(f'синдром 1 = {syndrome1}, синдром 2 = {syndrome2}, синдром 3 = {syndrome3}, синдром 4 = {syndrome4}')"
      ],
      "metadata": {
        "colab": {
          "base_uri": "https://localhost:8080/"
        },
        "id": "bCrRTOTKXXJH",
        "outputId": "c2ae0883-7ff4-4d22-d033-5f7493a84561"
      },
      "execution_count": 144,
      "outputs": [
        {
          "output_type": "stream",
          "name": "stdout",
          "text": [
            "кодовое слово = [1 0 0 1 0 1 0 0 1 0 0 3 3 3 2 3]\n",
            "\n",
            "синдром 1 = [1 1 1 1 1], синдром 2 = [1 0 0 0 0], синдром 3 = [0 0 1 0 1], синдром 4 = [0 0 0 0 0]\n"
          ]
        }
      ]
    },
    {
      "cell_type": "code",
      "source": [
        "print('для однократной ошибки можем обнаружить, но не исправить:')\n",
        "find_error(syndrome1, r)\n",
        "print('для двукратной ошибки можем обнаружить и распознать:')\n",
        "find_error(syndrome2, r)\n",
        "print('трёхкратную ошибку можем только обнаружить:')\n",
        "find_error(syndrome3, r)\n",
        "print('с четырёхкратной ошибкой ничего сделать нельзя:')\n",
        "find_error(syndrome4, r)"
      ],
      "metadata": {
        "colab": {
          "base_uri": "https://localhost:8080/"
        },
        "id": "eHlFeZ1EXZGE",
        "outputId": "a4a6efa5-6911-41de-81b6-47fe3ff5dbd8"
      },
      "execution_count": 145,
      "outputs": [
        {
          "output_type": "stream",
          "name": "stdout",
          "text": [
            "для однократной ошибки можем обнаружить, но не исправить:\n",
            "ошибка в разряде: [1 0 0 0 0 0 0 0 0 0 0 0 0 0 0 0]\n",
            "\n",
            "для двукратной ошибки можем обнаружить и распознать:\n",
            "двукратная ошибка\n",
            "\n",
            "трёхкратную ошибку можем только обнаружить:\n",
            "ошибка в разряде: [0 0 0 0 0 0 0 0 0 0 0 0 0 1 0 0]\n",
            "\n",
            "с четырёхкратной ошибкой ничего сделать нельзя:\n",
            "ошибок нет\n",
            "\n"
          ]
        }
      ]
    }
  ]
}