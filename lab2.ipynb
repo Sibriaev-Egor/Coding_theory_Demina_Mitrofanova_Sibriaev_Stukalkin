{
  "nbformat": 4,
  "nbformat_minor": 0,
  "metadata": {
    "colab": {
      "provenance": []
    },
    "kernelspec": {
      "name": "python3",
      "display_name": "Python 3"
    },
    "language_info": {
      "name": "python"
    }
  },
  "cells": [
    {
      "cell_type": "code",
      "execution_count": 1,
      "metadata": {
        "colab": {
          "base_uri": "https://localhost:8080/"
        },
        "id": "pg8TKVd1p9g-",
        "outputId": "b821e4b4-b9f7-4647-feb4-76e8e5cc8e01"
      },
      "outputs": [
        {
          "output_type": "stream",
          "name": "stdout",
          "text": [
            "hello, Darya!\n"
          ]
        }
      ],
      "source": [
        "print(\"hello, Darya!\")"
      ]
    },
    {
      "cell_type": "code",
      "source": [
        "import numpy as np\n",
        "import itertools as iter"
      ],
      "metadata": {
        "id": "s5vTnLURqHVX"
      },
      "execution_count": 2,
      "outputs": []
    },
    {
      "cell_type": "code",
      "source": [
        "def elements_row_xor(row1, row2, k):\n",
        "    for i in range(k, len(row1)):\n",
        "        row2[i] ^= row1[i]"
      ],
      "metadata": {
        "id": "SePsQVmpqb7S"
      },
      "execution_count": 3,
      "outputs": []
    },
    {
      "cell_type": "code",
      "source": [
        "def ref(matrix):\n",
        "    k = -1\n",
        "    for j in range(len(matrix[0])):\n",
        "        b = True\n",
        "        for i in range(k+1, len(matrix)):\n",
        "            if matrix[i][j] == 1:\n",
        "                if b:\n",
        "                    k += 1\n",
        "                    c = matrix[k]\n",
        "                    matrix[k] = matrix[i]\n",
        "                    matrix[i] = c\n",
        "                    b = False\n",
        "                else:\n",
        "                    elements_row_xor(matrix[k], matrix[i], j)\n",
        "    return matrix[:k+1]"
      ],
      "metadata": {
        "id": "E4bFYDhvaFvU"
      },
      "execution_count": 4,
      "outputs": []
    },
    {
      "cell_type": "code",
      "source": [
        "def new_rref(matrix, k):\n",
        "    x = 0\n",
        "    col = 0\n",
        "    while x < k:\n",
        "        if matrix[x][col] == 1:\n",
        "            for i in range(0, x):\n",
        "                if matrix[i][col] == 1:\n",
        "                    elements_row_xor(matrix[x], matrix[i], col)\n",
        "            if col != x:\n",
        "                _ = matrix[:, x].copy()\n",
        "                matrix[:, x] = matrix[:, col].copy()\n",
        "                matrix[:, col] = _\n",
        "            x += 1\n",
        "        col += 1\n",
        "    return matrix"
      ],
      "metadata": {
        "id": "L7ElWnMDaIDV"
      },
      "execution_count": 5,
      "outputs": []
    },
    {
      "cell_type": "code",
      "source": [
        "def createH(X, n, k):\n",
        "    H = np.zeros((n, n-k), dtype=int)\n",
        "\n",
        "    H[:k,:] = X.copy()\n",
        "\n",
        "    H[k:,:] = np.eye(n-k,dtype=int)\n",
        "    return H"
      ],
      "metadata": {
        "id": "2JC433xbaMVi"
      },
      "execution_count": 6,
      "outputs": []
    },
    {
      "cell_type": "code",
      "source": [
        "def create_syndrome_table(H, err_count):\n",
        "    n = len(H)\n",
        "    one_err = np.eye(n, dtype=int)\n",
        "    syndrome_table = {H[i].__str__(): one_err[i] for i in range(n)}\n",
        "\n",
        "    for num in range(2, err_count + 1):\n",
        "        syndrome_arr = [sum(arr) % 2 for arr in np.array(list(iter.combinations(H, num)))]\n",
        "        err_arr = [sum(arr) for arr in np.array(list(iter.combinations(one_err, num)))]\n",
        "        for i in range(len(syndrome_arr)):\n",
        "            syndrome_table[syndrome_arr[i].__str__()] = err_arr[i]\n",
        "\n",
        "    return syndrome_table"
      ],
      "metadata": {
        "id": "vdpJyjniaRaC"
      },
      "execution_count": 7,
      "outputs": []
    },
    {
      "cell_type": "markdown",
      "source": [
        "**Часть 1**"
      ],
      "metadata": {
        "id": "sxevx1OtaXpt"
      }
    },
    {
      "cell_type": "code",
      "source": [
        "# начальная матрица\n",
        "S = np.array([\n",
        "    [1, 0, 0, 1, 0, 1, 1],\n",
        "    [1, 1, 0, 0, 0, 0, 1],\n",
        "    [0, 0, 1, 1, 0, 0, 1],\n",
        "    [1, 0, 1, 0, 1, 0, 1],\n",
        "    [0, 0, 1, 1, 1, 1, 0]\n",
        "])"
      ],
      "metadata": {
        "id": "x9SoUGJxaxQL"
      },
      "execution_count": 8,
      "outputs": []
    },
    {
      "cell_type": "markdown",
      "source": [
        "**2.1. Сформировать порождающую матрицу линейного кода (7, 4, 3).**"
      ],
      "metadata": {
        "id": "K9KTlb2OogZC"
      }
    },
    {
      "cell_type": "code",
      "source": [
        "G = ref(S.copy())\n",
        "k = len(G)\n",
        "n = len(G[0])\n",
        "\n",
        "# приведённая матрица в ступенчатом виде\n",
        "G = new_rref(G.copy(), k)\n",
        "G"
      ],
      "metadata": {
        "colab": {
          "base_uri": "https://localhost:8080/"
        },
        "id": "Bir_civvafPB",
        "outputId": "4cfb3225-6a83-4847-a059-94fb231ea1d1"
      },
      "execution_count": 9,
      "outputs": [
        {
          "output_type": "execute_result",
          "data": {
            "text/plain": [
              "array([[1, 0, 0, 0, 1, 1, 1],\n",
              "       [0, 1, 0, 0, 1, 1, 0],\n",
              "       [0, 0, 1, 0, 1, 0, 1],\n",
              "       [0, 0, 0, 1, 0, 1, 1]])"
            ]
          },
          "metadata": {},
          "execution_count": 9
        }
      ]
    },
    {
      "cell_type": "code",
      "source": [
        "n, k"
      ],
      "metadata": {
        "colab": {
          "base_uri": "https://localhost:8080/"
        },
        "id": "vFVnFe3rapEL",
        "outputId": "b22232ad-e4ad-4e39-c411-7cc034fe4ce1"
      },
      "execution_count": 10,
      "outputs": [
        {
          "output_type": "execute_result",
          "data": {
            "text/plain": [
              "(7, 4)"
            ]
          },
          "metadata": {},
          "execution_count": 10
        }
      ]
    },
    {
      "cell_type": "code",
      "source": [
        "X = G[:,k:].copy()\n",
        "X"
      ],
      "metadata": {
        "colab": {
          "base_uri": "https://localhost:8080/"
        },
        "id": "KrcNAwRhasnC",
        "outputId": "b37c22ae-a2fd-4af4-d5d9-cf01bfa9d590"
      },
      "execution_count": 11,
      "outputs": [
        {
          "output_type": "execute_result",
          "data": {
            "text/plain": [
              "array([[1, 1, 1],\n",
              "       [1, 1, 0],\n",
              "       [1, 0, 1],\n",
              "       [0, 1, 1]])"
            ]
          },
          "metadata": {},
          "execution_count": 11
        }
      ]
    },
    {
      "cell_type": "markdown",
      "source": [
        "**2.2 Сформировать проверочную матрицу на основе порождающей.**"
      ],
      "metadata": {
        "id": "cHKZI6YSow5s"
      }
    },
    {
      "cell_type": "code",
      "source": [
        "# проверочная матрица\n",
        "H = createH(X.copy(), n, k)\n",
        "H"
      ],
      "metadata": {
        "colab": {
          "base_uri": "https://localhost:8080/"
        },
        "id": "eMtK2vY-a779",
        "outputId": "31e67e58-7bfb-46da-ef58-6932d17d29f0"
      },
      "execution_count": 12,
      "outputs": [
        {
          "output_type": "execute_result",
          "data": {
            "text/plain": [
              "array([[1, 1, 1],\n",
              "       [1, 1, 0],\n",
              "       [1, 0, 1],\n",
              "       [0, 1, 1],\n",
              "       [1, 0, 0],\n",
              "       [0, 1, 0],\n",
              "       [0, 0, 1]])"
            ]
          },
          "metadata": {},
          "execution_count": 12
        }
      ]
    },
    {
      "cell_type": "markdown",
      "source": [
        "**2.3 Сформировать таблицу синдромов для всех однократных ошибок.**"
      ],
      "metadata": {
        "id": "N8hwzF-0o0cR"
      }
    },
    {
      "cell_type": "code",
      "source": [
        "# сформируем таблицу синдромов для однократных ошибок\n",
        "syndrome_table = create_syndrome_table(H.copy(), err_count=1)\n",
        "syndrome_table"
      ],
      "metadata": {
        "colab": {
          "base_uri": "https://localhost:8080/"
        },
        "id": "PAJnZ4zQa_7C",
        "outputId": "8a4b3123-c250-4109-ee6f-b034221867ee"
      },
      "execution_count": 13,
      "outputs": [
        {
          "output_type": "execute_result",
          "data": {
            "text/plain": [
              "{'[1 1 1]': array([1, 0, 0, 0, 0, 0, 0]),\n",
              " '[1 1 0]': array([0, 1, 0, 0, 0, 0, 0]),\n",
              " '[1 0 1]': array([0, 0, 1, 0, 0, 0, 0]),\n",
              " '[0 1 1]': array([0, 0, 0, 1, 0, 0, 0]),\n",
              " '[1 0 0]': array([0, 0, 0, 0, 1, 0, 0]),\n",
              " '[0 1 0]': array([0, 0, 0, 0, 0, 1, 0]),\n",
              " '[0 0 1]': array([0, 0, 0, 0, 0, 0, 1])}"
            ]
          },
          "metadata": {},
          "execution_count": 13
        }
      ]
    },
    {
      "cell_type": "markdown",
      "source": [
        "**2.4. Сформировать кодовое слово длины n из слова длины k.**"
      ],
      "metadata": {
        "id": "lzjMW5YRo_X_"
      }
    },
    {
      "cell_type": "code",
      "source": [
        "word = np.array([1, 0, 0, 1])\n",
        "code_word = np.dot(word, G) % 2\n",
        "code_word"
      ],
      "metadata": {
        "colab": {
          "base_uri": "https://localhost:8080/"
        },
        "id": "3jsQcYwybKo9",
        "outputId": "3870807f-79fd-4b0b-876f-ebdfcdaba3dd"
      },
      "execution_count": 14,
      "outputs": [
        {
          "output_type": "execute_result",
          "data": {
            "text/plain": [
              "array([1, 0, 0, 1, 1, 0, 0])"
            ]
          },
          "metadata": {},
          "execution_count": 14
        }
      ]
    },
    {
      "cell_type": "markdown",
      "source": [
        "**Внести однократную ошибку в сформированное слово.**"
      ],
      "metadata": {
        "id": "ZEXoNZLbpGRm"
      }
    },
    {
      "cell_type": "code",
      "source": [
        "err = np.array([0, 1, 0, 0, 0, 0, 0])\n",
        "receive_code_word = code_word ^ err\n",
        "receive_code_word"
      ],
      "metadata": {
        "colab": {
          "base_uri": "https://localhost:8080/"
        },
        "id": "vFQIdaUSbPen",
        "outputId": "4073eff5-2468-447d-81be-2745e4a22a22"
      },
      "execution_count": 15,
      "outputs": [
        {
          "output_type": "execute_result",
          "data": {
            "text/plain": [
              "array([1, 1, 0, 1, 1, 0, 0])"
            ]
          },
          "metadata": {},
          "execution_count": 15
        }
      ]
    },
    {
      "cell_type": "markdown",
      "source": [
        "**Вычислить синдром, исправить ошибку с использованием таблицы синдромов.**"
      ],
      "metadata": {
        "id": "96xhW4WgpLxN"
      }
    },
    {
      "cell_type": "code",
      "source": [
        "syndrome = np.dot(receive_code_word, H) % 2\n",
        "syndrome"
      ],
      "metadata": {
        "colab": {
          "base_uri": "https://localhost:8080/"
        },
        "id": "zLaLMOhebPzH",
        "outputId": "de985796-bac2-4f71-9f9d-e3cd9aece6f5"
      },
      "execution_count": 16,
      "outputs": [
        {
          "output_type": "execute_result",
          "data": {
            "text/plain": [
              "array([1, 1, 0])"
            ]
          },
          "metadata": {},
          "execution_count": 16
        }
      ]
    },
    {
      "cell_type": "code",
      "source": [
        "if not np.array_equal(syndrome, np.zeros(n, dtype=int)):\n",
        "    receive_code_word ^= syndrome_table[syndrome.__str__()]\n",
        "receive_code_word"
      ],
      "metadata": {
        "colab": {
          "base_uri": "https://localhost:8080/"
        },
        "id": "yoPJbWw7birZ",
        "outputId": "61ec54b0-5cf6-402d-9c81-75eefa724e9f"
      },
      "execution_count": 17,
      "outputs": [
        {
          "output_type": "execute_result",
          "data": {
            "text/plain": [
              "array([1, 0, 0, 1, 1, 0, 0])"
            ]
          },
          "metadata": {},
          "execution_count": 17
        }
      ]
    },
    {
      "cell_type": "markdown",
      "source": [
        "**Убедиться в правильности полученного слова.**"
      ],
      "metadata": {
        "id": "hGgwY1AupXJ_"
      }
    },
    {
      "cell_type": "code",
      "source": [
        "decoded_word = receive_code_word[:k]\n",
        "decoded_word"
      ],
      "metadata": {
        "colab": {
          "base_uri": "https://localhost:8080/"
        },
        "id": "6w8kyv8obq-4",
        "outputId": "c0b915e3-d0bd-44f3-a9a3-bd24b1270a34"
      },
      "execution_count": 18,
      "outputs": [
        {
          "output_type": "execute_result",
          "data": {
            "text/plain": [
              "array([1, 0, 0, 1])"
            ]
          },
          "metadata": {},
          "execution_count": 18
        }
      ]
    },
    {
      "cell_type": "code",
      "source": [
        "np.array_equal(word, decoded_word)"
      ],
      "metadata": {
        "colab": {
          "base_uri": "https://localhost:8080/"
        },
        "id": "TjKDX-38b0YM",
        "outputId": "432e88ff-6138-4632-8455-6366bf97c42f"
      },
      "execution_count": 19,
      "outputs": [
        {
          "output_type": "execute_result",
          "data": {
            "text/plain": [
              "True"
            ]
          },
          "metadata": {},
          "execution_count": 19
        }
      ]
    },
    {
      "cell_type": "markdown",
      "source": [
        "**2.5. Сформировать кодовое слово длины n из слова длины k.**"
      ],
      "metadata": {
        "id": "yDGwYgj_pc8_"
      }
    },
    {
      "cell_type": "code",
      "source": [
        "word = np.array([0, 1, 1, 1])\n",
        "code_word = np.dot(word, G) % 2\n",
        "code_word"
      ],
      "metadata": {
        "colab": {
          "base_uri": "https://localhost:8080/"
        },
        "id": "wE7JWr1ycLAs",
        "outputId": "cda02a8f-6fcc-4c6e-8d93-56750f4673c0"
      },
      "execution_count": 20,
      "outputs": [
        {
          "output_type": "execute_result",
          "data": {
            "text/plain": [
              "array([0, 1, 1, 1, 0, 0, 0])"
            ]
          },
          "metadata": {},
          "execution_count": 20
        }
      ]
    },
    {
      "cell_type": "markdown",
      "source": [
        "**Внести двукратную ошибку в сформированное слово.**"
      ],
      "metadata": {
        "id": "ndsbAQMEpgOs"
      }
    },
    {
      "cell_type": "code",
      "source": [
        "err = np.array([0, 1, 0, 0, 0, 1, 0])\n",
        "receive_code_word = code_word ^ err\n",
        "receive_code_word"
      ],
      "metadata": {
        "colab": {
          "base_uri": "https://localhost:8080/"
        },
        "id": "72U4RFsncLfp",
        "outputId": "6b22ea73-cc3c-4cd6-d6dd-ce9b645925c5"
      },
      "execution_count": 21,
      "outputs": [
        {
          "output_type": "execute_result",
          "data": {
            "text/plain": [
              "array([0, 0, 1, 1, 0, 1, 0])"
            ]
          },
          "metadata": {},
          "execution_count": 21
        }
      ]
    },
    {
      "cell_type": "markdown",
      "source": [
        "**Вычислить синдром, исправить ошибку с использованием таблицы синдромов.**"
      ],
      "metadata": {
        "id": "LSKZg9pQprHU"
      }
    },
    {
      "cell_type": "code",
      "source": [
        "syndrome = np.dot(receive_code_word, H) % 2\n",
        "syndrome"
      ],
      "metadata": {
        "colab": {
          "base_uri": "https://localhost:8080/"
        },
        "id": "k7KZzPHHcLtl",
        "outputId": "66779795-7f3d-4b05-f089-5553df1fadc8"
      },
      "execution_count": 22,
      "outputs": [
        {
          "output_type": "execute_result",
          "data": {
            "text/plain": [
              "array([1, 0, 0])"
            ]
          },
          "metadata": {},
          "execution_count": 22
        }
      ]
    },
    {
      "cell_type": "code",
      "source": [
        "if not np.array_equal(syndrome, np.zeros(n, dtype=int)):\n",
        "    receive_code_word ^= syndrome_table[syndrome.__str__()]\n",
        "receive_code_word"
      ],
      "metadata": {
        "colab": {
          "base_uri": "https://localhost:8080/"
        },
        "id": "io8iTWcJcL6t",
        "outputId": "fb24f52f-3452-4d71-9a04-875b564f3ad1"
      },
      "execution_count": 23,
      "outputs": [
        {
          "output_type": "execute_result",
          "data": {
            "text/plain": [
              "array([0, 0, 1, 1, 1, 1, 0])"
            ]
          },
          "metadata": {},
          "execution_count": 23
        }
      ]
    },
    {
      "cell_type": "markdown",
      "source": [
        "**Убедиться, что полученное слово отличается от отправленного.**"
      ],
      "metadata": {
        "id": "vLB8eOFxqEOp"
      }
    },
    {
      "cell_type": "code",
      "source": [
        "decoded_word = receive_code_word[:k]\n",
        "decoded_word"
      ],
      "metadata": {
        "colab": {
          "base_uri": "https://localhost:8080/"
        },
        "id": "XVfY_DOJcRqR",
        "outputId": "4cada5b3-f6d1-4290-da31-c705a52f87c8"
      },
      "execution_count": 24,
      "outputs": [
        {
          "output_type": "execute_result",
          "data": {
            "text/plain": [
              "array([0, 0, 1, 1])"
            ]
          },
          "metadata": {},
          "execution_count": 24
        }
      ]
    },
    {
      "cell_type": "code",
      "source": [
        "np.array_equal(word, decoded_word)"
      ],
      "metadata": {
        "colab": {
          "base_uri": "https://localhost:8080/"
        },
        "id": "VRwDSm5icVIh",
        "outputId": "db469f28-b9fc-44f5-c1e8-029fb1d4a9fd"
      },
      "execution_count": 25,
      "outputs": [
        {
          "output_type": "execute_result",
          "data": {
            "text/plain": [
              "False"
            ]
          },
          "metadata": {},
          "execution_count": 25
        }
      ]
    },
    {
      "cell_type": "markdown",
      "source": [
        "**Часть 2**"
      ],
      "metadata": {
        "id": "kbTnCTz-cffD"
      }
    },
    {
      "cell_type": "markdown",
      "source": [
        "**2.6. Сформировать порождающую матрицу линейного кода (n, k, 5).**"
      ],
      "metadata": {
        "id": "XGPborUpqJYB"
      }
    },
    {
      "cell_type": "code",
      "source": [
        "k, n = 5, 13\n",
        "X = np.array([\n",
        "    [1, 1, 1, 1, 1, 0, 0, 1],\n",
        "    [1, 1, 0, 0, 0, 1, 1, 1],\n",
        "    [1, 0, 1, 1, 0, 1, 0, 1],\n",
        "    [0, 1, 1, 0, 1, 0, 1, 1],\n",
        "    [0, 0, 0, 1, 1, 1, 1, 1]\n",
        "])\n",
        "G = np.zeros((k,n), dtype=int)\n",
        "G[:,:k] = np.eye(k, dtype=int)\n",
        "G[:, k:] = X.copy()\n",
        "G"
      ],
      "metadata": {
        "colab": {
          "base_uri": "https://localhost:8080/"
        },
        "id": "wVboNLqrci0e",
        "outputId": "c0e9868e-37e7-42d0-cfde-e0c0f35cfd4d"
      },
      "execution_count": 26,
      "outputs": [
        {
          "output_type": "execute_result",
          "data": {
            "text/plain": [
              "array([[1, 0, 0, 0, 0, 1, 1, 1, 1, 1, 0, 0, 1],\n",
              "       [0, 1, 0, 0, 0, 1, 1, 0, 0, 0, 1, 1, 1],\n",
              "       [0, 0, 1, 0, 0, 1, 0, 1, 1, 0, 1, 0, 1],\n",
              "       [0, 0, 0, 1, 0, 0, 1, 1, 0, 1, 0, 1, 1],\n",
              "       [0, 0, 0, 0, 1, 0, 0, 0, 1, 1, 1, 1, 1]])"
            ]
          },
          "metadata": {},
          "execution_count": 26
        }
      ]
    },
    {
      "cell_type": "markdown",
      "source": [
        "**2.7 Сформировать проверочную матрицу на основе порождающей.**"
      ],
      "metadata": {
        "id": "4p88qNserJz2"
      }
    },
    {
      "cell_type": "code",
      "source": [
        "H = np.zeros((n, n-k), dtype=int)\n",
        "H[:k, :] = X.copy()\n",
        "H[k:, :] = np.eye(n-k, dtype=int)\n",
        "H"
      ],
      "metadata": {
        "colab": {
          "base_uri": "https://localhost:8080/"
        },
        "id": "zyqLCgfIdC9f",
        "outputId": "c14cba11-ee39-4234-bdf1-b9ac57185c2a"
      },
      "execution_count": 27,
      "outputs": [
        {
          "output_type": "execute_result",
          "data": {
            "text/plain": [
              "array([[1, 1, 1, 1, 1, 0, 0, 1],\n",
              "       [1, 1, 0, 0, 0, 1, 1, 1],\n",
              "       [1, 0, 1, 1, 0, 1, 0, 1],\n",
              "       [0, 1, 1, 0, 1, 0, 1, 1],\n",
              "       [0, 0, 0, 1, 1, 1, 1, 1],\n",
              "       [1, 0, 0, 0, 0, 0, 0, 0],\n",
              "       [0, 1, 0, 0, 0, 0, 0, 0],\n",
              "       [0, 0, 1, 0, 0, 0, 0, 0],\n",
              "       [0, 0, 0, 1, 0, 0, 0, 0],\n",
              "       [0, 0, 0, 0, 1, 0, 0, 0],\n",
              "       [0, 0, 0, 0, 0, 1, 0, 0],\n",
              "       [0, 0, 0, 0, 0, 0, 1, 0],\n",
              "       [0, 0, 0, 0, 0, 0, 0, 1]])"
            ]
          },
          "metadata": {},
          "execution_count": 27
        }
      ]
    },
    {
      "cell_type": "markdown",
      "source": [
        "**2.8 Сформировать таблицу синдромов для всех однократных и двукратных ошибок.**"
      ],
      "metadata": {
        "id": "53cfV5xMrY6u"
      }
    },
    {
      "cell_type": "code",
      "source": [
        "syndrome_table = create_syndrome_table(H.copy(), err_count=2)\n",
        "syndrome_table"
      ],
      "metadata": {
        "colab": {
          "base_uri": "https://localhost:8080/"
        },
        "id": "IKHtIEftdIED",
        "outputId": "d3bbe1fe-7ccd-4795-c896-346536ce0355"
      },
      "execution_count": 28,
      "outputs": [
        {
          "output_type": "execute_result",
          "data": {
            "text/plain": [
              "{'[1 1 1 1 1 0 0 1]': array([1, 0, 0, 0, 0, 0, 0, 0, 0, 0, 0, 0, 0]),\n",
              " '[1 1 0 0 0 1 1 1]': array([0, 1, 0, 0, 0, 0, 0, 0, 0, 0, 0, 0, 0]),\n",
              " '[1 0 1 1 0 1 0 1]': array([0, 0, 1, 0, 0, 0, 0, 0, 0, 0, 0, 0, 0]),\n",
              " '[0 1 1 0 1 0 1 1]': array([0, 0, 0, 1, 0, 0, 0, 0, 0, 0, 0, 0, 0]),\n",
              " '[0 0 0 1 1 1 1 1]': array([0, 0, 0, 0, 1, 0, 0, 0, 0, 0, 0, 0, 0]),\n",
              " '[1 0 0 0 0 0 0 0]': array([0, 0, 0, 0, 0, 1, 0, 0, 0, 0, 0, 0, 0]),\n",
              " '[0 1 0 0 0 0 0 0]': array([0, 0, 0, 0, 0, 0, 1, 0, 0, 0, 0, 0, 0]),\n",
              " '[0 0 1 0 0 0 0 0]': array([0, 0, 0, 0, 0, 0, 0, 1, 0, 0, 0, 0, 0]),\n",
              " '[0 0 0 1 0 0 0 0]': array([0, 0, 0, 0, 0, 0, 0, 0, 1, 0, 0, 0, 0]),\n",
              " '[0 0 0 0 1 0 0 0]': array([0, 0, 0, 0, 0, 0, 0, 0, 0, 1, 0, 0, 0]),\n",
              " '[0 0 0 0 0 1 0 0]': array([0, 0, 0, 0, 0, 0, 0, 0, 0, 0, 1, 0, 0]),\n",
              " '[0 0 0 0 0 0 1 0]': array([0, 0, 0, 0, 0, 0, 0, 0, 0, 0, 0, 1, 0]),\n",
              " '[0 0 0 0 0 0 0 1]': array([0, 0, 0, 0, 0, 0, 0, 0, 0, 0, 0, 0, 1]),\n",
              " '[0 0 1 1 1 1 1 0]': array([1, 1, 0, 0, 0, 0, 0, 0, 0, 0, 0, 0, 0]),\n",
              " '[0 1 0 0 1 1 0 0]': array([1, 0, 1, 0, 0, 0, 0, 0, 0, 0, 0, 0, 0]),\n",
              " '[1 0 0 1 0 0 1 0]': array([1, 0, 0, 1, 0, 0, 0, 0, 0, 0, 0, 0, 0]),\n",
              " '[1 1 1 0 0 1 1 0]': array([1, 0, 0, 0, 1, 0, 0, 0, 0, 0, 0, 0, 0]),\n",
              " '[0 1 1 1 1 0 0 1]': array([1, 0, 0, 0, 0, 1, 0, 0, 0, 0, 0, 0, 0]),\n",
              " '[1 0 1 1 1 0 0 1]': array([1, 0, 0, 0, 0, 0, 1, 0, 0, 0, 0, 0, 0]),\n",
              " '[1 1 0 1 1 0 0 1]': array([1, 0, 0, 0, 0, 0, 0, 1, 0, 0, 0, 0, 0]),\n",
              " '[1 1 1 0 1 0 0 1]': array([1, 0, 0, 0, 0, 0, 0, 0, 1, 0, 0, 0, 0]),\n",
              " '[1 1 1 1 0 0 0 1]': array([1, 0, 0, 0, 0, 0, 0, 0, 0, 1, 0, 0, 0]),\n",
              " '[1 1 1 1 1 1 0 1]': array([1, 0, 0, 0, 0, 0, 0, 0, 0, 0, 1, 0, 0]),\n",
              " '[1 1 1 1 1 0 1 1]': array([1, 0, 0, 0, 0, 0, 0, 0, 0, 0, 0, 1, 0]),\n",
              " '[1 1 1 1 1 0 0 0]': array([1, 0, 0, 0, 0, 0, 0, 0, 0, 0, 0, 0, 1]),\n",
              " '[0 1 1 1 0 0 1 0]': array([0, 1, 1, 0, 0, 0, 0, 0, 0, 0, 0, 0, 0]),\n",
              " '[1 0 1 0 1 1 0 0]': array([0, 1, 0, 1, 0, 0, 0, 0, 0, 0, 0, 0, 0]),\n",
              " '[1 1 0 1 1 0 0 0]': array([0, 1, 0, 0, 1, 0, 0, 0, 0, 0, 0, 0, 0]),\n",
              " '[0 1 0 0 0 1 1 1]': array([0, 1, 0, 0, 0, 1, 0, 0, 0, 0, 0, 0, 0]),\n",
              " '[1 0 0 0 0 1 1 1]': array([0, 1, 0, 0, 0, 0, 1, 0, 0, 0, 0, 0, 0]),\n",
              " '[1 1 1 0 0 1 1 1]': array([0, 1, 0, 0, 0, 0, 0, 1, 0, 0, 0, 0, 0]),\n",
              " '[1 1 0 1 0 1 1 1]': array([0, 1, 0, 0, 0, 0, 0, 0, 1, 0, 0, 0, 0]),\n",
              " '[1 1 0 0 1 1 1 1]': array([0, 1, 0, 0, 0, 0, 0, 0, 0, 1, 0, 0, 0]),\n",
              " '[1 1 0 0 0 0 1 1]': array([0, 1, 0, 0, 0, 0, 0, 0, 0, 0, 1, 0, 0]),\n",
              " '[1 1 0 0 0 1 0 1]': array([0, 1, 0, 0, 0, 0, 0, 0, 0, 0, 0, 1, 0]),\n",
              " '[1 1 0 0 0 1 1 0]': array([0, 1, 0, 0, 0, 0, 0, 0, 0, 0, 0, 0, 1]),\n",
              " '[1 1 0 1 1 1 1 0]': array([0, 0, 1, 1, 0, 0, 0, 0, 0, 0, 0, 0, 0]),\n",
              " '[1 0 1 0 1 0 1 0]': array([0, 0, 1, 0, 1, 0, 0, 0, 0, 0, 0, 0, 0]),\n",
              " '[0 0 1 1 0 1 0 1]': array([0, 0, 1, 0, 0, 1, 0, 0, 0, 0, 0, 0, 0]),\n",
              " '[1 1 1 1 0 1 0 1]': array([0, 0, 1, 0, 0, 0, 1, 0, 0, 0, 0, 0, 0]),\n",
              " '[1 0 0 1 0 1 0 1]': array([0, 0, 1, 0, 0, 0, 0, 1, 0, 0, 0, 0, 0]),\n",
              " '[1 0 1 0 0 1 0 1]': array([0, 0, 1, 0, 0, 0, 0, 0, 1, 0, 0, 0, 0]),\n",
              " '[1 0 1 1 1 1 0 1]': array([0, 0, 1, 0, 0, 0, 0, 0, 0, 1, 0, 0, 0]),\n",
              " '[1 0 1 1 0 0 0 1]': array([0, 0, 1, 0, 0, 0, 0, 0, 0, 0, 1, 0, 0]),\n",
              " '[1 0 1 1 0 1 1 1]': array([0, 0, 1, 0, 0, 0, 0, 0, 0, 0, 0, 1, 0]),\n",
              " '[1 0 1 1 0 1 0 0]': array([0, 0, 1, 0, 0, 0, 0, 0, 0, 0, 0, 0, 1]),\n",
              " '[0 1 1 1 0 1 0 0]': array([0, 0, 0, 1, 1, 0, 0, 0, 0, 0, 0, 0, 0]),\n",
              " '[1 1 1 0 1 0 1 1]': array([0, 0, 0, 1, 0, 1, 0, 0, 0, 0, 0, 0, 0]),\n",
              " '[0 0 1 0 1 0 1 1]': array([0, 0, 0, 1, 0, 0, 1, 0, 0, 0, 0, 0, 0]),\n",
              " '[0 1 0 0 1 0 1 1]': array([0, 0, 0, 1, 0, 0, 0, 1, 0, 0, 0, 0, 0]),\n",
              " '[0 1 1 1 1 0 1 1]': array([0, 0, 0, 1, 0, 0, 0, 0, 1, 0, 0, 0, 0]),\n",
              " '[0 1 1 0 0 0 1 1]': array([0, 0, 0, 1, 0, 0, 0, 0, 0, 1, 0, 0, 0]),\n",
              " '[0 1 1 0 1 1 1 1]': array([0, 0, 0, 1, 0, 0, 0, 0, 0, 0, 1, 0, 0]),\n",
              " '[0 1 1 0 1 0 0 1]': array([0, 0, 0, 1, 0, 0, 0, 0, 0, 0, 0, 1, 0]),\n",
              " '[0 1 1 0 1 0 1 0]': array([0, 0, 0, 1, 0, 0, 0, 0, 0, 0, 0, 0, 1]),\n",
              " '[1 0 0 1 1 1 1 1]': array([0, 0, 0, 0, 1, 1, 0, 0, 0, 0, 0, 0, 0]),\n",
              " '[0 1 0 1 1 1 1 1]': array([0, 0, 0, 0, 1, 0, 1, 0, 0, 0, 0, 0, 0]),\n",
              " '[0 0 1 1 1 1 1 1]': array([0, 0, 0, 0, 1, 0, 0, 1, 0, 0, 0, 0, 0]),\n",
              " '[0 0 0 0 1 1 1 1]': array([0, 0, 0, 0, 1, 0, 0, 0, 1, 0, 0, 0, 0]),\n",
              " '[0 0 0 1 0 1 1 1]': array([0, 0, 0, 0, 1, 0, 0, 0, 0, 1, 0, 0, 0]),\n",
              " '[0 0 0 1 1 0 1 1]': array([0, 0, 0, 0, 1, 0, 0, 0, 0, 0, 1, 0, 0]),\n",
              " '[0 0 0 1 1 1 0 1]': array([0, 0, 0, 0, 1, 0, 0, 0, 0, 0, 0, 1, 0]),\n",
              " '[0 0 0 1 1 1 1 0]': array([0, 0, 0, 0, 1, 0, 0, 0, 0, 0, 0, 0, 1]),\n",
              " '[1 1 0 0 0 0 0 0]': array([0, 0, 0, 0, 0, 1, 1, 0, 0, 0, 0, 0, 0]),\n",
              " '[1 0 1 0 0 0 0 0]': array([0, 0, 0, 0, 0, 1, 0, 1, 0, 0, 0, 0, 0]),\n",
              " '[1 0 0 1 0 0 0 0]': array([0, 0, 0, 0, 0, 1, 0, 0, 1, 0, 0, 0, 0]),\n",
              " '[1 0 0 0 1 0 0 0]': array([0, 0, 0, 0, 0, 1, 0, 0, 0, 1, 0, 0, 0]),\n",
              " '[1 0 0 0 0 1 0 0]': array([0, 0, 0, 0, 0, 1, 0, 0, 0, 0, 1, 0, 0]),\n",
              " '[1 0 0 0 0 0 1 0]': array([0, 0, 0, 0, 0, 1, 0, 0, 0, 0, 0, 1, 0]),\n",
              " '[1 0 0 0 0 0 0 1]': array([0, 0, 0, 0, 0, 1, 0, 0, 0, 0, 0, 0, 1]),\n",
              " '[0 1 1 0 0 0 0 0]': array([0, 0, 0, 0, 0, 0, 1, 1, 0, 0, 0, 0, 0]),\n",
              " '[0 1 0 1 0 0 0 0]': array([0, 0, 0, 0, 0, 0, 1, 0, 1, 0, 0, 0, 0]),\n",
              " '[0 1 0 0 1 0 0 0]': array([0, 0, 0, 0, 0, 0, 1, 0, 0, 1, 0, 0, 0]),\n",
              " '[0 1 0 0 0 1 0 0]': array([0, 0, 0, 0, 0, 0, 1, 0, 0, 0, 1, 0, 0]),\n",
              " '[0 1 0 0 0 0 1 0]': array([0, 0, 0, 0, 0, 0, 1, 0, 0, 0, 0, 1, 0]),\n",
              " '[0 1 0 0 0 0 0 1]': array([0, 0, 0, 0, 0, 0, 1, 0, 0, 0, 0, 0, 1]),\n",
              " '[0 0 1 1 0 0 0 0]': array([0, 0, 0, 0, 0, 0, 0, 1, 1, 0, 0, 0, 0]),\n",
              " '[0 0 1 0 1 0 0 0]': array([0, 0, 0, 0, 0, 0, 0, 1, 0, 1, 0, 0, 0]),\n",
              " '[0 0 1 0 0 1 0 0]': array([0, 0, 0, 0, 0, 0, 0, 1, 0, 0, 1, 0, 0]),\n",
              " '[0 0 1 0 0 0 1 0]': array([0, 0, 0, 0, 0, 0, 0, 1, 0, 0, 0, 1, 0]),\n",
              " '[0 0 1 0 0 0 0 1]': array([0, 0, 0, 0, 0, 0, 0, 1, 0, 0, 0, 0, 1]),\n",
              " '[0 0 0 1 1 0 0 0]': array([0, 0, 0, 0, 0, 0, 0, 0, 1, 1, 0, 0, 0]),\n",
              " '[0 0 0 1 0 1 0 0]': array([0, 0, 0, 0, 0, 0, 0, 0, 1, 0, 1, 0, 0]),\n",
              " '[0 0 0 1 0 0 1 0]': array([0, 0, 0, 0, 0, 0, 0, 0, 1, 0, 0, 1, 0]),\n",
              " '[0 0 0 1 0 0 0 1]': array([0, 0, 0, 0, 0, 0, 0, 0, 1, 0, 0, 0, 1]),\n",
              " '[0 0 0 0 1 1 0 0]': array([0, 0, 0, 0, 0, 0, 0, 0, 0, 1, 1, 0, 0]),\n",
              " '[0 0 0 0 1 0 1 0]': array([0, 0, 0, 0, 0, 0, 0, 0, 0, 1, 0, 1, 0]),\n",
              " '[0 0 0 0 1 0 0 1]': array([0, 0, 0, 0, 0, 0, 0, 0, 0, 1, 0, 0, 1]),\n",
              " '[0 0 0 0 0 1 1 0]': array([0, 0, 0, 0, 0, 0, 0, 0, 0, 0, 1, 1, 0]),\n",
              " '[0 0 0 0 0 1 0 1]': array([0, 0, 0, 0, 0, 0, 0, 0, 0, 0, 1, 0, 1]),\n",
              " '[0 0 0 0 0 0 1 1]': array([0, 0, 0, 0, 0, 0, 0, 0, 0, 0, 0, 1, 1])}"
            ]
          },
          "metadata": {},
          "execution_count": 28
        }
      ]
    },
    {
      "cell_type": "markdown",
      "source": [
        "**2.9. Сформировать кодовое слово длины n из слова длины k.Внести однократную ошибку в сформированное слово. Вычислить синдром, исправить ошибку с использованием таблицы синдромов.**"
      ],
      "metadata": {
        "id": "1gwFQyOxrfPq"
      }
    },
    {
      "cell_type": "code",
      "source": [
        "word = np.array([0, 1, 1, 0, 1])\n",
        "code_word = np.dot(word, G) % 2\n",
        "err = np.array([0, 0, 0, 1, 0, 0, 0, 0, 0, 0, 0, 0, 0])\n",
        "receive_code_word = code_word ^ err\n",
        "syndrome = np.dot(receive_code_word, H) % 2\n",
        "if not np.array_equal(syndrome, np.zeros(n, dtype=int)):\n",
        "    receive_code_word ^= syndrome_table[syndrome.__str__()]\n",
        "decoded_word = receive_code_word[:k]\n",
        "decoded_word"
      ],
      "metadata": {
        "colab": {
          "base_uri": "https://localhost:8080/"
        },
        "id": "1n0FxxzGdNNP",
        "outputId": "79a5033d-d582-45ac-990e-b98481da4ce0"
      },
      "execution_count": 29,
      "outputs": [
        {
          "output_type": "execute_result",
          "data": {
            "text/plain": [
              "array([0, 1, 1, 0, 1])"
            ]
          },
          "metadata": {},
          "execution_count": 29
        }
      ]
    },
    {
      "cell_type": "markdown",
      "source": [
        "**Убедиться в правильности полученного слова.**"
      ],
      "metadata": {
        "id": "hypvNs9nrrky"
      }
    },
    {
      "cell_type": "code",
      "source": [
        "np.array_equal(word, decoded_word)"
      ],
      "metadata": {
        "colab": {
          "base_uri": "https://localhost:8080/"
        },
        "id": "02V4GE3XdbuD",
        "outputId": "9f1e483f-e1d7-4f0d-d173-16c3e60cbe07"
      },
      "execution_count": 30,
      "outputs": [
        {
          "output_type": "execute_result",
          "data": {
            "text/plain": [
              "True"
            ]
          },
          "metadata": {},
          "execution_count": 30
        }
      ]
    },
    {
      "cell_type": "markdown",
      "source": [
        "**2.10. Сформировать кодовое слово длины n из слова длины k. Внести двукратную ошибку в сформированное слово. Вычислить синдром, исправить ошибку с использованием таблицы синдромов.**"
      ],
      "metadata": {
        "id": "edlolubXryvz"
      }
    },
    {
      "cell_type": "code",
      "source": [
        "word = np.array([1, 1, 0, 0, 1])\n",
        "code_word = np.dot(word, G) % 2\n",
        "err = np.array([0, 0, 0, 0, 0, 0, 0, 1, 0, 1, 0, 0, 0])\n",
        "receive_code_word = code_word ^ err\n",
        "syndrome = np.dot(receive_code_word, H) % 2\n",
        "if not np.array_equal(syndrome, np.zeros(n, dtype=int)):\n",
        "    receive_code_word ^= syndrome_table[syndrome.__str__()]\n",
        "decoded_word = receive_code_word[:k]\n",
        "decoded_word"
      ],
      "metadata": {
        "colab": {
          "base_uri": "https://localhost:8080/"
        },
        "id": "rHbmRzxnd1AO",
        "outputId": "abecf27a-ef8e-42c4-f76f-8c1cac02c66a"
      },
      "execution_count": 31,
      "outputs": [
        {
          "output_type": "execute_result",
          "data": {
            "text/plain": [
              "array([1, 1, 0, 0, 1])"
            ]
          },
          "metadata": {},
          "execution_count": 31
        }
      ]
    },
    {
      "cell_type": "markdown",
      "source": [
        "**Убедиться в правильности полученного слова.**"
      ],
      "metadata": {
        "id": "ezy7cXrUr37r"
      }
    },
    {
      "cell_type": "code",
      "source": [
        "np.array_equal(word, decoded_word)"
      ],
      "metadata": {
        "colab": {
          "base_uri": "https://localhost:8080/"
        },
        "id": "KzhEN9NOd5rr",
        "outputId": "8cdaa8f7-8483-4a7d-face-ac9f2eca7782"
      },
      "execution_count": 32,
      "outputs": [
        {
          "output_type": "execute_result",
          "data": {
            "text/plain": [
              "True"
            ]
          },
          "metadata": {},
          "execution_count": 32
        }
      ]
    },
    {
      "cell_type": "markdown",
      "source": [
        "**2.1. Сформировать кодовое слово длины n из слова длины k. Внести трёхкратную ошибку в сформированное слово. Вычислить синдром, исправить ошибку с использованием таблицы синдромов.**"
      ],
      "metadata": {
        "id": "wFF5wHjSr8kP"
      }
    },
    {
      "cell_type": "code",
      "source": [
        "word = np.array([1, 1, 1, 1, 1])\n",
        "code_word = np.dot(word, G) % 2\n",
        "err = np.array([0, 1, 0, 0, 1, 0, 0, 0, 0, 0, 0, 0, 1])\n",
        "receive_code_word = code_word ^ err\n",
        "syndrome = np.dot(receive_code_word, H) % 2\n",
        "if not np.array_equal(syndrome, np.zeros(n, dtype=int)):\n",
        "    receive_code_word ^= syndrome_table[syndrome.__str__()]\n",
        "decoded_word = receive_code_word[:k]\n",
        "decoded_word"
      ],
      "metadata": {
        "colab": {
          "base_uri": "https://localhost:8080/"
        },
        "id": "quety3aGd-YG",
        "outputId": "0f02f0b8-7871-4376-8b1b-6233c31323c7"
      },
      "execution_count": 33,
      "outputs": [
        {
          "output_type": "execute_result",
          "data": {
            "text/plain": [
              "array([0, 0, 1, 1, 0])"
            ]
          },
          "metadata": {},
          "execution_count": 33
        }
      ]
    },
    {
      "cell_type": "markdown",
      "source": [
        "**Убедиться, что полученное слово отличается от отправленного.**"
      ],
      "metadata": {
        "id": "jotRtf9esC1y"
      }
    },
    {
      "cell_type": "code",
      "source": [
        "np.array_equal(word, decoded_word)"
      ],
      "metadata": {
        "id": "mDmbmLQZeGEp",
        "outputId": "5b42b4c5-ed26-4fce-a63c-2c99507173e6",
        "colab": {
          "base_uri": "https://localhost:8080/"
        }
      },
      "execution_count": 34,
      "outputs": [
        {
          "output_type": "execute_result",
          "data": {
            "text/plain": [
              "False"
            ]
          },
          "metadata": {},
          "execution_count": 34
        }
      ]
    }
  ]
}