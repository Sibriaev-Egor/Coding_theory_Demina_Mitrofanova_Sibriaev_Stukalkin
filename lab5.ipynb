{
  "nbformat": 4,
  "nbformat_minor": 0,
  "metadata": {
    "colab": {
      "provenance": []
    },
    "kernelspec": {
      "name": "python3",
      "display_name": "Python 3"
    },
    "language_info": {
      "name": "python"
    }
  },
  "cells": [
    {
      "cell_type": "code",
      "execution_count": 180,
      "metadata": {
        "id": "3CHNE8Km71ti"
      },
      "outputs": [],
      "source": [
        "import numpy as np\n",
        "import itertools as iter"
      ]
    },
    {
      "cell_type": "code",
      "source": [
        "def create_G(r:int, m:int) -> np.ndarray[np.ndarray[int]]:\n",
        "    n = 2**m\n",
        "    E = [2**i for i in range(m-1, -1, -1)]\n",
        "    arr = [0]\n",
        "    for i in range(1, r+1):\n",
        "        arr += [sum(j) for j in list(iter.combinations(E, i))]\n",
        "\n",
        "    G = np.zeros((len(arr), n), dtype=int)\n",
        "    for i in range(len(arr)):\n",
        "        for j in range(n-1, -1, -1):\n",
        "            if arr[i] & j == arr[i]:\n",
        "                G[i][n-j-1] = 1\n",
        "    return G"
      ],
      "metadata": {
        "id": "Hlt46xnLnOOL"
      },
      "execution_count": 181,
      "outputs": []
    },
    {
      "cell_type": "code",
      "source": [
        "def find_special(arr: np.ndarray[int], n:int):\n",
        "    \"\"\"Находим unit_row, steps, block для v(Jc)\"\"\"\n",
        "    unit_row = n\n",
        "    for j in range(n):\n",
        "        if arr[j] == 0:\n",
        "            unit_row = j\n",
        "            break\n",
        "    j = unit_row\n",
        "    steps = 0\n",
        "    for j in range(unit_row, n, unit_row):\n",
        "        if arr[j] == 0:\n",
        "            steps += 1\n",
        "        else:\n",
        "            break\n",
        "    x = unit_row*(steps+1)\n",
        "    block = n\n",
        "    for j in range(x, n, x):\n",
        "        if arr[j] == 0:\n",
        "            block = j\n",
        "            break\n",
        "    return unit_row, steps+1, block"
      ],
      "metadata": {
        "id": "Ofc_iv5FHzbB"
      },
      "execution_count": 182,
      "outputs": []
    },
    {
      "cell_type": "code",
      "source": [
        "def create_decode_array(r: int, m: int):\n",
        "    \"\"\"\n",
        "    Создаём набор из матриц v(jc,t)\n",
        "    Нам нужно вычислить v(Jc, t). v(Jc) вычисляется, как в G.\n",
        "    Можно заметить, что остальные строки в v(Jc, t) - это сдвиг предыдущей на некоторые значения.\n",
        "\n",
        "    unit_row - количество подряд идущих единиц в массиве\n",
        "    steps - число возможных шагов сдвига на unit_row до следующих единиц\n",
        "\n",
        "                        |  1 1 0 0 1 1 0 0 0 0 0 0 0 0 0 0  |\n",
        "    Пример сдвига step: |  0 0 1 1 0 0 1 1 0 0 0 0 0 0 0 0  |\n",
        "\n",
        "    block - величина блока, который будем сдвигать, если не можем делать сдвиги на unit_row\n",
        "\n",
        "                         |  1 1 0 0 1 1 0 0 0 0 0 0 0 0 0 0  |\n",
        "    Пример сдвига block: |  0 0 0 0 0 0 0 0 1 1 0 0 1 1 0 0  |\n",
        "\n",
        "\n",
        "    Комбинируя сдвиги step и block получим v(Jc, t)\n",
        "\n",
        "             |  1 1 0 0 1 1 0 0 0 0 0 0 0 0 0 0  |\n",
        "    Пример:  |  0 0 1 1 0 0 1 1 0 0 0 0 0 0 0 0  | - step-сдвиг (всегда от предыдущей строки)\n",
        "             |  0 0 0 0 0 0 0 0 1 1 0 0 1 1 0 0  | - block-сдвиг (всегда от i-(step+1) строки\n",
        "             |  0 0 0 0 0 0 0 0 0 0 1 1 0 0 1 1  | - step-сдвиг\n",
        "\n",
        "    \"\"\"\n",
        "    n = 2**m\n",
        "    E = [2 ** i for i in range(m - 1, -1, -1)]\n",
        "    decode_array = []\n",
        "    for k in range(r, 0, -1):  # k = |J|\n",
        "        arr = []\n",
        "        for x in [sum(j) for j in list(iter.combinations(E, m-k))]:\n",
        "            v_t_array = np.zeros((2**(m-k), n), dtype=int)\n",
        "            for j in range(n - 1, -1, -1):  # получаем v(Jc)\n",
        "                if x & j == x:\n",
        "                    v_t_array[0][n - j - 1] = 1\n",
        "            unit_row, steps, block = find_special(v_t_array[0], n)\n",
        "            for i in range(1, len(v_t_array)):\n",
        "                if i % steps == 0:  # block-сдвиг\n",
        "                    v_t_array[i, block:] = v_t_array[i-steps, :n-block]\n",
        "                else:  # step-сдвиг\n",
        "                    v_t_array[i, unit_row:] = v_t_array[i-1, :n-unit_row]\n",
        "            arr.append(v_t_array.T)\n",
        "        decode_array.append(np.array(arr))\n",
        "    decode_array.append([np.eye(n, dtype=int)])\n",
        "    return decode_array"
      ],
      "metadata": {
        "id": "hUOV0pHNH0x7"
      },
      "execution_count": 183,
      "outputs": []
    },
    {
      "cell_type": "code",
      "source": [
        "def decoding_word(w, decode_array, G, r, m):\n",
        "    \"\"\"\n",
        "    В decode_array лежат матрицы v(jc,t). Нам нужны ещё v(j,t).\n",
        "    Можно заметить, что i-я v(j,t) соответствует i-ой строке в G\n",
        "    \"\"\"\n",
        "    i = len(G) - 1  # переменная для пробега по G с конца\n",
        "    word = np.zeros(i+1, dtype=int)  # декодированное слово\n",
        "    w_ = w.copy()  # w(i) в лекции\n",
        "    for v_t_array in decode_array:\n",
        "        w_next = w_.copy()  # w(i-1) в лекции\n",
        "        threshold_amount = len(v_t_array[0][0]) // 2  # 2**(m-i-1) в лекции\n",
        "        for x in v_t_array:\n",
        "            units_amount = (np.dot(w_, x) % 2).sum()\n",
        "            if units_amount == threshold_amount:\n",
        "                print(f'допущена {2**(m-r-1)}-я ошибка. Сообщение не может быть восстановлено!')\n",
        "                return None\n",
        "            if units_amount > threshold_amount:\n",
        "                w_next ^= G[i]\n",
        "                word[i] = 1\n",
        "            else:\n",
        "                word[i] = 0\n",
        "            i -= 1\n",
        "        w_ = w_next\n",
        "    return word"
      ],
      "metadata": {
        "id": "unydxC9JLSM9"
      },
      "execution_count": 184,
      "outputs": []
    },
    {
      "cell_type": "markdown",
      "source": [
        "**𝑅𝑀(2,4)**"
      ],
      "metadata": {
        "id": "7jg2z-2cnsUp"
      }
    },
    {
      "cell_type": "code",
      "source": [
        "R = 2\n",
        "M = 4\n",
        "G = create_G(R, M)\n",
        "G"
      ],
      "metadata": {
        "colab": {
          "base_uri": "https://localhost:8080/"
        },
        "id": "Fgb_dPiCnOgO",
        "outputId": "9468c5de-ac27-4ff6-de05-7016e4e18c87"
      },
      "execution_count": 185,
      "outputs": [
        {
          "output_type": "execute_result",
          "data": {
            "text/plain": [
              "array([[1, 1, 1, 1, 1, 1, 1, 1, 1, 1, 1, 1, 1, 1, 1, 1],\n",
              "       [1, 1, 1, 1, 1, 1, 1, 1, 0, 0, 0, 0, 0, 0, 0, 0],\n",
              "       [1, 1, 1, 1, 0, 0, 0, 0, 1, 1, 1, 1, 0, 0, 0, 0],\n",
              "       [1, 1, 0, 0, 1, 1, 0, 0, 1, 1, 0, 0, 1, 1, 0, 0],\n",
              "       [1, 0, 1, 0, 1, 0, 1, 0, 1, 0, 1, 0, 1, 0, 1, 0],\n",
              "       [1, 1, 1, 1, 0, 0, 0, 0, 0, 0, 0, 0, 0, 0, 0, 0],\n",
              "       [1, 1, 0, 0, 1, 1, 0, 0, 0, 0, 0, 0, 0, 0, 0, 0],\n",
              "       [1, 0, 1, 0, 1, 0, 1, 0, 0, 0, 0, 0, 0, 0, 0, 0],\n",
              "       [1, 1, 0, 0, 0, 0, 0, 0, 1, 1, 0, 0, 0, 0, 0, 0],\n",
              "       [1, 0, 1, 0, 0, 0, 0, 0, 1, 0, 1, 0, 0, 0, 0, 0],\n",
              "       [1, 0, 0, 0, 1, 0, 0, 0, 1, 0, 0, 0, 1, 0, 0, 0]])"
            ]
          },
          "metadata": {},
          "execution_count": 185
        }
      ]
    },
    {
      "cell_type": "code",
      "source": [
        "decode_array = create_decode_array(R, M)\n",
        "decode_array"
      ],
      "metadata": {
        "colab": {
          "base_uri": "https://localhost:8080/"
        },
        "id": "MmoVTgIIMCxJ",
        "outputId": "ded9fc4b-83ab-420d-a40a-616333c6c522"
      },
      "execution_count": 186,
      "outputs": [
        {
          "output_type": "execute_result",
          "data": {
            "text/plain": [
              "[array([[[1, 0, 0, 0],\n",
              "         [1, 0, 0, 0],\n",
              "         [1, 0, 0, 0],\n",
              "         [1, 0, 0, 0],\n",
              "         [0, 1, 0, 0],\n",
              "         [0, 1, 0, 0],\n",
              "         [0, 1, 0, 0],\n",
              "         [0, 1, 0, 0],\n",
              "         [0, 0, 1, 0],\n",
              "         [0, 0, 1, 0],\n",
              "         [0, 0, 1, 0],\n",
              "         [0, 0, 1, 0],\n",
              "         [0, 0, 0, 1],\n",
              "         [0, 0, 0, 1],\n",
              "         [0, 0, 0, 1],\n",
              "         [0, 0, 0, 1]],\n",
              " \n",
              "        [[1, 0, 0, 0],\n",
              "         [1, 0, 0, 0],\n",
              "         [0, 1, 0, 0],\n",
              "         [0, 1, 0, 0],\n",
              "         [1, 0, 0, 0],\n",
              "         [1, 0, 0, 0],\n",
              "         [0, 1, 0, 0],\n",
              "         [0, 1, 0, 0],\n",
              "         [0, 0, 1, 0],\n",
              "         [0, 0, 1, 0],\n",
              "         [0, 0, 0, 1],\n",
              "         [0, 0, 0, 1],\n",
              "         [0, 0, 1, 0],\n",
              "         [0, 0, 1, 0],\n",
              "         [0, 0, 0, 1],\n",
              "         [0, 0, 0, 1]],\n",
              " \n",
              "        [[1, 0, 0, 0],\n",
              "         [0, 1, 0, 0],\n",
              "         [1, 0, 0, 0],\n",
              "         [0, 1, 0, 0],\n",
              "         [1, 0, 0, 0],\n",
              "         [0, 1, 0, 0],\n",
              "         [1, 0, 0, 0],\n",
              "         [0, 1, 0, 0],\n",
              "         [0, 0, 1, 0],\n",
              "         [0, 0, 0, 1],\n",
              "         [0, 0, 1, 0],\n",
              "         [0, 0, 0, 1],\n",
              "         [0, 0, 1, 0],\n",
              "         [0, 0, 0, 1],\n",
              "         [0, 0, 1, 0],\n",
              "         [0, 0, 0, 1]],\n",
              " \n",
              "        [[1, 0, 0, 0],\n",
              "         [1, 0, 0, 0],\n",
              "         [0, 1, 0, 0],\n",
              "         [0, 1, 0, 0],\n",
              "         [0, 0, 1, 0],\n",
              "         [0, 0, 1, 0],\n",
              "         [0, 0, 0, 1],\n",
              "         [0, 0, 0, 1],\n",
              "         [1, 0, 0, 0],\n",
              "         [1, 0, 0, 0],\n",
              "         [0, 1, 0, 0],\n",
              "         [0, 1, 0, 0],\n",
              "         [0, 0, 1, 0],\n",
              "         [0, 0, 1, 0],\n",
              "         [0, 0, 0, 1],\n",
              "         [0, 0, 0, 1]],\n",
              " \n",
              "        [[1, 0, 0, 0],\n",
              "         [0, 1, 0, 0],\n",
              "         [1, 0, 0, 0],\n",
              "         [0, 1, 0, 0],\n",
              "         [0, 0, 1, 0],\n",
              "         [0, 0, 0, 1],\n",
              "         [0, 0, 1, 0],\n",
              "         [0, 0, 0, 1],\n",
              "         [1, 0, 0, 0],\n",
              "         [0, 1, 0, 0],\n",
              "         [1, 0, 0, 0],\n",
              "         [0, 1, 0, 0],\n",
              "         [0, 0, 1, 0],\n",
              "         [0, 0, 0, 1],\n",
              "         [0, 0, 1, 0],\n",
              "         [0, 0, 0, 1]],\n",
              " \n",
              "        [[1, 0, 0, 0],\n",
              "         [0, 1, 0, 0],\n",
              "         [0, 0, 1, 0],\n",
              "         [0, 0, 0, 1],\n",
              "         [1, 0, 0, 0],\n",
              "         [0, 1, 0, 0],\n",
              "         [0, 0, 1, 0],\n",
              "         [0, 0, 0, 1],\n",
              "         [1, 0, 0, 0],\n",
              "         [0, 1, 0, 0],\n",
              "         [0, 0, 1, 0],\n",
              "         [0, 0, 0, 1],\n",
              "         [1, 0, 0, 0],\n",
              "         [0, 1, 0, 0],\n",
              "         [0, 0, 1, 0],\n",
              "         [0, 0, 0, 1]]]),\n",
              " array([[[1, 0, 0, 0, 0, 0, 0, 0],\n",
              "         [1, 0, 0, 0, 0, 0, 0, 0],\n",
              "         [0, 1, 0, 0, 0, 0, 0, 0],\n",
              "         [0, 1, 0, 0, 0, 0, 0, 0],\n",
              "         [0, 0, 1, 0, 0, 0, 0, 0],\n",
              "         [0, 0, 1, 0, 0, 0, 0, 0],\n",
              "         [0, 0, 0, 1, 0, 0, 0, 0],\n",
              "         [0, 0, 0, 1, 0, 0, 0, 0],\n",
              "         [0, 0, 0, 0, 1, 0, 0, 0],\n",
              "         [0, 0, 0, 0, 1, 0, 0, 0],\n",
              "         [0, 0, 0, 0, 0, 1, 0, 0],\n",
              "         [0, 0, 0, 0, 0, 1, 0, 0],\n",
              "         [0, 0, 0, 0, 0, 0, 1, 0],\n",
              "         [0, 0, 0, 0, 0, 0, 1, 0],\n",
              "         [0, 0, 0, 0, 0, 0, 0, 1],\n",
              "         [0, 0, 0, 0, 0, 0, 0, 1]],\n",
              " \n",
              "        [[1, 0, 0, 0, 0, 0, 0, 0],\n",
              "         [0, 1, 0, 0, 0, 0, 0, 0],\n",
              "         [1, 0, 0, 0, 0, 0, 0, 0],\n",
              "         [0, 1, 0, 0, 0, 0, 0, 0],\n",
              "         [0, 0, 1, 0, 0, 0, 0, 0],\n",
              "         [0, 0, 0, 1, 0, 0, 0, 0],\n",
              "         [0, 0, 1, 0, 0, 0, 0, 0],\n",
              "         [0, 0, 0, 1, 0, 0, 0, 0],\n",
              "         [0, 0, 0, 0, 1, 0, 0, 0],\n",
              "         [0, 0, 0, 0, 0, 1, 0, 0],\n",
              "         [0, 0, 0, 0, 1, 0, 0, 0],\n",
              "         [0, 0, 0, 0, 0, 1, 0, 0],\n",
              "         [0, 0, 0, 0, 0, 0, 1, 0],\n",
              "         [0, 0, 0, 0, 0, 0, 0, 1],\n",
              "         [0, 0, 0, 0, 0, 0, 1, 0],\n",
              "         [0, 0, 0, 0, 0, 0, 0, 1]],\n",
              " \n",
              "        [[1, 0, 0, 0, 0, 0, 0, 0],\n",
              "         [0, 1, 0, 0, 0, 0, 0, 0],\n",
              "         [0, 0, 1, 0, 0, 0, 0, 0],\n",
              "         [0, 0, 0, 1, 0, 0, 0, 0],\n",
              "         [1, 0, 0, 0, 0, 0, 0, 0],\n",
              "         [0, 1, 0, 0, 0, 0, 0, 0],\n",
              "         [0, 0, 1, 0, 0, 0, 0, 0],\n",
              "         [0, 0, 0, 1, 0, 0, 0, 0],\n",
              "         [0, 0, 0, 0, 1, 0, 0, 0],\n",
              "         [0, 0, 0, 0, 0, 1, 0, 0],\n",
              "         [0, 0, 0, 0, 0, 0, 1, 0],\n",
              "         [0, 0, 0, 0, 0, 0, 0, 1],\n",
              "         [0, 0, 0, 0, 1, 0, 0, 0],\n",
              "         [0, 0, 0, 0, 0, 1, 0, 0],\n",
              "         [0, 0, 0, 0, 0, 0, 1, 0],\n",
              "         [0, 0, 0, 0, 0, 0, 0, 1]],\n",
              " \n",
              "        [[1, 0, 0, 0, 0, 0, 0, 0],\n",
              "         [0, 1, 0, 0, 0, 0, 0, 0],\n",
              "         [0, 0, 1, 0, 0, 0, 0, 0],\n",
              "         [0, 0, 0, 1, 0, 0, 0, 0],\n",
              "         [0, 0, 0, 0, 1, 0, 0, 0],\n",
              "         [0, 0, 0, 0, 0, 1, 0, 0],\n",
              "         [0, 0, 0, 0, 0, 0, 1, 0],\n",
              "         [0, 0, 0, 0, 0, 0, 0, 1],\n",
              "         [1, 0, 0, 0, 0, 0, 0, 0],\n",
              "         [0, 1, 0, 0, 0, 0, 0, 0],\n",
              "         [0, 0, 1, 0, 0, 0, 0, 0],\n",
              "         [0, 0, 0, 1, 0, 0, 0, 0],\n",
              "         [0, 0, 0, 0, 1, 0, 0, 0],\n",
              "         [0, 0, 0, 0, 0, 1, 0, 0],\n",
              "         [0, 0, 0, 0, 0, 0, 1, 0],\n",
              "         [0, 0, 0, 0, 0, 0, 0, 1]]]),\n",
              " [array([[1, 0, 0, 0, 0, 0, 0, 0, 0, 0, 0, 0, 0, 0, 0, 0],\n",
              "         [0, 1, 0, 0, 0, 0, 0, 0, 0, 0, 0, 0, 0, 0, 0, 0],\n",
              "         [0, 0, 1, 0, 0, 0, 0, 0, 0, 0, 0, 0, 0, 0, 0, 0],\n",
              "         [0, 0, 0, 1, 0, 0, 0, 0, 0, 0, 0, 0, 0, 0, 0, 0],\n",
              "         [0, 0, 0, 0, 1, 0, 0, 0, 0, 0, 0, 0, 0, 0, 0, 0],\n",
              "         [0, 0, 0, 0, 0, 1, 0, 0, 0, 0, 0, 0, 0, 0, 0, 0],\n",
              "         [0, 0, 0, 0, 0, 0, 1, 0, 0, 0, 0, 0, 0, 0, 0, 0],\n",
              "         [0, 0, 0, 0, 0, 0, 0, 1, 0, 0, 0, 0, 0, 0, 0, 0],\n",
              "         [0, 0, 0, 0, 0, 0, 0, 0, 1, 0, 0, 0, 0, 0, 0, 0],\n",
              "         [0, 0, 0, 0, 0, 0, 0, 0, 0, 1, 0, 0, 0, 0, 0, 0],\n",
              "         [0, 0, 0, 0, 0, 0, 0, 0, 0, 0, 1, 0, 0, 0, 0, 0],\n",
              "         [0, 0, 0, 0, 0, 0, 0, 0, 0, 0, 0, 1, 0, 0, 0, 0],\n",
              "         [0, 0, 0, 0, 0, 0, 0, 0, 0, 0, 0, 0, 1, 0, 0, 0],\n",
              "         [0, 0, 0, 0, 0, 0, 0, 0, 0, 0, 0, 0, 0, 1, 0, 0],\n",
              "         [0, 0, 0, 0, 0, 0, 0, 0, 0, 0, 0, 0, 0, 0, 1, 0],\n",
              "         [0, 0, 0, 0, 0, 0, 0, 0, 0, 0, 0, 0, 0, 0, 0, 1]])]]"
            ]
          },
          "metadata": {},
          "execution_count": 186
        }
      ]
    },
    {
      "cell_type": "code",
      "source": [
        "word = np.array([1, 0, 0, 0, 0, 0, 0, 0, 0, 0, 0])\n",
        "w = np.dot(word, G) % 2\n",
        "w"
      ],
      "metadata": {
        "colab": {
          "base_uri": "https://localhost:8080/"
        },
        "id": "A0lhq_41pJvA",
        "outputId": "23a1f247-96f0-495d-b5f3-fc3bd1c9c02d"
      },
      "execution_count": 187,
      "outputs": [
        {
          "output_type": "execute_result",
          "data": {
            "text/plain": [
              "array([1, 1, 1, 1, 1, 1, 1, 1, 1, 1, 1, 1, 1, 1, 1, 1])"
            ]
          },
          "metadata": {},
          "execution_count": 187
        }
      ]
    },
    {
      "cell_type": "code",
      "source": [
        "err1_array = [w ^ x for x in np.eye(len(w), dtype=int)]  # все одномерные ошибки\n",
        "err2 = np.zeros_like(w)\n",
        "err2[0] = err2[1] = 1\n",
        "err3 = err2.copy()\n",
        "err3[2] = 1\n",
        "w_err2 = w ^ err2\n",
        "w_err3 = w ^ err3\n",
        "w, w_err2, w_err3"
      ],
      "metadata": {
        "colab": {
          "base_uri": "https://localhost:8080/"
        },
        "id": "Lm2MW34BXLPL",
        "outputId": "ea59e3ad-7a1b-45ae-bf41-29491fce725a"
      },
      "execution_count": 188,
      "outputs": [
        {
          "output_type": "execute_result",
          "data": {
            "text/plain": [
              "(array([1, 1, 1, 1, 1, 1, 1, 1, 1, 1, 1, 1, 1, 1, 1, 1]),\n",
              " array([0, 0, 1, 1, 1, 1, 1, 1, 1, 1, 1, 1, 1, 1, 1, 1]),\n",
              " array([0, 0, 0, 1, 1, 1, 1, 1, 1, 1, 1, 1, 1, 1, 1, 1]))"
            ]
          },
          "metadata": {},
          "execution_count": 188
        }
      ]
    },
    {
      "cell_type": "markdown",
      "source": [
        "Декодирование слова без ошибки"
      ],
      "metadata": {
        "id": "TUi5OeLPdxoO"
      }
    },
    {
      "cell_type": "code",
      "source": [
        "decode_word = decoding_word(w, decode_array, G, R, M)\n",
        "if decode_word is not None:\n",
        "    print(decode_word)\n",
        "    print(np.array_equal(word, decode_word))"
      ],
      "metadata": {
        "colab": {
          "base_uri": "https://localhost:8080/"
        },
        "id": "Kk3XX0i_dw70",
        "outputId": "0a421f93-c297-4d88-f312-368dd0fda88e"
      },
      "execution_count": 189,
      "outputs": [
        {
          "output_type": "stream",
          "name": "stdout",
          "text": [
            "[1 0 0 0 0 0 0 0 0 0 0]\n",
            "True\n"
          ]
        }
      ]
    },
    {
      "cell_type": "markdown",
      "source": [
        "Декодирование всех однократных ошибок"
      ],
      "metadata": {
        "id": "OPifo6pmd4cZ"
      }
    },
    {
      "cell_type": "code",
      "source": [
        "decode_words = [decoding_word(x, decode_array, G, R, M) for x in err1_array]\n",
        "for x in decode_words:\n",
        "    print(np.array_equal(x, word))"
      ],
      "metadata": {
        "colab": {
          "base_uri": "https://localhost:8080/"
        },
        "id": "13rc2s3JSZ_Y",
        "outputId": "5fee3c1d-b87f-4641-89e7-1d2caa4e3ae0"
      },
      "execution_count": 190,
      "outputs": [
        {
          "output_type": "stream",
          "name": "stdout",
          "text": [
            "True\n",
            "True\n",
            "True\n",
            "True\n",
            "True\n",
            "True\n",
            "True\n",
            "True\n",
            "True\n",
            "True\n",
            "True\n",
            "True\n",
            "True\n",
            "True\n",
            "True\n",
            "True\n"
          ]
        }
      ]
    },
    {
      "cell_type": "markdown",
      "source": [
        "Декодирование двукратной ошибки (RM(2, 4) может их лишь обнаружить, но не исправить)"
      ],
      "metadata": {
        "id": "9yCMdtCbd95U"
      }
    },
    {
      "cell_type": "code",
      "source": [
        "decode_word = decoding_word(w_err2, decode_array, G, R, M)\n",
        "if decode_word is not None:\n",
        "    print(decode_word)\n",
        "    print(np.array_equal(word, decode_word))"
      ],
      "metadata": {
        "colab": {
          "base_uri": "https://localhost:8080/"
        },
        "id": "06McTwxKPVio",
        "outputId": "adad1f81-22c3-4f69-b90e-e9a99d67be0f"
      },
      "execution_count": 191,
      "outputs": [
        {
          "output_type": "stream",
          "name": "stdout",
          "text": [
            "допущена 2-я ошибка. Сообщение не может быть восстановлено!\n"
          ]
        }
      ]
    },
    {
      "cell_type": "markdown",
      "source": [
        "Декодирование 3-кратной ошибки (RM(2,4) не может их обнаружить)"
      ],
      "metadata": {
        "id": "oEieRlv5egpY"
      }
    },
    {
      "cell_type": "code",
      "source": [
        "decode_word = decoding_word(w_err3, decode_array, G, R, M)\n",
        "if decode_word is not None:\n",
        "    print(decode_word)\n",
        "    print(np.array_equal(word, decode_word))"
      ],
      "metadata": {
        "colab": {
          "base_uri": "https://localhost:8080/"
        },
        "id": "zIvDLUJceos5",
        "outputId": "701a84d6-b7a0-4265-f81b-4109d3cfcecd"
      },
      "execution_count": 192,
      "outputs": [
        {
          "output_type": "stream",
          "name": "stdout",
          "text": [
            "[1 0 0 0 0 1 0 0 0 0 0]\n",
            "False\n"
          ]
        }
      ]
    }
  ]
}
