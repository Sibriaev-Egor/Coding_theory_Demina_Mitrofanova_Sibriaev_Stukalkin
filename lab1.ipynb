{
  "nbformat": 4,
  "nbformat_minor": 0,
  "metadata": {
    "colab": {
      "provenance": []
    },
    "kernelspec": {
      "name": "python3",
      "display_name": "Python 3"
    },
    "language_info": {
      "name": "python"
    }
  },
  "cells": [
    {
      "cell_type": "markdown",
      "source": [
        "Старт\n"
      ],
      "metadata": {
        "id": "26A8HsOx6Yz_"
      }
    },
    {
      "cell_type": "code",
      "execution_count": null,
      "metadata": {
        "id": "DfpGf_075hmT",
        "colab": {
          "base_uri": "https://localhost:8080/"
        },
        "outputId": "87ff3bbf-7ad2-44fd-fb6b-e379a23bc0d4"
      },
      "outputs": [
        {
          "output_type": "stream",
          "name": "stdout",
          "text": [
            "hello, Darya!\n"
          ]
        }
      ],
      "source": [
        "print(\"hello, Darya!\")"
      ]
    },
    {
      "cell_type": "markdown",
      "source": [
        "1.1. Реализовать функцию REF(), приводящую матрицу к ступенчатому виду."
      ],
      "metadata": {
        "id": "92udbKt1ydCi"
      }
    },
    {
      "cell_type": "code",
      "source": [
        "import numpy as np\n",
        "import itertools as iter"
      ],
      "metadata": {
        "id": "3DtOJ1WYZbwB"
      },
      "execution_count": null,
      "outputs": []
    },
    {
      "cell_type": "code",
      "source": [
        "def matrixRowXor(row1, row2, k):\n",
        "    for i in range(k, len(row1)):\n",
        "        row2[i] ^= row1[i]"
      ],
      "metadata": {
        "id": "mJd4lau7ZnRO"
      },
      "execution_count": null,
      "outputs": []
    },
    {
      "cell_type": "code",
      "source": [
        "def ref(matrix):\n",
        "    k = -1\n",
        "    for j in range(len(matrix[0])):\n",
        "        b = True\n",
        "        for i in range(k+1, len(matrix)):\n",
        "            if matrix[i][j] == 1:\n",
        "                if b:\n",
        "                    k += 1\n",
        "                    c = matrix[k]\n",
        "                    matrix[k] = matrix[i]\n",
        "                    matrix[i] = c\n",
        "                    b = False\n",
        "                else:\n",
        "                    matrixRowXor(matrix[k], matrix[i], j)\n",
        "    return k + 1"
      ],
      "metadata": {
        "id": "5YsI7S_FZoDe"
      },
      "execution_count": null,
      "outputs": []
    },
    {
      "cell_type": "markdown",
      "source": [
        "1.2. Реализовать функцию RREF(), приводящую матрицу к\n",
        "приведённому ступенчатому виду."
      ],
      "metadata": {
        "id": "f1-2WcqAyp67"
      }
    },
    {
      "cell_type": "code",
      "source": [
        "def rref(matrix):\n",
        "    k = 0\n",
        "    lead = []\n",
        "    i = 0\n",
        "    while k < len(matrix):\n",
        "        if matrix[k][i] == 1:\n",
        "            for j in range(0, k):\n",
        "                if matrix[j][i] == 1:\n",
        "                    matrixRowXor(matrix[k], matrix[j], i)\n",
        "            lead.append(i)\n",
        "            k += 1\n",
        "        i += 1\n",
        "    return lead"
      ],
      "metadata": {
        "id": "5yvrH2FaZrVu"
      },
      "execution_count": null,
      "outputs": []
    },
    {
      "cell_type": "code",
      "source": [
        "def createX(matrix, lead):\n",
        "    X = []\n",
        "    k = 0\n",
        "    for i in range(len(matrix[0])):\n",
        "        if k == -1 or i < lead[k]:\n",
        "            X.append(matrix[:,i])\n",
        "        else:\n",
        "            k += 1\n",
        "            if k == len(lead):\n",
        "                k = -1\n",
        "    return np.array(X).T"
      ],
      "metadata": {
        "id": "WAORDI5gBr0L"
      },
      "execution_count": null,
      "outputs": []
    },
    {
      "cell_type": "code",
      "source": [
        "def createH(X, I, n, lead):\n",
        "    H = []\n",
        "    k_x = k_lead = 0\n",
        "    for i in range(n):\n",
        "        if k_x == -1 or i < lead[k_x]:\n",
        "            H.append(I[k_lead])\n",
        "            k_lead += 1\n",
        "        else:\n",
        "            H.append(X[k_x])\n",
        "            k_x += 1\n",
        "            if k_x == len(lead):\n",
        "                k_x = -1\n",
        "    return np.array(H)"
      ],
      "metadata": {
        "id": "5OiV9tOfBz2y"
      },
      "execution_count": null,
      "outputs": []
    },
    {
      "cell_type": "code",
      "source": [
        "def createAllWordsLengthK(k):\n",
        "    all_words_k = np.array(list(iter.product((0, 1), repeat=5)))\n",
        "    return all_words_k"
      ],
      "metadata": {
        "id": "CDMKb8bCD4wV"
      },
      "execution_count": null,
      "outputs": []
    },
    {
      "cell_type": "code",
      "source": [
        "def createCodeWordsLengthN(G, k):\n",
        "    code_words_n_length = [[0] * len(G[0])]\n",
        "    for i in range(1, k + 1):\n",
        "        for arr in np.array(list(iter.combinations(G, i))):\n",
        "            code_words_n_length.append(sum(arr) % 2)\n",
        "    return np.array(code_words_n_length)"
      ],
      "metadata": {
        "id": "QnNXevJQptIo"
      },
      "execution_count": null,
      "outputs": []
    },
    {
      "cell_type": "code",
      "source": [
        "def comparison(array1, array2):\n",
        "    # так как это бинарные массивы, то каждую строчку можно представить в виде десятичного числа\n",
        "    # представим оба массива бинарных строк в виде массивов с числами, отсортируем их и сравним\n",
        "    arr1 = []\n",
        "    arr2 = []\n",
        "    n = len(array1[0]) - 1\n",
        "    for row in array1:\n",
        "        arr1.append(sum([row[i] * 2**i for i in range(n)]))\n",
        "    arr1.sort()\n",
        "    for row in array2:\n",
        "        arr2.append(sum([row[i] * 2**i for i in range(n)]))\n",
        "    arr2.sort()\n",
        "    for i in range(n):\n",
        "        if arr1[i] != arr2[i]:\n",
        "            return False\n",
        "    return True"
      ],
      "metadata": {
        "id": "NBvKsVBMpwKs"
      },
      "execution_count": null,
      "outputs": []
    },
    {
      "cell_type": "code",
      "source": [
        "def findCodeDistance(C):\n",
        "    d = min([sum(i) for i in C[1:]])\n",
        "    t = d // 2\n",
        "    return d, t"
      ],
      "metadata": {
        "id": "xsclAkAkpw9n"
      },
      "execution_count": null,
      "outputs": []
    },
    {
      "cell_type": "code",
      "source": [
        "# начальная матрица\n",
        "S = [[1, 0, 1, 1, 0, 0, 0, 1, 0, 0, 1],\n",
        "    [0, 0, 0, 1, 1, 1, 0, 1, 0, 1, 0],\n",
        "    [0, 0, 0, 0, 1, 0, 0, 1, 0, 0, 1],\n",
        "    [1, 0, 1, 0, 1, 1, 1, 0, 0, 0, 1],\n",
        "    [0, 0, 0, 0, 1, 0, 0, 1, 1, 1, 0],\n",
        "    [1, 0, 1, 1, 1, 0, 0, 0, 0, 0, 0]]\n",
        "S = np.array(S)\n",
        "S"
      ],
      "metadata": {
        "colab": {
          "base_uri": "https://localhost:8080/"
        },
        "id": "9QoLcDTHB08o",
        "outputId": "aebbb870-630b-4e47-c2d7-930600a27e09"
      },
      "execution_count": null,
      "outputs": [
        {
          "output_type": "execute_result",
          "data": {
            "text/plain": [
              "array([[1, 0, 1, 1, 0, 0, 0, 1, 0, 0, 1],\n",
              "       [0, 0, 0, 1, 1, 1, 0, 1, 0, 1, 0],\n",
              "       [0, 0, 0, 0, 1, 0, 0, 1, 0, 0, 1],\n",
              "       [1, 0, 1, 0, 1, 1, 1, 0, 0, 0, 1],\n",
              "       [0, 0, 0, 0, 1, 0, 0, 1, 1, 1, 0],\n",
              "       [1, 0, 1, 1, 1, 0, 0, 0, 0, 0, 0]])"
            ]
          },
          "metadata": {},
          "execution_count": 57
        }
      ]
    },
    {
      "cell_type": "markdown",
      "source": [
        "1.3.1 На основе входной матрицы сформировать порождающую матрицу в ступенчатом виде.\n"
      ],
      "metadata": {
        "id": "MhJhmSJjzGOl"
      }
    },
    {
      "cell_type": "code",
      "source": [
        "# ранг матрицы\n",
        "k = ref(S)\n",
        "\n",
        "# порождающая матрица\n",
        "G = S[:k]\n",
        "G"
      ],
      "metadata": {
        "colab": {
          "base_uri": "https://localhost:8080/"
        },
        "id": "OjMsJ0WrB6Wt",
        "outputId": "6422818b-7bab-47ac-8360-fd6f135fb01e"
      },
      "execution_count": null,
      "outputs": [
        {
          "output_type": "execute_result",
          "data": {
            "text/plain": [
              "array([[1, 0, 1, 1, 0, 0, 0, 1, 0, 0, 1],\n",
              "       [0, 0, 0, 1, 1, 1, 0, 1, 0, 1, 0],\n",
              "       [0, 0, 0, 0, 1, 0, 0, 1, 0, 0, 1],\n",
              "       [0, 0, 0, 0, 0, 0, 1, 0, 0, 1, 0],\n",
              "       [0, 0, 0, 0, 0, 0, 0, 0, 1, 1, 1]])"
            ]
          },
          "metadata": {},
          "execution_count": 58
        }
      ]
    },
    {
      "cell_type": "markdown",
      "source": [
        "1.3.3 Сформировать проверочную матрицу на основе порождающей."
      ],
      "metadata": {
        "id": "cRs7Qfsmzpnk"
      }
    },
    {
      "cell_type": "markdown",
      "source": [
        "Шаг 1. Сформировать матрицу 𝐆∗ в приведённом ступенчатом виде на основе порождающей."
      ],
      "metadata": {
        "id": "gWsfOmUuzwiB"
      }
    },
    {
      "cell_type": "code",
      "source": [
        "# приведённая матрица в ступенчатом виде\n",
        "G_ = G.copy()\n",
        "n = len(G_[0])\n",
        "\n",
        "# ведущие столбцы\n",
        "lead = rref(G_)\n",
        "G_"
      ],
      "metadata": {
        "colab": {
          "base_uri": "https://localhost:8080/"
        },
        "id": "8YBat0FECA9Y",
        "outputId": "495d641e-ccf2-4e3c-b4ba-621e12ed67c7"
      },
      "execution_count": null,
      "outputs": [
        {
          "output_type": "execute_result",
          "data": {
            "text/plain": [
              "array([[1, 0, 1, 0, 0, 1, 0, 1, 0, 1, 0],\n",
              "       [0, 0, 0, 1, 0, 1, 0, 0, 0, 1, 1],\n",
              "       [0, 0, 0, 0, 1, 0, 0, 1, 0, 0, 1],\n",
              "       [0, 0, 0, 0, 0, 0, 1, 0, 0, 1, 0],\n",
              "       [0, 0, 0, 0, 0, 0, 0, 0, 1, 1, 1]])"
            ]
          },
          "metadata": {},
          "execution_count": 59
        }
      ]
    },
    {
      "cell_type": "markdown",
      "source": [
        "1.3.2 Задать n равное числу столбцов и k равное числу строк полученной матрицы"
      ],
      "metadata": {
        "id": "nA3edb5MzQn0"
      }
    },
    {
      "cell_type": "code",
      "source": [
        "n, k"
      ],
      "metadata": {
        "colab": {
          "base_uri": "https://localhost:8080/"
        },
        "id": "oyBIRgxlCA3e",
        "outputId": "2d080e1a-b56e-4bbe-dc83-08f25eb04438"
      },
      "execution_count": null,
      "outputs": [
        {
          "output_type": "execute_result",
          "data": {
            "text/plain": [
              "(11, 5)"
            ]
          },
          "metadata": {},
          "execution_count": 60
        }
      ]
    },
    {
      "cell_type": "markdown",
      "source": [
        "Шаг 2. Зафиксировать ведущие столбцы lead матрицы 𝐆∗\n"
      ],
      "metadata": {
        "id": "2rlM2C15z3EU"
      }
    },
    {
      "cell_type": "code",
      "source": [
        "lead"
      ],
      "metadata": {
        "colab": {
          "base_uri": "https://localhost:8080/"
        },
        "id": "D26gc3jKCAwN",
        "outputId": "d31eacbf-f043-4aba-a0c2-489c19eec2eb"
      },
      "execution_count": null,
      "outputs": [
        {
          "output_type": "execute_result",
          "data": {
            "text/plain": [
              "[0, 3, 4, 6, 8]"
            ]
          },
          "metadata": {},
          "execution_count": 61
        }
      ]
    },
    {
      "cell_type": "markdown",
      "source": [
        "Шаг 3. Сформировать сокращённую матрицу 𝐗, удалив ведущие столбцы матрицы 𝐆∗\n"
      ],
      "metadata": {
        "id": "AzGD4PAJz7YR"
      }
    },
    {
      "cell_type": "code",
      "source": [
        "X = createX(G_.copy(), lead)\n",
        "X"
      ],
      "metadata": {
        "colab": {
          "base_uri": "https://localhost:8080/"
        },
        "id": "2IH1s8UNCNmO",
        "outputId": "45a80776-673f-40e7-d802-356f758fa004"
      },
      "execution_count": null,
      "outputs": [
        {
          "output_type": "execute_result",
          "data": {
            "text/plain": [
              "array([[0, 1, 1, 1, 1, 0],\n",
              "       [0, 0, 1, 0, 1, 1],\n",
              "       [0, 0, 0, 1, 0, 1],\n",
              "       [0, 0, 0, 0, 1, 0],\n",
              "       [0, 0, 0, 0, 1, 1]])"
            ]
          },
          "metadata": {},
          "execution_count": 62
        }
      ]
    },
    {
      "cell_type": "markdown",
      "source": [
        "Шаг 4. Сформировать матрицу 𝐇, поместив в строки, соответствующие позициям ведущих столбцов строки из 𝐗, а в остальные – строки единичной матрицы."
      ],
      "metadata": {
        "id": "Eecf13S70CZa"
      }
    },
    {
      "cell_type": "code",
      "source": [
        "I = np.eye(n-k, dtype=int)\n",
        "I"
      ],
      "metadata": {
        "colab": {
          "base_uri": "https://localhost:8080/"
        },
        "id": "92vp0CJKCNUy",
        "outputId": "48799fe4-7d46-4c2a-bacf-6cd53deed519"
      },
      "execution_count": null,
      "outputs": [
        {
          "output_type": "execute_result",
          "data": {
            "text/plain": [
              "array([[1, 0, 0, 0, 0, 0],\n",
              "       [0, 1, 0, 0, 0, 0],\n",
              "       [0, 0, 1, 0, 0, 0],\n",
              "       [0, 0, 0, 1, 0, 0],\n",
              "       [0, 0, 0, 0, 1, 0],\n",
              "       [0, 0, 0, 0, 0, 1]])"
            ]
          },
          "metadata": {},
          "execution_count": 63
        }
      ]
    },
    {
      "cell_type": "code",
      "source": [
        "H = createH(X.copy(), I.copy(), n, lead)\n",
        "H"
      ],
      "metadata": {
        "colab": {
          "base_uri": "https://localhost:8080/"
        },
        "id": "Trbu4p7nCWi3",
        "outputId": "a9baca52-2be7-4189-df0f-86de1bb5cf94"
      },
      "execution_count": null,
      "outputs": [
        {
          "output_type": "execute_result",
          "data": {
            "text/plain": [
              "array([[0, 1, 1, 1, 1, 0],\n",
              "       [1, 0, 0, 0, 0, 0],\n",
              "       [0, 1, 0, 0, 0, 0],\n",
              "       [0, 0, 1, 0, 1, 1],\n",
              "       [0, 0, 0, 1, 0, 1],\n",
              "       [0, 0, 1, 0, 0, 0],\n",
              "       [0, 0, 0, 0, 1, 0],\n",
              "       [0, 0, 0, 1, 0, 0],\n",
              "       [0, 0, 0, 0, 1, 1],\n",
              "       [0, 0, 0, 0, 1, 0],\n",
              "       [0, 0, 0, 0, 0, 1]])"
            ]
          },
          "metadata": {},
          "execution_count": 64
        }
      ]
    },
    {
      "cell_type": "markdown",
      "source": [
        "1.4.2 Взять все двоичные слова длины k, умножить каждое на G."
      ],
      "metadata": {
        "id": "1CZWVIIv0SLG"
      }
    },
    {
      "cell_type": "code",
      "source": [
        "# создаём все возможные слова длинной k\n",
        "all_words_k = createAllWordsLengthK(k)\n",
        "all_words_k"
      ],
      "metadata": {
        "colab": {
          "base_uri": "https://localhost:8080/"
        },
        "id": "wv5SYkTfCgNp",
        "outputId": "ee668b68-5d45-41d9-963e-a3e53e1af891"
      },
      "execution_count": null,
      "outputs": [
        {
          "output_type": "execute_result",
          "data": {
            "text/plain": [
              "array([[0, 0, 0, 0, 0],\n",
              "       [0, 0, 0, 0, 1],\n",
              "       [0, 0, 0, 1, 0],\n",
              "       [0, 0, 0, 1, 1],\n",
              "       [0, 0, 1, 0, 0],\n",
              "       [0, 0, 1, 0, 1],\n",
              "       [0, 0, 1, 1, 0],\n",
              "       [0, 0, 1, 1, 1],\n",
              "       [0, 1, 0, 0, 0],\n",
              "       [0, 1, 0, 0, 1],\n",
              "       [0, 1, 0, 1, 0],\n",
              "       [0, 1, 0, 1, 1],\n",
              "       [0, 1, 1, 0, 0],\n",
              "       [0, 1, 1, 0, 1],\n",
              "       [0, 1, 1, 1, 0],\n",
              "       [0, 1, 1, 1, 1],\n",
              "       [1, 0, 0, 0, 0],\n",
              "       [1, 0, 0, 0, 1],\n",
              "       [1, 0, 0, 1, 0],\n",
              "       [1, 0, 0, 1, 1],\n",
              "       [1, 0, 1, 0, 0],\n",
              "       [1, 0, 1, 0, 1],\n",
              "       [1, 0, 1, 1, 0],\n",
              "       [1, 0, 1, 1, 1],\n",
              "       [1, 1, 0, 0, 0],\n",
              "       [1, 1, 0, 0, 1],\n",
              "       [1, 1, 0, 1, 0],\n",
              "       [1, 1, 0, 1, 1],\n",
              "       [1, 1, 1, 0, 0],\n",
              "       [1, 1, 1, 0, 1],\n",
              "       [1, 1, 1, 1, 0],\n",
              "       [1, 1, 1, 1, 1]])"
            ]
          },
          "metadata": {},
          "execution_count": 65
        }
      ]
    },
    {
      "cell_type": "code",
      "source": [
        "# создадим все кодовые слова вторым способом\n",
        "C = np.dot(all_words_k, G) % 2\n",
        "C"
      ],
      "metadata": {
        "colab": {
          "base_uri": "https://localhost:8080/"
        },
        "id": "sQzoSrxKEA24",
        "outputId": "69fcbca2-2871-4696-a093-8bbac30f38ff"
      },
      "execution_count": null,
      "outputs": [
        {
          "output_type": "execute_result",
          "data": {
            "text/plain": [
              "array([[0, 0, 0, 0, 0, 0, 0, 0, 0, 0, 0],\n",
              "       [0, 0, 0, 0, 0, 0, 0, 0, 1, 1, 1],\n",
              "       [0, 0, 0, 0, 0, 0, 1, 0, 0, 1, 0],\n",
              "       [0, 0, 0, 0, 0, 0, 1, 0, 1, 0, 1],\n",
              "       [0, 0, 0, 0, 1, 0, 0, 1, 0, 0, 1],\n",
              "       [0, 0, 0, 0, 1, 0, 0, 1, 1, 1, 0],\n",
              "       [0, 0, 0, 0, 1, 0, 1, 1, 0, 1, 1],\n",
              "       [0, 0, 0, 0, 1, 0, 1, 1, 1, 0, 0],\n",
              "       [0, 0, 0, 1, 1, 1, 0, 1, 0, 1, 0],\n",
              "       [0, 0, 0, 1, 1, 1, 0, 1, 1, 0, 1],\n",
              "       [0, 0, 0, 1, 1, 1, 1, 1, 0, 0, 0],\n",
              "       [0, 0, 0, 1, 1, 1, 1, 1, 1, 1, 1],\n",
              "       [0, 0, 0, 1, 0, 1, 0, 0, 0, 1, 1],\n",
              "       [0, 0, 0, 1, 0, 1, 0, 0, 1, 0, 0],\n",
              "       [0, 0, 0, 1, 0, 1, 1, 0, 0, 0, 1],\n",
              "       [0, 0, 0, 1, 0, 1, 1, 0, 1, 1, 0],\n",
              "       [1, 0, 1, 1, 0, 0, 0, 1, 0, 0, 1],\n",
              "       [1, 0, 1, 1, 0, 0, 0, 1, 1, 1, 0],\n",
              "       [1, 0, 1, 1, 0, 0, 1, 1, 0, 1, 1],\n",
              "       [1, 0, 1, 1, 0, 0, 1, 1, 1, 0, 0],\n",
              "       [1, 0, 1, 1, 1, 0, 0, 0, 0, 0, 0],\n",
              "       [1, 0, 1, 1, 1, 0, 0, 0, 1, 1, 1],\n",
              "       [1, 0, 1, 1, 1, 0, 1, 0, 0, 1, 0],\n",
              "       [1, 0, 1, 1, 1, 0, 1, 0, 1, 0, 1],\n",
              "       [1, 0, 1, 0, 1, 1, 0, 0, 0, 1, 1],\n",
              "       [1, 0, 1, 0, 1, 1, 0, 0, 1, 0, 0],\n",
              "       [1, 0, 1, 0, 1, 1, 1, 0, 0, 0, 1],\n",
              "       [1, 0, 1, 0, 1, 1, 1, 0, 1, 1, 0],\n",
              "       [1, 0, 1, 0, 0, 1, 0, 1, 0, 1, 0],\n",
              "       [1, 0, 1, 0, 0, 1, 0, 1, 1, 0, 1],\n",
              "       [1, 0, 1, 0, 0, 1, 1, 1, 0, 0, 0],\n",
              "       [1, 0, 1, 0, 0, 1, 1, 1, 1, 1, 1]])"
            ]
          },
          "metadata": {},
          "execution_count": 66
        }
      ]
    },
    {
      "cell_type": "markdown",
      "source": [
        "1.4.1 Сложить все слова из порождающего множества, оставить\n",
        "неповторяющиеся."
      ],
      "metadata": {
        "id": "9edVvrd00Wke"
      }
    },
    {
      "cell_type": "code",
      "source": [
        "# создадим все кодовые слова первым способом\n",
        "C2 = createCodeWordsLengthN(G, k)\n",
        "C2"
      ],
      "metadata": {
        "colab": {
          "base_uri": "https://localhost:8080/"
        },
        "id": "aCOz4L0Gp57Z",
        "outputId": "baf78db6-cb45-4256-8c57-02c747ea29a0"
      },
      "execution_count": null,
      "outputs": [
        {
          "output_type": "execute_result",
          "data": {
            "text/plain": [
              "array([[0, 0, 0, 0, 0, 0, 0, 0, 0, 0, 0],\n",
              "       [1, 0, 1, 1, 0, 0, 0, 1, 0, 0, 1],\n",
              "       [0, 0, 0, 1, 1, 1, 0, 1, 0, 1, 0],\n",
              "       [0, 0, 0, 0, 1, 0, 0, 1, 0, 0, 1],\n",
              "       [0, 0, 0, 0, 0, 0, 1, 0, 0, 1, 0],\n",
              "       [0, 0, 0, 0, 0, 0, 0, 0, 1, 1, 1],\n",
              "       [1, 0, 1, 0, 1, 1, 0, 0, 0, 1, 1],\n",
              "       [1, 0, 1, 1, 1, 0, 0, 0, 0, 0, 0],\n",
              "       [1, 0, 1, 1, 0, 0, 1, 1, 0, 1, 1],\n",
              "       [1, 0, 1, 1, 0, 0, 0, 1, 1, 1, 0],\n",
              "       [0, 0, 0, 1, 0, 1, 0, 0, 0, 1, 1],\n",
              "       [0, 0, 0, 1, 1, 1, 1, 1, 0, 0, 0],\n",
              "       [0, 0, 0, 1, 1, 1, 0, 1, 1, 0, 1],\n",
              "       [0, 0, 0, 0, 1, 0, 1, 1, 0, 1, 1],\n",
              "       [0, 0, 0, 0, 1, 0, 0, 1, 1, 1, 0],\n",
              "       [0, 0, 0, 0, 0, 0, 1, 0, 1, 0, 1],\n",
              "       [1, 0, 1, 0, 0, 1, 0, 1, 0, 1, 0],\n",
              "       [1, 0, 1, 0, 1, 1, 1, 0, 0, 0, 1],\n",
              "       [1, 0, 1, 0, 1, 1, 0, 0, 1, 0, 0],\n",
              "       [1, 0, 1, 1, 1, 0, 1, 0, 0, 1, 0],\n",
              "       [1, 0, 1, 1, 1, 0, 0, 0, 1, 1, 1],\n",
              "       [1, 0, 1, 1, 0, 0, 1, 1, 1, 0, 0],\n",
              "       [0, 0, 0, 1, 0, 1, 1, 0, 0, 0, 1],\n",
              "       [0, 0, 0, 1, 0, 1, 0, 0, 1, 0, 0],\n",
              "       [0, 0, 0, 1, 1, 1, 1, 1, 1, 1, 1],\n",
              "       [0, 0, 0, 0, 1, 0, 1, 1, 1, 0, 0],\n",
              "       [1, 0, 1, 0, 0, 1, 1, 1, 0, 0, 0],\n",
              "       [1, 0, 1, 0, 0, 1, 0, 1, 1, 0, 1],\n",
              "       [1, 0, 1, 0, 1, 1, 1, 0, 1, 1, 0],\n",
              "       [1, 0, 1, 1, 1, 0, 1, 0, 1, 0, 1],\n",
              "       [0, 0, 0, 1, 0, 1, 1, 0, 1, 1, 0],\n",
              "       [1, 0, 1, 0, 0, 1, 1, 1, 1, 1, 1]])"
            ]
          },
          "metadata": {},
          "execution_count": 67
        }
      ]
    },
    {
      "cell_type": "code",
      "source": [
        " # проверим равенство\n",
        "comparison(C, C2)"
      ],
      "metadata": {
        "colab": {
          "base_uri": "https://localhost:8080/"
        },
        "id": "ZxXb9M6WqGpi",
        "outputId": "cdec22e9-b7a9-4077-8be9-b548e9f06657"
      },
      "execution_count": null,
      "outputs": [
        {
          "output_type": "execute_result",
          "data": {
            "text/plain": [
              "True"
            ]
          },
          "metadata": {},
          "execution_count": 68
        }
      ]
    },
    {
      "cell_type": "code",
      "source": [
        "# проверим все кодовые слова, умножив их на проверочную матрицу (должна получиться матрица из нулей)\n",
        "np.dot(C, H) % 2"
      ],
      "metadata": {
        "colab": {
          "base_uri": "https://localhost:8080/"
        },
        "id": "ad2YrtWJqO2E",
        "outputId": "a88f6380-7ca6-4ef0-c866-689b0225a6d7"
      },
      "execution_count": null,
      "outputs": [
        {
          "output_type": "execute_result",
          "data": {
            "text/plain": [
              "array([[0, 0, 0, 0, 0, 0],\n",
              "       [0, 0, 0, 0, 0, 0],\n",
              "       [0, 0, 0, 0, 0, 0],\n",
              "       [0, 0, 0, 0, 0, 0],\n",
              "       [0, 0, 0, 0, 0, 0],\n",
              "       [0, 0, 0, 0, 0, 0],\n",
              "       [0, 0, 0, 0, 0, 0],\n",
              "       [0, 0, 0, 0, 0, 0],\n",
              "       [0, 0, 0, 0, 0, 0],\n",
              "       [0, 0, 0, 0, 0, 0],\n",
              "       [0, 0, 0, 0, 0, 0],\n",
              "       [0, 0, 0, 0, 0, 0],\n",
              "       [0, 0, 0, 0, 0, 0],\n",
              "       [0, 0, 0, 0, 0, 0],\n",
              "       [0, 0, 0, 0, 0, 0],\n",
              "       [0, 0, 0, 0, 0, 0],\n",
              "       [0, 0, 0, 0, 0, 0],\n",
              "       [0, 0, 0, 0, 0, 0],\n",
              "       [0, 0, 0, 0, 0, 0],\n",
              "       [0, 0, 0, 0, 0, 0],\n",
              "       [0, 0, 0, 0, 0, 0],\n",
              "       [0, 0, 0, 0, 0, 0],\n",
              "       [0, 0, 0, 0, 0, 0],\n",
              "       [0, 0, 0, 0, 0, 0],\n",
              "       [0, 0, 0, 0, 0, 0],\n",
              "       [0, 0, 0, 0, 0, 0],\n",
              "       [0, 0, 0, 0, 0, 0],\n",
              "       [0, 0, 0, 0, 0, 0],\n",
              "       [0, 0, 0, 0, 0, 0],\n",
              "       [0, 0, 0, 0, 0, 0],\n",
              "       [0, 0, 0, 0, 0, 0],\n",
              "       [0, 0, 0, 0, 0, 0]])"
            ]
          },
          "metadata": {},
          "execution_count": 69
        }
      ]
    },
    {
      "cell_type": "markdown",
      "source": [
        "1.4 Вычислить кодовое расстояние получившегося кода."
      ],
      "metadata": {
        "id": "txrsNKon0dyX"
      }
    },
    {
      "cell_type": "code",
      "source": [
        "# найдём кодовое расстояние и максимальную кратность обнаруживаемой ошибки\n",
        "d, t = findCodeDistance(C)\n",
        "d, t"
      ],
      "metadata": {
        "colab": {
          "base_uri": "https://localhost:8080/"
        },
        "id": "mmqiy0Gdqcfr",
        "outputId": "7195d50f-2d62-4ce8-bc63-1ff0ac3a1e04"
      },
      "execution_count": null,
      "outputs": [
        {
          "output_type": "execute_result",
          "data": {
            "text/plain": [
              "(2, 1)"
            ]
          },
          "metadata": {},
          "execution_count": 70
        }
      ]
    },
    {
      "cell_type": "markdown",
      "source": [
        "1.4.1 Внести в кодовое слово ошибку кратности не более t, умножить\n",
        "полученное слово на H, убедиться в обнаружении ошибки."
      ],
      "metadata": {
        "id": "TGl_zo6q0wrP"
      }
    },
    {
      "cell_type": "code",
      "source": [
        "e1 = np.array([0, 0, 0, 0, 0, 0, 1, 0, 0, 0, 0])\n",
        "C_ =  np.dot(C.copy() + e1, H) % 2  # тут вносим ошибку кратности t во все кодовые слова для проверки\n",
        "C_  # должен получиться массив, каждая из строчек которого содержит хотя бы одну единицу"
      ],
      "metadata": {
        "colab": {
          "base_uri": "https://localhost:8080/"
        },
        "id": "K5_DpTwsqvaQ",
        "outputId": "1a9c17c6-38ce-46a8-8bc8-5bbf3b90c287"
      },
      "execution_count": null,
      "outputs": [
        {
          "output_type": "execute_result",
          "data": {
            "text/plain": [
              "array([[0, 0, 0, 0, 1, 0],\n",
              "       [0, 0, 0, 0, 1, 0],\n",
              "       [0, 0, 0, 0, 1, 0],\n",
              "       [0, 0, 0, 0, 1, 0],\n",
              "       [0, 0, 0, 0, 1, 0],\n",
              "       [0, 0, 0, 0, 1, 0],\n",
              "       [0, 0, 0, 0, 1, 0],\n",
              "       [0, 0, 0, 0, 1, 0],\n",
              "       [0, 0, 0, 0, 1, 0],\n",
              "       [0, 0, 0, 0, 1, 0],\n",
              "       [0, 0, 0, 0, 1, 0],\n",
              "       [0, 0, 0, 0, 1, 0],\n",
              "       [0, 0, 0, 0, 1, 0],\n",
              "       [0, 0, 0, 0, 1, 0],\n",
              "       [0, 0, 0, 0, 1, 0],\n",
              "       [0, 0, 0, 0, 1, 0],\n",
              "       [0, 0, 0, 0, 1, 0],\n",
              "       [0, 0, 0, 0, 1, 0],\n",
              "       [0, 0, 0, 0, 1, 0],\n",
              "       [0, 0, 0, 0, 1, 0],\n",
              "       [0, 0, 0, 0, 1, 0],\n",
              "       [0, 0, 0, 0, 1, 0],\n",
              "       [0, 0, 0, 0, 1, 0],\n",
              "       [0, 0, 0, 0, 1, 0],\n",
              "       [0, 0, 0, 0, 1, 0],\n",
              "       [0, 0, 0, 0, 1, 0],\n",
              "       [0, 0, 0, 0, 1, 0],\n",
              "       [0, 0, 0, 0, 1, 0],\n",
              "       [0, 0, 0, 0, 1, 0],\n",
              "       [0, 0, 0, 0, 1, 0],\n",
              "       [0, 0, 0, 0, 1, 0],\n",
              "       [0, 0, 0, 0, 1, 0]])"
            ]
          },
          "metadata": {},
          "execution_count": 71
        }
      ]
    },
    {
      "cell_type": "markdown",
      "source": [
        "1.4.2 Найти для некоторого кодового слова ошибку кратности t+1 такую, что при умножении на H ошибка не может быть обнаружена."
      ],
      "metadata": {
        "id": "sCFCe1qW0-y8"
      }
    },
    {
      "cell_type": "code",
      "source": [
        "e2 = np.array([0, 0, 0, 0, 0, 0, 1, 0, 0, 1, 0])\n",
        "v = S[1].copy()\n",
        "v += e2\n",
        "np.dot(v, H) % 2"
      ],
      "metadata": {
        "colab": {
          "base_uri": "https://localhost:8080/"
        },
        "id": "VZ8aq6N3tSZe",
        "outputId": "efdc9f2a-ede3-451c-f3d1-88fe916fdf12"
      },
      "execution_count": null,
      "outputs": [
        {
          "output_type": "execute_result",
          "data": {
            "text/plain": [
              "array([0, 0, 0, 0, 0, 0])"
            ]
          },
          "metadata": {},
          "execution_count": 72
        }
      ]
    }
  ]
}