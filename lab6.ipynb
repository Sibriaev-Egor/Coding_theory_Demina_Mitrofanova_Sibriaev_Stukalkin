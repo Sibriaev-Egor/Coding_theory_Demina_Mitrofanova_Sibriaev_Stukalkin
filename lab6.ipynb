{
  "nbformat": 4,
  "nbformat_minor": 0,
  "metadata": {
    "colab": {
      "provenance": []
    },
    "kernelspec": {
      "name": "python3",
      "display_name": "Python 3"
    },
    "language_info": {
      "name": "python"
    }
  },
  "cells": [
    {
      "cell_type": "code",
      "execution_count": 350,
      "metadata": {
        "id": "bn4NLRw8yp48"
      },
      "outputs": [],
      "source": [
        "import numpy as np\n",
        "import itertools as iter"
      ]
    },
    {
      "cell_type": "code",
      "source": [
        "def create_G(n, m, g_x):\n",
        "    G = np.zeros((m, n), dtype=int)\n",
        "    for i in range(m):\n",
        "        G[i, i: i + g_x.size] = g_x\n",
        "    for i in range(1, m):\n",
        "        for j in range(i):\n",
        "            if G[j][i] == 1:\n",
        "                G[j] ^= G[i]\n",
        "    return G"
      ],
      "metadata": {
        "id": "e3rCEz7uy3F6"
      },
      "execution_count": 351,
      "outputs": []
    },
    {
      "cell_type": "code",
      "source": [
        "# функция представляет бинарный полином a0 + a1*x + ... + an*x^n в виде a0 + a1*2**1 + ... + an*2**n для работы с полиномом как с числом\n",
        "def vec_to_num(v):\n",
        "    return (np.array([2 ** i for i in range(v.size)]) * v).sum()"
      ],
      "metadata": {
        "id": "xLbjmI2MK4Z7"
      },
      "execution_count": 352,
      "outputs": []
    },
    {
      "cell_type": "code",
      "source": [
        "# ищем остаток от деления одного бинарного полинома на другой\n",
        "def find_remainder(bin_pol_num_1, bin_pol_num_2, n, m):\n",
        "    bin_pol_num_2 <<= m\n",
        "    for i in range(1, m + 1):\n",
        "        bin_pol_num_2 >>= 1\n",
        "        if bin_pol_num_1 >= 1 << (n - i):\n",
        "            bin_pol_num_1 ^= bin_pol_num_2\n",
        "    return bin_pol_num_1"
      ],
      "metadata": {
        "id": "F6StLLnl4YP-"
      },
      "execution_count": 353,
      "outputs": []
    },
    {
      "cell_type": "code",
      "source": [
        "def decode_word(w, m, t, g_x_num):\n",
        "    n = w.size\n",
        "    w_num = vec_to_num(w)\n",
        "    w_num = find_remainder(w_num, g_x_num, n, m)  # находим синдром 𝑠(𝑥) = 𝑤(𝑥)𝑚𝑜𝑑 𝑔(𝑥)\n",
        "    if w_num == 0:\n",
        "        return w.copy()[:m]\n",
        "    k = 0\n",
        "    # находим нужный синдром из множества E. В k параллельно записываем индекс начала пакета ошибок\n",
        "    while k > -n:\n",
        "        if w_num < 1 << t and w_num % 2 == 1:  #\n",
        "            break\n",
        "        w_num <<= 1\n",
        "        if w_num >= 1 << (n - m):\n",
        "            w_num ^= g_x_num\n",
        "        k -= 1\n",
        "    # восстанавливаем полученное закодированное сообщение\n",
        "    w_fix = w.copy()\n",
        "    while w_num != 0:\n",
        "        if w_num % 2 == 1:\n",
        "            w_fix[k] ^= 1\n",
        "        k += 1\n",
        "        w_num >>= 1\n",
        "    return w_fix[:m]"
      ],
      "metadata": {
        "id": "KA_J-YYNoxVx"
      },
      "execution_count": 354,
      "outputs": []
    },
    {
      "cell_type": "markdown",
      "source": [
        "**(7,4)**"
      ],
      "metadata": {
        "id": "bt-HHarty9bc"
      }
    },
    {
      "cell_type": "code",
      "source": [
        "n = 7\n",
        "m = 4\n",
        "t = 1\n",
        "g_x = np.array([1, 0, 1, 1])\n",
        "g_x_num = vec_to_num(g_x)\n",
        "g_x_num"
      ],
      "metadata": {
        "colab": {
          "base_uri": "https://localhost:8080/"
        },
        "id": "zS0xP7hEy_0W",
        "outputId": "71c28ace-337c-4786-a7c2-47f2665590a9"
      },
      "execution_count": 355,
      "outputs": [
        {
          "output_type": "execute_result",
          "data": {
            "text/plain": [
              "13"
            ]
          },
          "metadata": {},
          "execution_count": 355
        }
      ]
    },
    {
      "cell_type": "code",
      "source": [
        "G = create_G(n, m, g_x)\n",
        "G"
      ],
      "metadata": {
        "colab": {
          "base_uri": "https://localhost:8080/"
        },
        "id": "JmprszwQAegM",
        "outputId": "8655800d-ed47-493a-a97c-fc7710563b1d"
      },
      "execution_count": 356,
      "outputs": [
        {
          "output_type": "execute_result",
          "data": {
            "text/plain": [
              "array([[1, 0, 0, 0, 1, 0, 1],\n",
              "       [0, 1, 0, 0, 1, 1, 1],\n",
              "       [0, 0, 1, 0, 1, 1, 0],\n",
              "       [0, 0, 0, 1, 0, 1, 1]])"
            ]
          },
          "metadata": {},
          "execution_count": 356
        }
      ]
    },
    {
      "cell_type": "code",
      "source": [
        "word = np.array([1, 0, 0, 1])\n",
        "v = np.dot(word, G) % 2\n",
        "v"
      ],
      "metadata": {
        "colab": {
          "base_uri": "https://localhost:8080/"
        },
        "id": "_yOTMLmqCOOK",
        "outputId": "47994128-ec80-4b20-99f4-6b85686f8c49"
      },
      "execution_count": 357,
      "outputs": [
        {
          "output_type": "execute_result",
          "data": {
            "text/plain": [
              "array([1, 0, 0, 1, 1, 1, 0])"
            ]
          },
          "metadata": {},
          "execution_count": 357
        }
      ]
    },
    {
      "cell_type": "code",
      "source": [
        "err2 = np.zeros_like(v, dtype=int)\n",
        "err2[1] = err2[2] = 1\n",
        "err3 = err2.copy()\n",
        "err3[3] = 1"
      ],
      "metadata": {
        "id": "1EG5x7YTJHJf"
      },
      "execution_count": 358,
      "outputs": []
    },
    {
      "cell_type": "code",
      "source": [
        "w_err2 = v ^ err2\n",
        "w_err3 = v ^ err3\n",
        "w_err1_array = [v.copy() ^ err1 for err1 in np.eye(n, dtype=int)]\n",
        "w_err1_array"
      ],
      "metadata": {
        "colab": {
          "base_uri": "https://localhost:8080/"
        },
        "id": "y_TgpZJcqM2-",
        "outputId": "774c93e1-bf1f-42c9-b620-185368ae4273"
      },
      "execution_count": 359,
      "outputs": [
        {
          "output_type": "execute_result",
          "data": {
            "text/plain": [
              "[array([0, 0, 0, 1, 1, 1, 0]),\n",
              " array([1, 1, 0, 1, 1, 1, 0]),\n",
              " array([1, 0, 1, 1, 1, 1, 0]),\n",
              " array([1, 0, 0, 0, 1, 1, 0]),\n",
              " array([1, 0, 0, 1, 0, 1, 0]),\n",
              " array([1, 0, 0, 1, 1, 0, 0]),\n",
              " array([1, 0, 0, 1, 1, 1, 1])]"
            ]
          },
          "metadata": {},
          "execution_count": 359
        }
      ]
    },
    {
      "cell_type": "code",
      "source": [
        "dec_word = decode_word(v, m, t, g_x_num)\n",
        "np.array_equal(dec_word, word)"
      ],
      "metadata": {
        "colab": {
          "base_uri": "https://localhost:8080/"
        },
        "id": "RvX2eFIs6dvG",
        "outputId": "2ba75047-6182-437d-9c2f-a902e7b20e2d"
      },
      "execution_count": 360,
      "outputs": [
        {
          "output_type": "execute_result",
          "data": {
            "text/plain": [
              "True"
            ]
          },
          "metadata": {},
          "execution_count": 360
        }
      ]
    },
    {
      "cell_type": "code",
      "source": [
        "for w in w_err1_array:\n",
        "    dec_word = decode_word(w, m, t, g_x_num)\n",
        "    print(np.array_equal(dec_word, word))"
      ],
      "metadata": {
        "colab": {
          "base_uri": "https://localhost:8080/"
        },
        "id": "x079qu4gw8oU",
        "outputId": "a6b77cfb-4006-47a1-a63b-ca318838c69a"
      },
      "execution_count": 361,
      "outputs": [
        {
          "output_type": "stream",
          "name": "stdout",
          "text": [
            "True\n",
            "True\n",
            "True\n",
            "True\n",
            "True\n",
            "True\n",
            "True\n"
          ]
        }
      ]
    },
    {
      "cell_type": "code",
      "source": [
        "dec_word = decode_word(w_err2, m, t, g_x_num)\n",
        "np.array_equal(dec_word, word)"
      ],
      "metadata": {
        "colab": {
          "base_uri": "https://localhost:8080/"
        },
        "id": "BDeNL_Ti65oI",
        "outputId": "3bb99bf7-2964-433d-aa1e-d5c17b5b6134"
      },
      "execution_count": 362,
      "outputs": [
        {
          "output_type": "execute_result",
          "data": {
            "text/plain": [
              "False"
            ]
          },
          "metadata": {},
          "execution_count": 362
        }
      ]
    },
    {
      "cell_type": "code",
      "source": [
        "dec_word = decode_word(w_err3, m, t, g_x_num)\n",
        "np.array_equal(dec_word, word)"
      ],
      "metadata": {
        "colab": {
          "base_uri": "https://localhost:8080/"
        },
        "id": "oVZSkWIK7J4O",
        "outputId": "631fa94b-7bb3-4796-9dae-150233e32ddc"
      },
      "execution_count": 363,
      "outputs": [
        {
          "output_type": "execute_result",
          "data": {
            "text/plain": [
              "False"
            ]
          },
          "metadata": {},
          "execution_count": 363
        }
      ]
    },
    {
      "cell_type": "markdown",
      "source": [
        "**(15,9)**"
      ],
      "metadata": {
        "id": "WDi8sl5Q_8Bo"
      }
    },
    {
      "cell_type": "code",
      "source": [
        "n = 15\n",
        "m = 9\n",
        "t = 3\n",
        "g_x = np.array([1, 1, 1, 1, 0, 0, 1])\n",
        "g_x_num = vec_to_num(g_x)\n",
        "g_x_num"
      ],
      "metadata": {
        "colab": {
          "base_uri": "https://localhost:8080/"
        },
        "id": "Rds9_-P7AB0W",
        "outputId": "ccad97b1-273e-4e01-be80-b104703e97c1"
      },
      "execution_count": 364,
      "outputs": [
        {
          "output_type": "execute_result",
          "data": {
            "text/plain": [
              "79"
            ]
          },
          "metadata": {},
          "execution_count": 364
        }
      ]
    },
    {
      "cell_type": "code",
      "source": [
        "G = create_G(n, m, g_x)\n",
        "G"
      ],
      "metadata": {
        "colab": {
          "base_uri": "https://localhost:8080/"
        },
        "id": "_DE-4VXLAT_d",
        "outputId": "48f5b8a0-d8f4-4c09-9e77-8aec3edd0cf7"
      },
      "execution_count": 365,
      "outputs": [
        {
          "output_type": "execute_result",
          "data": {
            "text/plain": [
              "array([[1, 0, 0, 0, 0, 0, 0, 0, 0, 1, 1, 1, 1, 0, 0],\n",
              "       [0, 1, 0, 0, 0, 0, 0, 0, 0, 0, 1, 1, 1, 1, 0],\n",
              "       [0, 0, 1, 0, 0, 0, 0, 0, 0, 0, 0, 1, 1, 1, 1],\n",
              "       [0, 0, 0, 1, 0, 0, 0, 0, 0, 1, 1, 1, 0, 1, 1],\n",
              "       [0, 0, 0, 0, 1, 0, 0, 0, 0, 1, 0, 0, 0, 0, 1],\n",
              "       [0, 0, 0, 0, 0, 1, 0, 0, 0, 1, 0, 1, 1, 0, 0],\n",
              "       [0, 0, 0, 0, 0, 0, 1, 0, 0, 0, 1, 0, 1, 1, 0],\n",
              "       [0, 0, 0, 0, 0, 0, 0, 1, 0, 0, 0, 1, 0, 1, 1],\n",
              "       [0, 0, 0, 0, 0, 0, 0, 0, 1, 1, 1, 1, 0, 0, 1]])"
            ]
          },
          "metadata": {},
          "execution_count": 365
        }
      ]
    },
    {
      "cell_type": "code",
      "source": [
        "word = np.array([1, 1, 1, 0, 0, 0, 0, 0, 0])\n",
        "v = np.dot(word, G) % 2\n",
        "v"
      ],
      "metadata": {
        "colab": {
          "base_uri": "https://localhost:8080/"
        },
        "id": "gzdyTyhBBZWM",
        "outputId": "e48cd0aa-fcc1-4ea8-f2bb-ac0b665fb184"
      },
      "execution_count": 366,
      "outputs": [
        {
          "output_type": "execute_result",
          "data": {
            "text/plain": [
              "array([1, 1, 1, 0, 0, 0, 0, 0, 0, 1, 0, 1, 1, 0, 1])"
            ]
          },
          "metadata": {},
          "execution_count": 366
        }
      ]
    },
    {
      "cell_type": "code",
      "source": [
        "err2 = np.zeros_like(v, dtype=int)\n",
        "err2[1] = err2[2] = 1\n",
        "err3 = err2.copy()\n",
        "err3[3] = 1\n",
        "err4 = np.zeros_like(v, dtype=int)\n",
        "err4[6] = err4[7] = err4[9] = 1"
      ],
      "metadata": {
        "id": "ncHaAC7lBgcJ"
      },
      "execution_count": 367,
      "outputs": []
    },
    {
      "cell_type": "code",
      "source": [
        "w_err2 = v ^ err2\n",
        "w_err3 = v ^ err3\n",
        "w_err4 = v ^ err4\n",
        "w_err1_array = [v.copy() ^ err1 for err1 in np.eye(n, dtype=int)]\n",
        "w_err1_array"
      ],
      "metadata": {
        "colab": {
          "base_uri": "https://localhost:8080/"
        },
        "id": "DSuBOfW8BoPw",
        "outputId": "df6af31e-5b08-4165-9d77-20cd8d43a63d"
      },
      "execution_count": 368,
      "outputs": [
        {
          "output_type": "execute_result",
          "data": {
            "text/plain": [
              "[array([0, 1, 1, 0, 0, 0, 0, 0, 0, 1, 0, 1, 1, 0, 1]),\n",
              " array([1, 0, 1, 0, 0, 0, 0, 0, 0, 1, 0, 1, 1, 0, 1]),\n",
              " array([1, 1, 0, 0, 0, 0, 0, 0, 0, 1, 0, 1, 1, 0, 1]),\n",
              " array([1, 1, 1, 1, 0, 0, 0, 0, 0, 1, 0, 1, 1, 0, 1]),\n",
              " array([1, 1, 1, 0, 1, 0, 0, 0, 0, 1, 0, 1, 1, 0, 1]),\n",
              " array([1, 1, 1, 0, 0, 1, 0, 0, 0, 1, 0, 1, 1, 0, 1]),\n",
              " array([1, 1, 1, 0, 0, 0, 1, 0, 0, 1, 0, 1, 1, 0, 1]),\n",
              " array([1, 1, 1, 0, 0, 0, 0, 1, 0, 1, 0, 1, 1, 0, 1]),\n",
              " array([1, 1, 1, 0, 0, 0, 0, 0, 1, 1, 0, 1, 1, 0, 1]),\n",
              " array([1, 1, 1, 0, 0, 0, 0, 0, 0, 0, 0, 1, 1, 0, 1]),\n",
              " array([1, 1, 1, 0, 0, 0, 0, 0, 0, 1, 1, 1, 1, 0, 1]),\n",
              " array([1, 1, 1, 0, 0, 0, 0, 0, 0, 1, 0, 0, 1, 0, 1]),\n",
              " array([1, 1, 1, 0, 0, 0, 0, 0, 0, 1, 0, 1, 0, 0, 1]),\n",
              " array([1, 1, 1, 0, 0, 0, 0, 0, 0, 1, 0, 1, 1, 1, 1]),\n",
              " array([1, 1, 1, 0, 0, 0, 0, 0, 0, 1, 0, 1, 1, 0, 0])]"
            ]
          },
          "metadata": {},
          "execution_count": 368
        }
      ]
    },
    {
      "cell_type": "code",
      "source": [
        "dec_word = decode_word(v, m, t, g_x_num)\n",
        "np.array_equal(dec_word, word)"
      ],
      "metadata": {
        "colab": {
          "base_uri": "https://localhost:8080/"
        },
        "id": "6x27FDumBuED",
        "outputId": "17e90b7d-f723-4498-f1d0-7eea14502df6"
      },
      "execution_count": 369,
      "outputs": [
        {
          "output_type": "execute_result",
          "data": {
            "text/plain": [
              "True"
            ]
          },
          "metadata": {},
          "execution_count": 369
        }
      ]
    },
    {
      "cell_type": "code",
      "source": [
        "for w in w_err1_array:\n",
        "    dec_word = decode_word(w, m, t, g_x_num)\n",
        "    print(np.array_equal(dec_word, word))"
      ],
      "metadata": {
        "colab": {
          "base_uri": "https://localhost:8080/"
        },
        "id": "em0CdTmJB5Oj",
        "outputId": "7a8e2bc7-26b0-4068-c1e9-640a9043635a"
      },
      "execution_count": 370,
      "outputs": [
        {
          "output_type": "stream",
          "name": "stdout",
          "text": [
            "True\n",
            "True\n",
            "True\n",
            "True\n",
            "True\n",
            "True\n",
            "True\n",
            "True\n",
            "True\n",
            "True\n",
            "True\n",
            "True\n",
            "True\n",
            "True\n",
            "True\n"
          ]
        }
      ]
    },
    {
      "cell_type": "code",
      "source": [
        "dec_word = decode_word(w_err2, m, t, g_x_num)\n",
        "np.array_equal(dec_word, word)"
      ],
      "metadata": {
        "colab": {
          "base_uri": "https://localhost:8080/"
        },
        "id": "sNKIxALTEoF8",
        "outputId": "621c084b-3475-4eeb-e09f-c4d7137e42e5"
      },
      "execution_count": 371,
      "outputs": [
        {
          "output_type": "execute_result",
          "data": {
            "text/plain": [
              "True"
            ]
          },
          "metadata": {},
          "execution_count": 371
        }
      ]
    },
    {
      "cell_type": "code",
      "source": [
        "dec_word = decode_word(w_err3, m, t, g_x_num)\n",
        "np.array_equal(dec_word, word)"
      ],
      "metadata": {
        "colab": {
          "base_uri": "https://localhost:8080/"
        },
        "id": "Hm4IHsVaFE7K",
        "outputId": "bba55cb4-b6f7-4c61-8f5f-5aefc625c628"
      },
      "execution_count": 372,
      "outputs": [
        {
          "output_type": "execute_result",
          "data": {
            "text/plain": [
              "True"
            ]
          },
          "metadata": {},
          "execution_count": 372
        }
      ]
    },
    {
      "cell_type": "code",
      "source": [
        "dec_word = decode_word(w_err4, m, t, g_x_num)\n",
        "np.array_equal(dec_word, word)"
      ],
      "metadata": {
        "colab": {
          "base_uri": "https://localhost:8080/"
        },
        "id": "RENDBp19FLDm",
        "outputId": "50ebe59e-39c5-4735-db99-6f0b9512a092"
      },
      "execution_count": 373,
      "outputs": [
        {
          "output_type": "execute_result",
          "data": {
            "text/plain": [
              "False"
            ]
          },
          "metadata": {},
          "execution_count": 373
        }
      ]
    }
  ]
}